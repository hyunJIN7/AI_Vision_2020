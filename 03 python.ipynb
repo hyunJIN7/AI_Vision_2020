{
 "cells": [
  {
   "cell_type": "markdown",
   "metadata": {},
   "source": [
    "# [AI 이노베이션 스퀘어] 12기 고급 시각반\n",
    "- github: https://github.com/hysKim1/AI_Vision\n",
    "    - [파이썬 공식문서]https://docs.python.org/ko/3/\n",
    "    - [Numpy 공식문서]https://numpy.org/devdocs/\n",
    "    - [ML]https://developers.google.com/machine-learning/crash-course/ml-intro?hl=ko\n",
    "    - [DL]https://www.tensorflow.org/?hl=ko\n",
    "---\n",
    "\n",
    "---\n",
    "\n",
    "### 강의 계획서 \n",
    "- python: 관련 프로그래밍\n",
    "- Numpy : array programming : 전처리\n",
    "- opencv: 이미지 관련 라이브 러리\n",
    "- DL : classificaion, localization, segmentation, generation models\n",
    "\n",
    "\n",
    "---\n",
    "\n",
    "[python의 class]( https://docs.python.org/ko/3/tutorial/classes.html ) 꼭 같이 읽기\n",
    "\n",
    "\n",
    "증심 내용 : oop\n",
    "\n",
    " * [영상 처리/딥러닝을 위한 Python Programming3](#영상-처리/딥러닝을-위한-Python-Programming3) \n",
    "      * [Functional Programming의 재사용](#재사용)\n",
    "      * 1.[object oriented prgramming(oop)](#1.-object-oriented-prgramming)\n",
    "          * 1.1[객체지향 재사용](#1.1-재사용)\n",
    "              * 1.1.1[재사용 위한 정의](#1.1.1-재사용-위한-정의)\n",
    "              * 1.1.2[재사용 방법](#1.1.2-재사용-방법)\n",
    "          * 1.2[식별자 예약 영역](#1.2-식별자-예약-영역)\n",
    "          * 1.3[class와 instance](#1.3-class와-instance)\n",
    "              * 1.3.1[class attribute](#1.3.1-class-attribute)\n",
    "              * 1.3.2[instance attribute](#1.3.2-instance-attribute)\n",
    "              * 1.3.3[class,instance 차이](#1.3.3-class,instance-차이점)\n",
    "              * 1.3.4[metaclass](#1.3.4-metaclass)\n",
    "              * 1.3.5[class method](#1.3.5-class method)\n",
    "              * 1.3.6[\\_\\_main__](#1.3.6-\\_\\_main__)\n",
    "              * 1.3.7[\\_](#1.3.7-\\_)\n",
    "              * 1.3.8[staticmethod](#1.3.8-staticmethod)\n",
    "              * 1.3.9[정리](#1.3.9-정리)\n",
    "          * 1.4[값 할당](#1.4-값-할당)\n",
    "          * 1.5[Namespaces](#1.5-Namespaces)\n",
    "           \n",
    "---\n",
    "\n"
   ]
  },
  {
   "cell_type": "markdown",
   "metadata": {},
   "source": [
    "# 영상 처리/딥러닝을 위한 Python Programming3\n"
   ]
  },
  {
   "cell_type": "markdown",
   "metadata": {},
   "source": [
    "들어가기전 간단 정리\n",
    "Functional Programming/Paradigm -> **재사용**이 가능해짐\n",
    "1. 빅데이터 관점에서 loop 없이 전체 데이터 조작 가능\n",
    "2. 인공지능 관점 이론과 실제의 간극을 줄여줌\n",
    "3. func를 인자로 받고 리턴할 수 있게 해줌 : higher other func\n",
    "<br>\n",
    "\n",
    "[파이썬의 클래스]( https://docs.python.org/ko/3/tutorial/classes.html )   \n",
    "클래스는 데이터 와 기능 을 함께 묶음\n",
    "클래스 만들어 놓는것은 형태를 만드는거지 객체(인스턴스) 생성해서 객체마다 상태 유지 위해 어트리뷰트 가지고,\n",
    "상태 바꾸기 위한 메소드도 가지고\n",
    "<br>\n",
    "\n",
    "\n",
    "## 재사용\n",
    "\n",
    "1. array programming: 빅데이터를 간략한 코드(loop,while 없이) 조작\n",
    "2. 인공지능(tf, pytorch) 관점에서 functional paradigm이 *이론과 실제의 간극을 줄여줌*\n",
    "    - 형식적 증명 가능성을 기반으로 하기 때문\n",
    "    - 수학 함수의 규칙에 맞춰야 함\n",
    "    - 숨어있는기법들 많음(wrapper이용 사이킷, 텐서플로우 연동)\n",
    "    \n",
    "1. higher order function\n",
    "    - function 은 행위만 관리 \n",
    "\n",
    "2.  obeject oriented programming\n",
    "    - oop가 같은 재사용이지만 데이터까지 같은 관점 encapsulation\n",
    "    - 기능,데이터값 encapsulation가능\n",
    "\n",
    "\n",
    "- 그대로 가져다 씀\n",
    "- 내가 변형해서 씀 : 상속\n",
    "\n",
    "\n",
    "3. - high order function : 첫번째 인자로 함수를 받음 <br>\n",
    "   - closure : 함수를 중첩하였을때 중첩된 내부함수가 외부함수의 변수의 의미를 지속 \n",
    " \n",
    "\n",
    " "
   ]
  },
  {
   "cell_type": "markdown",
   "metadata": {},
   "source": [
    "<참고>\n",
    "[Cola's post]( https://colah.github.io/posts/2015-09-NN-Types-FP/ )\n",
    "functional composition - 합성 합수\n",
    "- 왜 딥러닝에서 functional paradigm이 중요한지에 대한 post\n",
    "\n",
    "중요한 개념 3가지\n",
    "- functional paradigm \n",
    "- array programming\n",
    "- object oriented prgramming(oop) ->오늘 수업"
   ]
  },
  {
   "cell_type": "markdown",
   "metadata": {},
   "source": [
    "---\n",
    "\n",
    "## 1. object oriented prgramming\n",
    "- 객체지향, 1970년대부터 유행한 프로그래밍 패러다임\n",
    "- 대규모 분업화에 적합한 패러다임(다수의 사람들과 진행하는 큰 프로젝트에서 oob가 좋다.)\n",
    "- 재결합, 재사용을 기본 -> 여러개 조합시켜 재사용하기 쉽다.\n",
    "\n",
    "> 유니콘은 상상속의 동물\n",
    "    - Data Science 중에서 도메인 지식, CS, 수학을 다 잘하는 사람을 유니콘이라 칭함.\n",
    "    - 한 분야라도 잘해서 분업하는게 더 효율적~\n",
    " \n",
    " <br>\n",
    " \n",
    " \n",
    "### 1.1 재사용\n",
    "재사용 관점에서 객체 지향 : 다른 사람이 *미리 정의해둔 것을 가져다 쓰기*\n",
    "- 함수 정의/ 클래스 정의\n",
    "- 그대로 가져다 쓰거나 내가 변형해서 쓰기(상속)\n",
    "     \n",
    "<br>\n",
    "\n",
    "정의/할당 2 가지:\n",
    "1. class\n",
    "     - 변수, attribute,method 데이터 행위 한번에 관리(기능+값)\n",
    "2. function\n",
    "    -  행위만 관리(기능만)\n",
    "\n",
    "<br>\n",
    "\n",
    "#### 1.1.1 재사용 위한 정의\n",
    "(상속,합성에 초점을 둠) \n",
    "1. abstraction:  \n",
    "2. encapsulation: 데이터와 기능을 하나로 묶어서 처리( eg. function)\n",
    "3. polymophizm\n",
    "4. **inheritance**\n",
    "4개다 유기적으로 연결\n",
    "\n",
    "\n",
    "design pattern:  자주 사용하는 패턴을 정리 예.singletonpattern\n",
    "책 참고:"
   ]
  },
  {
   "cell_type": "code",
   "execution_count": 1,
   "metadata": {},
   "outputs": [],
   "source": [
    "from tensorflow.keras.wrappers.scikit_learn import KerasClassifier,KerasRegressor"
   ]
  },
  {
   "cell_type": "code",
   "execution_count": 2,
   "metadata": {},
   "outputs": [],
   "source": [
    "x=lambda a:a+1 #lambda 메모리에 올리지 않고 일시적으로 사용할 때 사용"
   ]
  },
  {
   "cell_type": "code",
   "execution_count": 3,
   "metadata": {},
   "outputs": [
    {
     "data": {
      "text/plain": [
       "4"
      ]
     },
     "execution_count": 3,
     "metadata": {},
     "output_type": "execute_result"
    }
   ],
   "source": [
    "x(3) #할당되어 재사용 가능해짐"
   ]
  },
  {
   "cell_type": "markdown",
   "metadata": {},
   "source": [
    "#### 1.1.1 abstraction base class\n",
    "- 상속, 인터페이스 관점에서 사용(다형성과 관련됨)\n",
    "- 상속 받는사람이 처리해야함\n",
    "- 단계별로 기능 추상화시켜서 전체 그림을 그릴수 있음\n",
    "- scikitlearn 의 abc meta"
   ]
  },
  {
   "cell_type": "code",
   "execution_count": null,
   "metadata": {},
   "outputs": [],
   "source": [
    "from collectionsections.abc "
   ]
  },
  {
   "cell_type": "markdown",
   "metadata": {},
   "source": [
    "### 1.1.1 encapsulation\n",
    "- class, function으로 하나로 묶어서 처리\n",
    "- 캡슐화로 인해 기본적으로 **외부에서 내부로 접근이 불가**\n",
    "- class 는 camel방식(ex. pepopleAge)\n",
    "- 최상위 클래스 : 어떠한 클래스를 만들어도 Object 클래스의 필수적인 기능 상속 \n",
    "    - 생략 가능(기본적으로 상속받음)\n",
    "    \n"
   ]
  },
  {
   "cell_type": "code",
   "execution_count": 6,
   "metadata": {},
   "outputs": [],
   "source": [
    "class A:       #object 생략\n",
    "    pass"
   ]
  },
  {
   "cell_type": "code",
   "execution_count": 7,
   "metadata": {},
   "outputs": [],
   "source": [
    "class A(object): #상동-기본적으로 obejct class 상속함\n",
    "    pass"
   ]
  },
  {
   "cell_type": "code",
   "execution_count": 8,
   "metadata": {},
   "outputs": [
    {
     "data": {
      "text/plain": [
       "['__class__',\n",
       " '__delattr__',\n",
       " '__dict__',\n",
       " '__dir__',\n",
       " '__doc__',\n",
       " '__eq__',\n",
       " '__format__',\n",
       " '__ge__',\n",
       " '__getattribute__',\n",
       " '__gt__',\n",
       " '__hash__',\n",
       " '__init__',\n",
       " '__init_subclass__',\n",
       " '__le__',\n",
       " '__lt__',\n",
       " '__module__',\n",
       " '__ne__',\n",
       " '__new__',\n",
       " '__reduce__',\n",
       " '__reduce_ex__',\n",
       " '__repr__',\n",
       " '__setattr__',\n",
       " '__sizeof__',\n",
       " '__str__',\n",
       " '__subclasshook__',\n",
       " '__weakref__']"
      ]
     },
     "execution_count": 8,
     "metadata": {},
     "output_type": "execute_result"
    }
   ],
   "source": [
    "dir(A)            #정의 안 했는데 기본적으로 정의된 것들이 있음\n",
    "#객체에 대해 dir 사용 가능"
   ]
  },
  {
   "cell_type": "markdown",
   "metadata": {},
   "source": [
    "### 1.1.2 재사용 방법\n",
    "\n",
    "- 그대로 가져다 사용 \n",
    "    - Sequence,Model  모델\n",
    "    - 제공하는 기능을 그대로 사용\n",
    "\n",
    "- 변형해서 사용 \n",
    "    - 복잡,원리 이해 필요 (전문가) \n",
    "    - 상속 통해 원하는 기능으로 변형\n",
    "\n",
    "파이썬의 class에서는 encapsulation 되어서 외부에서 접근 가능, 다른 언어에서는 접근 제한자를 확인해야 하지만.\n",
    "단 파이썬에서 func(함수)에서는 외부에서 내부로 접근은 불가, 생성은 가능\n",
    "\n",
    "\n",
    "- python에서 접근 제한자 개념 있음\n",
    "- public: 외부에서 내부 접근 가능\n",
    "- private: 외부에서 내부 접근 불가\n",
    "\n",
    "- property/ descriptor : private public 제어 가능 "
   ]
  },
  {
   "cell_type": "code",
   "execution_count": 7,
   "metadata": {},
   "outputs": [],
   "source": [
    "class A(object): #변형해서 재사용\n",
    "    a=1"
   ]
  },
  {
   "cell_type": "code",
   "execution_count": 8,
   "metadata": {},
   "outputs": [
    {
     "data": {
      "text/plain": [
       "1"
      ]
     },
     "execution_count": 8,
     "metadata": {},
     "output_type": "execute_result"
    }
   ],
   "source": [
    "A.a"
   ]
  },
  {
   "cell_type": "code",
   "execution_count": 10,
   "metadata": {},
   "outputs": [],
   "source": [
    "A.aa=2    #외부에서 내부 생성 가능\n",
    "#python은 선언 안해도 이렇게 그냥 사용 가능\n",
    "#아래 dirt에서 aa 있는 거 확인 가능"
   ]
  },
  {
   "cell_type": "code",
   "execution_count": 4,
   "metadata": {},
   "outputs": [
    {
     "data": {
      "text/plain": [
       "['__class__',\n",
       " '__delattr__',\n",
       " '__dict__',\n",
       " '__dir__',\n",
       " '__doc__',\n",
       " '__eq__',\n",
       " '__format__',\n",
       " '__ge__',\n",
       " '__getattribute__',\n",
       " '__gt__',\n",
       " '__hash__',\n",
       " '__init__',\n",
       " '__init_subclass__',\n",
       " '__le__',\n",
       " '__lt__',\n",
       " '__module__',\n",
       " '__ne__',\n",
       " '__new__',\n",
       " '__reduce__',\n",
       " '__reduce_ex__',\n",
       " '__repr__',\n",
       " '__setattr__',\n",
       " '__sizeof__',\n",
       " '__str__',\n",
       " '__subclasshook__',\n",
       " '__weakref__',\n",
       " 'aa']"
      ]
     },
     "execution_count": 4,
     "metadata": {},
     "output_type": "execute_result"
    }
   ],
   "source": [
    "dir(A)"
   ]
  },
  {
   "cell_type": "code",
   "execution_count": null,
   "metadata": {},
   "outputs": [],
   "source": [
    "first class function #function은 외부에서 내부 접근 못해\n",
    "#python에선 private,public 개념은 있다"
   ]
  },
  {
   "cell_type": "markdown",
   "metadata": {},
   "source": [
    "- 함수(func)에서는 외부에서 내부 접근 불가, 생성 가능\n",
    "- 되는 이유는 함수, 클래스는 객체라서 가능 \n",
    "- python 함수는  first class function(함수지만 객체)\n",
    "- 함수지만 dir 가능\n",
    "잘못 할당해서 실수하는 경우가 빈번하게 발생함.\n",
    "파이썬은 private가 public 사이의 강력한 구분이 없다. 즉 인터프리터에 의해 강제되지 않는다."
   ]
  },
  {
   "cell_type": "code",
   "execution_count": 3,
   "metadata": {},
   "outputs": [],
   "source": [
    "def t():\n",
    "    a=1\n",
    "    def s():\n",
    "        return 1 \n",
    "    return s"
   ]
  },
  {
   "cell_type": "code",
   "execution_count": 4,
   "metadata": {},
   "outputs": [
    {
     "ename": "AttributeError",
     "evalue": "'function' object has no attribute 'a'",
     "output_type": "error",
     "traceback": [
      "\u001b[1;31m---------------------------------------------------------------------------\u001b[0m",
      "\u001b[1;31mAttributeError\u001b[0m                            Traceback (most recent call last)",
      "\u001b[1;32m<ipython-input-4-d1179ae2d9dc>\u001b[0m in \u001b[0;36m<module>\u001b[1;34m\u001b[0m\n\u001b[1;32m----> 1\u001b[1;33m \u001b[0mt\u001b[0m\u001b[1;33m.\u001b[0m\u001b[0ma\u001b[0m\u001b[1;33m\u001b[0m\u001b[1;33m\u001b[0m\u001b[0m\n\u001b[0m",
      "\u001b[1;31mAttributeError\u001b[0m: 'function' object has no attribute 'a'"
     ]
    }
   ],
   "source": [
    "t.a # 접근 불가\n",
    "#func는 외부에서 내부로 접근 불가"
   ]
  },
  {
   "cell_type": "code",
   "execution_count": 7,
   "metadata": {},
   "outputs": [],
   "source": [
    "t.ss=1  #생성"
   ]
  },
  {
   "cell_type": "code",
   "execution_count": 8,
   "metadata": {},
   "outputs": [
    {
     "ename": "AttributeError",
     "evalue": "'function' object has no attribute 's'",
     "output_type": "error",
     "traceback": [
      "\u001b[0;31m---------------------------------------------------------------------------\u001b[0m",
      "\u001b[0;31mAttributeError\u001b[0m                            Traceback (most recent call last)",
      "\u001b[0;32m<ipython-input-8-10c22990d292>\u001b[0m in \u001b[0;36m<module>\u001b[0;34m\u001b[0m\n\u001b[0;32m----> 1\u001b[0;31m \u001b[0mt\u001b[0m\u001b[0;34m.\u001b[0m\u001b[0ms\u001b[0m\u001b[0;34m\u001b[0m\u001b[0;34m\u001b[0m\u001b[0m\n\u001b[0m",
      "\u001b[0;31mAttributeError\u001b[0m: 'function' object has no attribute 's'"
     ]
    }
   ],
   "source": [
    "t.s     #접근 불가"
   ]
  },
  {
   "cell_type": "markdown",
   "metadata": {},
   "source": [
    "- python에서 접근 제한자 개념 있음\n",
    "- public: 외부에서 내부 접근 가능\n",
    "- private: 외부에서 내부 접근 불가\n",
    "\n",
    "- property/ descriptor : private public 제어 가능 "
   ]
  },
  {
   "cell_type": "markdown",
   "metadata": {},
   "source": [
    "## 1.2 식별자 예약 영역\n",
    "\n",
    "파이썬 공식문서 [식별자의 예약 영역 참고]( https://docs.python.org/ko/3/reference/lexical_analysis.html#reserved-classes-of-identifiers ):\n",
    "\n",
    "- `_*` : import 불가<br>, 내부용으로 스일 것이라는 의도\n",
    "- `__ *` : private처럼 쓰임, 외부에서 접근하지 못하는 private로 사용됨.\n",
    "    - 내부적으로 이름까지 mangling함\n",
    "    - name mangling : \\_\\_\\*는 서브 클래스에서 이름 충돌 피하기 위해 파이썬 인터프리터가 속성 이름을 다시 쓰도록 한다. 서브 클래스에서 변수가 재정의 되는 것을 막기 위함\n",
    "    <br>\n",
    "- `__*__` : 특수 메소드들\n",
    "\n",
    "단독 밑줄 문자 `_` 로 시작하는 것은 관례적으로 변수가 임시적이거나 중요하지 않은 변수 이름으로 사용"
   ]
  },
  {
   "cell_type": "markdown",
   "metadata": {},
   "source": [
    "`_이름`\n",
    "- from module impor *  에 의해 `_` 로시작하는것은 불러오지 못함\n",
    "- **내부 안에서만 쓰여서 직접적 접근 안 하기 때문에 사용 안함**\n",
    "- 접근 가능 하나 관례적으로 PEP8에 의해서 안 함 \n",
    "\n",
    "\\_로 시작하는 것들 말하나봐...?? 아닌가"
   ]
  },
  {
   "cell_type": "code",
   "execution_count": null,
   "metadata": {},
   "outputs": [],
   "source": []
  },
  {
   "cell_type": "code",
   "execution_count": 10,
   "metadata": {},
   "outputs": [],
   "source": [
    "class A(object): #이렇게 묶는 것은 encapsulation\n",
    "    __a=1  #mangling"
   ]
  },
  {
   "cell_type": "code",
   "execution_count": 11,
   "metadata": {},
   "outputs": [
    {
     "ename": "AttributeError",
     "evalue": "type object 'A' has no attribute '__a'",
     "output_type": "error",
     "traceback": [
      "\u001b[1;31m---------------------------------------------------------------------------\u001b[0m",
      "\u001b[1;31mAttributeError\u001b[0m                            Traceback (most recent call last)",
      "\u001b[1;32m<ipython-input-11-0db8c3b850c2>\u001b[0m in \u001b[0;36m<module>\u001b[1;34m\u001b[0m\n\u001b[1;32m----> 1\u001b[1;33m \u001b[0mA\u001b[0m\u001b[1;33m.\u001b[0m\u001b[0m__a\u001b[0m \u001b[1;31m#접근 불가\u001b[0m\u001b[1;33m\u001b[0m\u001b[1;33m\u001b[0m\u001b[0m\n\u001b[0m\u001b[0;32m      2\u001b[0m \u001b[1;31m#dir 확인 결과 A._A__a로 바뀐 것 확인 가능\u001b[0m\u001b[1;33m\u001b[0m\u001b[1;33m\u001b[0m\u001b[1;33m\u001b[0m\u001b[0m\n",
      "\u001b[1;31mAttributeError\u001b[0m: type object 'A' has no attribute '__a'"
     ]
    }
   ],
   "source": [
    "A.__a #접근 불가\n",
    "#dir 확인 결과 A._A__a로 바뀐 것 확인 가능"
   ]
  },
  {
   "cell_type": "code",
   "execution_count": 12,
   "metadata": {},
   "outputs": [
    {
     "data": {
      "text/plain": [
       "1"
      ]
     },
     "execution_count": 12,
     "metadata": {},
     "output_type": "execute_result"
    }
   ],
   "source": [
    "A._A__a #private처럼 쓸수 있음 관례를 알아야함"
   ]
  },
  {
   "cell_type": "code",
   "execution_count": 13,
   "metadata": {},
   "outputs": [],
   "source": [
    "A.aa = 2"
   ]
  },
  {
   "cell_type": "code",
   "execution_count": 14,
   "metadata": {},
   "outputs": [
    {
     "data": {
      "text/plain": [
       "['_A__a',\n",
       " '__class__',\n",
       " '__delattr__',\n",
       " '__dict__',\n",
       " '__dir__',\n",
       " '__doc__',\n",
       " '__eq__',\n",
       " '__format__',\n",
       " '__ge__',\n",
       " '__getattribute__',\n",
       " '__gt__',\n",
       " '__hash__',\n",
       " '__init__',\n",
       " '__init_subclass__',\n",
       " '__le__',\n",
       " '__lt__',\n",
       " '__module__',\n",
       " '__ne__',\n",
       " '__new__',\n",
       " '__reduce__',\n",
       " '__reduce_ex__',\n",
       " '__repr__',\n",
       " '__setattr__',\n",
       " '__sizeof__',\n",
       " '__str__',\n",
       " '__subclasshook__',\n",
       " '__weakref__',\n",
       " 'aa']"
      ]
     },
     "execution_count": 14,
     "metadata": {},
     "output_type": "execute_result"
    }
   ],
   "source": [
    "dir(A) #_A__a바뀌어 있음\n",
    "#정의도 안했는데 사용할 수 있는 것들이 왜 많을까?\n",
    "#상위 클래스(object)를 상속하기 때문에\n",
    "#모든 클래스는 object 클래스를 상속 받기 때문에"
   ]
  },
  {
   "cell_type": "code",
   "execution_count": null,
   "metadata": {},
   "outputs": [],
   "source": []
  },
  {
   "cell_type": "code",
   "execution_count": null,
   "metadata": {},
   "outputs": [],
   "source": []
  },
  {
   "cell_type": "code",
   "execution_count": null,
   "metadata": {},
   "outputs": [],
   "source": []
  },
  {
   "cell_type": "code",
   "execution_count": null,
   "metadata": {},
   "outputs": [],
   "source": []
  },
  {
   "cell_type": "markdown",
   "metadata": {},
   "source": [
    "### dir\n",
    "- . 으로 접근 가능한 모든것을 보여줌"
   ]
  },
  {
   "cell_type": "code",
   "execution_count": 13,
   "metadata": {},
   "outputs": [
    {
     "data": {
      "text/plain": [
       "['AggregationMethod',\n",
       " 'Assert',\n",
       " 'CriticalSection',\n",
       " 'DType',\n",
       " 'DeviceSpec',\n",
       " 'GradientTape',\n",
       " 'Graph',\n",
       " 'IndexedSlices',\n",
       " 'IndexedSlicesSpec',\n",
       " 'Module',\n",
       " 'Operation',\n",
       " 'OptionalSpec',\n",
       " 'RaggedTensor',\n",
       " 'RaggedTensorSpec',\n",
       " 'RegisterGradient',\n",
       " 'SparseTensor',\n",
       " 'SparseTensorSpec',\n",
       " 'Tensor',\n",
       " 'TensorArray',\n",
       " 'TensorArraySpec',\n",
       " 'TensorShape',\n",
       " 'TensorSpec',\n",
       " 'TypeSpec',\n",
       " 'UnconnectedGradients',\n",
       " 'Variable',\n",
       " 'VariableAggregation',\n",
       " 'VariableSynchronization',\n",
       " '_API_MODULE',\n",
       " '_LazyLoader',\n",
       " '__all__',\n",
       " '__builtins__',\n",
       " '__cached__',\n",
       " '__compiler_version__',\n",
       " '__cxx11_abi_flag__',\n",
       " '__doc__',\n",
       " '__file__',\n",
       " '__git_version__',\n",
       " '__loader__',\n",
       " '__monolithic_build__',\n",
       " '__name__',\n",
       " '__operators__',\n",
       " '__package__',\n",
       " '__path__',\n",
       " '__spec__',\n",
       " '__version__',\n",
       " '_absolute_import',\n",
       " '_api',\n",
       " '_compat',\n",
       " '_current_file_location',\n",
       " '_current_module',\n",
       " '_distutils',\n",
       " '_division',\n",
       " '_estimator_module',\n",
       " '_fi',\n",
       " '_inspect',\n",
       " '_ll',\n",
       " '_logging',\n",
       " '_main_dir',\n",
       " '_major_api_version',\n",
       " '_module_dir',\n",
       " '_module_util',\n",
       " '_names_with_underscore',\n",
       " '_os',\n",
       " '_plugin_dir',\n",
       " '_print_function',\n",
       " '_running_from_pip_package',\n",
       " '_s',\n",
       " '_site',\n",
       " '_site_packages_dirs',\n",
       " '_six',\n",
       " '_sys',\n",
       " '_tf2',\n",
       " '_tf_api_dir',\n",
       " '_typing',\n",
       " 'abs',\n",
       " 'acos',\n",
       " 'acosh',\n",
       " 'add',\n",
       " 'add_n',\n",
       " 'argmax',\n",
       " 'argmin',\n",
       " 'argsort',\n",
       " 'as_dtype',\n",
       " 'as_string',\n",
       " 'asin',\n",
       " 'asinh',\n",
       " 'assert_equal',\n",
       " 'assert_greater',\n",
       " 'assert_less',\n",
       " 'assert_rank',\n",
       " 'atan',\n",
       " 'atan2',\n",
       " 'atanh',\n",
       " 'audio',\n",
       " 'autodiff',\n",
       " 'autograph',\n",
       " 'batch_to_space',\n",
       " 'bfloat16',\n",
       " 'bitcast',\n",
       " 'bitwise',\n",
       " 'bool',\n",
       " 'boolean_mask',\n",
       " 'broadcast_dynamic_shape',\n",
       " 'broadcast_static_shape',\n",
       " 'broadcast_to',\n",
       " 'case',\n",
       " 'cast',\n",
       " 'clip_by_global_norm',\n",
       " 'clip_by_norm',\n",
       " 'clip_by_value',\n",
       " 'compat',\n",
       " 'compiler',\n",
       " 'complex',\n",
       " 'complex128',\n",
       " 'complex64',\n",
       " 'concat',\n",
       " 'cond',\n",
       " 'config',\n",
       " 'constant',\n",
       " 'constant_initializer',\n",
       " 'control_dependencies',\n",
       " 'convert_to_tensor',\n",
       " 'core',\n",
       " 'cos',\n",
       " 'cosh',\n",
       " 'cumsum',\n",
       " 'custom_gradient',\n",
       " 'data',\n",
       " 'debugging',\n",
       " 'device',\n",
       " 'distribute',\n",
       " 'divide',\n",
       " 'double',\n",
       " 'dtypes',\n",
       " 'dynamic_partition',\n",
       " 'dynamic_stitch',\n",
       " 'edit_distance',\n",
       " 'eig',\n",
       " 'eigvals',\n",
       " 'einsum',\n",
       " 'ensure_shape',\n",
       " 'equal',\n",
       " 'errors',\n",
       " 'estimator',\n",
       " 'executing_eagerly',\n",
       " 'exp',\n",
       " 'expand_dims',\n",
       " 'experimental',\n",
       " 'extract_volume_patches',\n",
       " 'eye',\n",
       " 'feature_column',\n",
       " 'fill',\n",
       " 'fingerprint',\n",
       " 'float16',\n",
       " 'float32',\n",
       " 'float64',\n",
       " 'floor',\n",
       " 'foldl',\n",
       " 'foldr',\n",
       " 'function',\n",
       " 'gather',\n",
       " 'gather_nd',\n",
       " 'get_logger',\n",
       " 'get_static_value',\n",
       " 'grad_pass_through',\n",
       " 'gradients',\n",
       " 'graph_util',\n",
       " 'greater',\n",
       " 'greater_equal',\n",
       " 'group',\n",
       " 'guarantee_const',\n",
       " 'half',\n",
       " 'hessians',\n",
       " 'histogram_fixed_width',\n",
       " 'histogram_fixed_width_bins',\n",
       " 'identity',\n",
       " 'identity_n',\n",
       " 'image',\n",
       " 'import_graph_def',\n",
       " 'init_scope',\n",
       " 'initializers',\n",
       " 'int16',\n",
       " 'int32',\n",
       " 'int64',\n",
       " 'int8',\n",
       " 'io',\n",
       " 'is_tensor',\n",
       " 'keras',\n",
       " 'less',\n",
       " 'less_equal',\n",
       " 'linalg',\n",
       " 'linspace',\n",
       " 'lite',\n",
       " 'load_library',\n",
       " 'load_op_library',\n",
       " 'logical_and',\n",
       " 'logical_not',\n",
       " 'logical_or',\n",
       " 'lookup',\n",
       " 'losses',\n",
       " 'make_ndarray',\n",
       " 'make_tensor_proto',\n",
       " 'map_fn',\n",
       " 'math',\n",
       " 'matmul',\n",
       " 'matrix_square_root',\n",
       " 'maximum',\n",
       " 'meshgrid',\n",
       " 'metrics',\n",
       " 'minimum',\n",
       " 'mixed_precision',\n",
       " 'mlir',\n",
       " 'multiply',\n",
       " 'name_scope',\n",
       " 'negative',\n",
       " 'nest',\n",
       " 'newaxis',\n",
       " 'nn',\n",
       " 'no_gradient',\n",
       " 'no_op',\n",
       " 'nondifferentiable_batch_function',\n",
       " 'norm',\n",
       " 'not_equal',\n",
       " 'numpy_function',\n",
       " 'one_hot',\n",
       " 'ones',\n",
       " 'ones_initializer',\n",
       " 'ones_like',\n",
       " 'optimizers',\n",
       " 'pad',\n",
       " 'parallel_stack',\n",
       " 'pow',\n",
       " 'print',\n",
       " 'profiler',\n",
       " 'py_function',\n",
       " 'python',\n",
       " 'qint16',\n",
       " 'qint32',\n",
       " 'qint8',\n",
       " 'quantization',\n",
       " 'queue',\n",
       " 'quint16',\n",
       " 'quint8',\n",
       " 'ragged',\n",
       " 'random',\n",
       " 'random_normal_initializer',\n",
       " 'random_uniform_initializer',\n",
       " 'range',\n",
       " 'rank',\n",
       " 'raw_ops',\n",
       " 'realdiv',\n",
       " 'recompute_grad',\n",
       " 'reduce_all',\n",
       " 'reduce_any',\n",
       " 'reduce_logsumexp',\n",
       " 'reduce_max',\n",
       " 'reduce_mean',\n",
       " 'reduce_min',\n",
       " 'reduce_prod',\n",
       " 'reduce_sum',\n",
       " 'register_tensor_conversion_function',\n",
       " 'repeat',\n",
       " 'required_space_to_batch_paddings',\n",
       " 'reshape',\n",
       " 'resource',\n",
       " 'reverse',\n",
       " 'reverse_sequence',\n",
       " 'roll',\n",
       " 'round',\n",
       " 'saturate_cast',\n",
       " 'saved_model',\n",
       " 'scalar_mul',\n",
       " 'scan',\n",
       " 'scatter_nd',\n",
       " 'searchsorted',\n",
       " 'sequence_mask',\n",
       " 'sets',\n",
       " 'shape',\n",
       " 'shape_n',\n",
       " 'sigmoid',\n",
       " 'sign',\n",
       " 'signal',\n",
       " 'sin',\n",
       " 'sinh',\n",
       " 'size',\n",
       " 'slice',\n",
       " 'sort',\n",
       " 'space_to_batch',\n",
       " 'space_to_batch_nd',\n",
       " 'sparse',\n",
       " 'split',\n",
       " 'sqrt',\n",
       " 'square',\n",
       " 'squeeze',\n",
       " 'stack',\n",
       " 'stop_gradient',\n",
       " 'strided_slice',\n",
       " 'string',\n",
       " 'strings',\n",
       " 'subtract',\n",
       " 'summary',\n",
       " 'switch_case',\n",
       " 'sysconfig',\n",
       " 'tan',\n",
       " 'tanh',\n",
       " 'tensor_scatter_nd_add',\n",
       " 'tensor_scatter_nd_max',\n",
       " 'tensor_scatter_nd_min',\n",
       " 'tensor_scatter_nd_sub',\n",
       " 'tensor_scatter_nd_update',\n",
       " 'tensordot',\n",
       " 'test',\n",
       " 'tile',\n",
       " 'timestamp',\n",
       " 'tools',\n",
       " 'tpu',\n",
       " 'train',\n",
       " 'transpose',\n",
       " 'truediv',\n",
       " 'truncatediv',\n",
       " 'truncatemod',\n",
       " 'tuple',\n",
       " 'type_spec_from_value',\n",
       " 'uint16',\n",
       " 'uint32',\n",
       " 'uint64',\n",
       " 'uint8',\n",
       " 'unique',\n",
       " 'unique_with_counts',\n",
       " 'unravel_index',\n",
       " 'unstack',\n",
       " 'variable_creator_scope',\n",
       " 'variant',\n",
       " 'vectorized_map',\n",
       " 'version',\n",
       " 'where',\n",
       " 'while_loop',\n",
       " 'xla',\n",
       " 'zeros',\n",
       " 'zeros_initializer',\n",
       " 'zeros_like']"
      ]
     },
     "execution_count": 13,
     "metadata": {},
     "output_type": "execute_result"
    }
   ],
   "source": [
    "import tensorflow as tf\n",
    "dir(tf)  #ASCII 코드 순서대로 정렬"
   ]
  },
  {
   "cell_type": "code",
   "execution_count": 14,
   "metadata": {},
   "outputs": [
    {
     "data": {
      "text/plain": [
       "['__name__',\n",
       " '__doc__',\n",
       " '__package__',\n",
       " '__loader__',\n",
       " '__spec__',\n",
       " '__path__',\n",
       " '__file__',\n",
       " '__cached__',\n",
       " '__builtins__',\n",
       " '_absolute_import',\n",
       " '_division',\n",
       " '_print_function',\n",
       " '_distutils',\n",
       " '_inspect',\n",
       " '_logging',\n",
       " '_os',\n",
       " '_site',\n",
       " '_six',\n",
       " '_sys',\n",
       " 'core',\n",
       " 'compiler',\n",
       " 'tools',\n",
       " 'python',\n",
       " '_module_util',\n",
       " '_LazyLoader',\n",
       " '_tf2',\n",
       " '_api',\n",
       " '__operators__',\n",
       " 'audio',\n",
       " 'autodiff',\n",
       " 'autograph',\n",
       " 'bitwise',\n",
       " 'lite',\n",
       " 'compat',\n",
       " 'config',\n",
       " 'data',\n",
       " 'debugging',\n",
       " 'distribute',\n",
       " 'dtypes',\n",
       " 'errors',\n",
       " 'experimental',\n",
       " 'feature_column',\n",
       " 'graph_util',\n",
       " 'image',\n",
       " 'io',\n",
       " 'linalg',\n",
       " 'lookup',\n",
       " 'math',\n",
       " 'mixed_precision',\n",
       " 'mlir',\n",
       " 'nest',\n",
       " 'nn',\n",
       " 'profiler',\n",
       " 'quantization',\n",
       " 'queue',\n",
       " 'ragged',\n",
       " 'random',\n",
       " 'raw_ops',\n",
       " 'saved_model',\n",
       " 'sets',\n",
       " 'signal',\n",
       " 'sparse',\n",
       " 'strings',\n",
       " 'summary',\n",
       " 'sysconfig',\n",
       " 'test',\n",
       " 'tpu',\n",
       " 'train',\n",
       " 'version',\n",
       " 'xla',\n",
       " 'OptionalSpec',\n",
       " 'GradientTape',\n",
       " 'executing_eagerly',\n",
       " 'function',\n",
       " 'constant',\n",
       " 'DeviceSpec',\n",
       " 'DType',\n",
       " 'as_dtype',\n",
       " 'bfloat16',\n",
       " 'bool',\n",
       " 'complex128',\n",
       " 'complex64',\n",
       " 'double',\n",
       " 'float16',\n",
       " 'float32',\n",
       " 'float64',\n",
       " 'half',\n",
       " 'int16',\n",
       " 'int32',\n",
       " 'int64',\n",
       " 'int8',\n",
       " 'qint16',\n",
       " 'qint32',\n",
       " 'qint8',\n",
       " 'quint16',\n",
       " 'quint8',\n",
       " 'resource',\n",
       " 'string',\n",
       " 'uint16',\n",
       " 'uint32',\n",
       " 'uint64',\n",
       " 'uint8',\n",
       " 'variant',\n",
       " 'import_graph_def',\n",
       " 'IndexedSlices',\n",
       " 'IndexedSlicesSpec',\n",
       " 'load_library',\n",
       " 'load_op_library',\n",
       " 'Graph',\n",
       " 'Operation',\n",
       " 'RegisterGradient',\n",
       " 'Tensor',\n",
       " 'control_dependencies',\n",
       " 'convert_to_tensor',\n",
       " 'device',\n",
       " 'init_scope',\n",
       " 'name_scope',\n",
       " 'no_gradient',\n",
       " 'SparseTensor',\n",
       " 'SparseTensorSpec',\n",
       " 'register_tensor_conversion_function',\n",
       " 'TensorShape',\n",
       " 'TensorSpec',\n",
       " 'make_ndarray',\n",
       " 'get_static_value',\n",
       " 'is_tensor',\n",
       " 'make_tensor_proto',\n",
       " 'TypeSpec',\n",
       " 'type_spec_from_value',\n",
       " '__compiler_version__',\n",
       " '__cxx11_abi_flag__',\n",
       " '__git_version__',\n",
       " '__monolithic_build__',\n",
       " '__version__',\n",
       " 'Module',\n",
       " 'batch_to_space',\n",
       " 'boolean_mask',\n",
       " 'broadcast_dynamic_shape',\n",
       " 'broadcast_static_shape',\n",
       " 'concat',\n",
       " 'edit_distance',\n",
       " 'expand_dims',\n",
       " 'fill',\n",
       " 'fingerprint',\n",
       " 'gather_nd',\n",
       " 'gather',\n",
       " 'identity',\n",
       " 'meshgrid',\n",
       " 'newaxis',\n",
       " 'one_hot',\n",
       " 'ones',\n",
       " 'ones_like',\n",
       " 'pad',\n",
       " 'parallel_stack',\n",
       " 'rank',\n",
       " 'repeat',\n",
       " 'required_space_to_batch_paddings',\n",
       " 'reshape',\n",
       " 'reverse_sequence',\n",
       " 'searchsorted',\n",
       " 'sequence_mask',\n",
       " 'shape_n',\n",
       " 'shape',\n",
       " 'size',\n",
       " 'slice',\n",
       " 'space_to_batch',\n",
       " 'split',\n",
       " 'squeeze',\n",
       " 'stack',\n",
       " 'strided_slice',\n",
       " 'transpose',\n",
       " 'unique',\n",
       " 'unique_with_counts',\n",
       " 'unstack',\n",
       " 'where',\n",
       " 'zeros',\n",
       " 'zeros_like',\n",
       " 'nondifferentiable_batch_function',\n",
       " 'assert_equal',\n",
       " 'assert_greater',\n",
       " 'assert_less',\n",
       " 'assert_rank',\n",
       " 'ensure_shape',\n",
       " 'clip_by_global_norm',\n",
       " 'clip_by_norm',\n",
       " 'clip_by_value',\n",
       " 'Assert',\n",
       " 'case',\n",
       " 'cond',\n",
       " 'group',\n",
       " 'switch_case',\n",
       " 'tuple',\n",
       " 'while_loop',\n",
       " 'CriticalSection',\n",
       " 'custom_gradient',\n",
       " 'grad_pass_through',\n",
       " 'recompute_grad',\n",
       " 'foldl',\n",
       " 'foldr',\n",
       " 'scan',\n",
       " 'bitcast',\n",
       " 'broadcast_to',\n",
       " 'extract_volume_patches',\n",
       " 'guarantee_const',\n",
       " 'identity_n',\n",
       " 'reverse',\n",
       " 'scatter_nd',\n",
       " 'space_to_batch_nd',\n",
       " 'stop_gradient',\n",
       " 'tensor_scatter_nd_add',\n",
       " 'tensor_scatter_nd_max',\n",
       " 'tensor_scatter_nd_min',\n",
       " 'tensor_scatter_nd_sub',\n",
       " 'tensor_scatter_nd_update',\n",
       " 'tile',\n",
       " 'unravel_index',\n",
       " 'no_op',\n",
       " 'dynamic_partition',\n",
       " 'dynamic_stitch',\n",
       " 'matrix_square_root',\n",
       " 'timestamp',\n",
       " 'acos',\n",
       " 'acosh',\n",
       " 'add',\n",
       " 'asin',\n",
       " 'asinh',\n",
       " 'atan',\n",
       " 'atan2',\n",
       " 'atanh',\n",
       " 'cos',\n",
       " 'cosh',\n",
       " 'floor',\n",
       " 'greater',\n",
       " 'greater_equal',\n",
       " 'less',\n",
       " 'less_equal',\n",
       " 'logical_not',\n",
       " 'logical_or',\n",
       " 'maximum',\n",
       " 'minimum',\n",
       " 'negative',\n",
       " 'realdiv',\n",
       " 'sin',\n",
       " 'sinh',\n",
       " 'square',\n",
       " 'tan',\n",
       " 'tanh',\n",
       " 'truncatediv',\n",
       " 'truncatemod',\n",
       " 'as_string',\n",
       " 'hessians',\n",
       " 'gradients',\n",
       " 'AggregationMethod',\n",
       " 'histogram_fixed_width',\n",
       " 'histogram_fixed_width_bins',\n",
       " 'constant_initializer',\n",
       " 'ones_initializer',\n",
       " 'random_normal_initializer',\n",
       " 'random_uniform_initializer',\n",
       " 'zeros_initializer',\n",
       " 'eig',\n",
       " 'eigvals',\n",
       " 'eye',\n",
       " 'norm',\n",
       " 'print',\n",
       " 'roll',\n",
       " 'map_fn',\n",
       " 'abs',\n",
       " 'add_n',\n",
       " 'argmax',\n",
       " 'argmin',\n",
       " 'cast',\n",
       " 'complex',\n",
       " 'cumsum',\n",
       " 'divide',\n",
       " 'equal',\n",
       " 'exp',\n",
       " 'linspace',\n",
       " 'logical_and',\n",
       " 'matmul',\n",
       " 'multiply',\n",
       " 'not_equal',\n",
       " 'pow',\n",
       " 'range',\n",
       " 'reduce_all',\n",
       " 'reduce_any',\n",
       " 'reduce_logsumexp',\n",
       " 'reduce_max',\n",
       " 'reduce_mean',\n",
       " 'reduce_min',\n",
       " 'reduce_prod',\n",
       " 'reduce_sum',\n",
       " 'round',\n",
       " 'saturate_cast',\n",
       " 'scalar_mul',\n",
       " 'sigmoid',\n",
       " 'sign',\n",
       " 'sqrt',\n",
       " 'subtract',\n",
       " 'tensordot',\n",
       " 'truediv',\n",
       " 'vectorized_map',\n",
       " 'RaggedTensor',\n",
       " 'RaggedTensorSpec',\n",
       " 'py_function',\n",
       " 'numpy_function',\n",
       " 'argsort',\n",
       " 'sort',\n",
       " 'einsum',\n",
       " 'TensorArray',\n",
       " 'TensorArraySpec',\n",
       " 'UnconnectedGradients',\n",
       " 'variable_creator_scope',\n",
       " 'Variable',\n",
       " 'VariableAggregation',\n",
       " 'VariableSynchronization',\n",
       " 'get_logger',\n",
       " '_API_MODULE',\n",
       " '_tf_api_dir',\n",
       " '_current_module',\n",
       " '_estimator_module',\n",
       " 'estimator',\n",
       " '_module_dir',\n",
       " 'keras',\n",
       " '_typing',\n",
       " '_compat',\n",
       " '_major_api_version',\n",
       " '_ll',\n",
       " '_fi',\n",
       " '_site_packages_dirs',\n",
       " '_current_file_location',\n",
       " '_running_from_pip_package',\n",
       " '_s',\n",
       " '_main_dir',\n",
       " '_plugin_dir',\n",
       " 'losses',\n",
       " 'metrics',\n",
       " 'optimizers',\n",
       " 'initializers',\n",
       " '_names_with_underscore',\n",
       " '__all__']"
      ]
     },
     "execution_count": 14,
     "metadata": {},
     "output_type": "execute_result"
    }
   ],
   "source": [
    "tf.__dir__() #정렬 없이 정의된 순서대로 나옴"
   ]
  },
  {
   "cell_type": "code",
   "execution_count": 15,
   "metadata": {},
   "outputs": [
    {
     "data": {
      "text/plain": [
       "set()"
      ]
     },
     "execution_count": 15,
     "metadata": {},
     "output_type": "execute_result"
    }
   ],
   "source": [
    "set(tf.__dir__())^set(dir(tf)) #동일한 기능 (공집합!)"
   ]
  },
  {
   "cell_type": "markdown",
   "metadata": {},
   "source": [
    "---\n",
    "클래스, 인스턴스 차이를 알아야함\n",
    "\n",
    "\n",
    "## 1.3 class와 instance\n",
    "\n",
    "### 1.3.1 class attribute\n",
    "- a,_a, \\__a\n",
    "- **클래스로만 접근 가능**\n",
    "- 클래스가 가지는 값"
   ]
  },
  {
   "cell_type": "markdown",
   "metadata": {},
   "source": [
    "###  instance\n",
    "- 클래스로 파생되어 있는 객체 \n",
    "- 클래스()붙이면 callable 됨\n",
    "    - 인스턴스화 하면 __init__ 생성자 호출\n",
    "\n",
    "자습서 Class 참고 : https://docs.python.org/ko/3/reference/lexical_analysis.html#reserved-classes-of-identifiers"
   ]
  },
  {
   "cell_type": "markdown",
   "metadata": {},
   "source": [
    "pep8 참고"
   ]
  },
  {
   "cell_type": "code",
   "execution_count": 16,
   "metadata": {},
   "outputs": [],
   "source": [
    "class A:\n",
    "    a=1  \n",
    "    _a=1  #class attribute , _붙은 것은 내부에서만 쓰일 것이고\n",
    "    __a=1  # 특히 이것은 name mangling 된다"
   ]
  },
  {
   "cell_type": "code",
   "execution_count": null,
   "metadata": {},
   "outputs": [],
   "source": [
    "x=A() # 인스턴스화(callable ) \n",
    "#x=붕어빵, A 붕어빵 틀"
   ]
  },
  {
   "cell_type": "code",
   "execution_count": 17,
   "metadata": {},
   "outputs": [
    {
     "data": {
      "text/plain": [
       "1"
      ]
     },
     "execution_count": 17,
     "metadata": {},
     "output_type": "execute_result"
    }
   ],
   "source": [
    "A.a #클래스로 class attribute 접근 가능 "
   ]
  },
  {
   "cell_type": "code",
   "execution_count": 7,
   "metadata": {},
   "outputs": [
    {
     "data": {
      "text/plain": [
       "1"
      ]
     },
     "execution_count": 7,
     "metadata": {},
     "output_type": "execute_result"
    }
   ],
   "source": [
    "x.a"
   ]
  },
  {
   "cell_type": "code",
   "execution_count": 6,
   "metadata": {},
   "outputs": [
    {
     "data": {
      "text/plain": [
       "['_A__a',\n",
       " '__class__',\n",
       " '__delattr__',\n",
       " '__dict__',\n",
       " '__dir__',\n",
       " '__doc__',\n",
       " '__eq__',\n",
       " '__format__',\n",
       " '__ge__',\n",
       " '__getattribute__',\n",
       " '__gt__',\n",
       " '__hash__',\n",
       " '__init__',\n",
       " '__init_subclass__',\n",
       " '__le__',\n",
       " '__lt__',\n",
       " '__module__',\n",
       " '__ne__',\n",
       " '__new__',\n",
       " '__reduce__',\n",
       " '__reduce_ex__',\n",
       " '__repr__',\n",
       " '__setattr__',\n",
       " '__sizeof__',\n",
       " '__str__',\n",
       " '__subclasshook__',\n",
       " '__weakref__',\n",
       " '_a',\n",
       " 'a']"
      ]
     },
     "execution_count": 6,
     "metadata": {},
     "output_type": "execute_result"
    }
   ],
   "source": [
    "dir(A)"
   ]
  },
  {
   "cell_type": "markdown",
   "metadata": {},
   "source": [
    "### method\n",
    "- 클래스 내에 정의된 function \n",
    "\n",
    "#### self\n",
    "- python에서 method와 functional을 차이가 내부적으로 없음\n",
    "- 첫번째 인자는 생략하도록 만듦\n",
    "- PEP8에 의해 관례상 self로 적는 것을 권장하는 것으로 다른것을 적어도 동작은 함\n",
    "\n",
    "내부적으로 function, method 차이 없음 "
   ]
  },
  {
   "cell_type": "code",
   "execution_count": 14,
   "metadata": {},
   "outputs": [],
   "source": [
    "class A:\n",
    "    a=1  \n",
    "    _a=1  #class attribute\n",
    "    __a=1 \n",
    "    def __init__(self): #method, self는 자기자신, 객체\n",
    "        print('A')"
   ]
  },
  {
   "cell_type": "markdown",
   "metadata": {},
   "source": [
    "하단의 3가지는 동일\n",
    "\n",
    "\n",
    "class의 객체 생성하는 방법\n",
    "1. function 방식\n",
    "2. method 방식"
   ]
  },
  {
   "cell_type": "code",
   "execution_count": 10,
   "metadata": {
    "scrolled": true
   },
   "outputs": [
    {
     "name": "stdout",
     "output_type": "stream",
     "text": [
      "A\n"
     ]
    }
   ],
   "source": [
    "x=A()"
   ]
  },
  {
   "cell_type": "code",
   "execution_count": 11,
   "metadata": {},
   "outputs": [
    {
     "name": "stdout",
     "output_type": "stream",
     "text": [
      "A\n"
     ]
    }
   ],
   "source": [
    "A.__init__(x) #function 방식"
   ]
  },
  {
   "cell_type": "code",
   "execution_count": null,
   "metadata": {},
   "outputs": [],
   "source": [
    "x.__init__(x) # 첫번째 인자 생략해서 아래처럼"
   ]
  },
  {
   "cell_type": "code",
   "execution_count": 15,
   "metadata": {
    "scrolled": true
   },
   "outputs": [
    {
     "name": "stdout",
     "output_type": "stream",
     "text": [
      "A\n"
     ]
    }
   ],
   "source": [
    "x.__init__() #method 방식- 첫번째 인자 생략 - super와도 중요한 개념"
   ]
  },
  {
   "cell_type": "code",
   "execution_count": 17,
   "metadata": {},
   "outputs": [
    {
     "data": {
      "text/plain": [
       "<__main__.A at 0x2088de95488>"
      ]
     },
     "execution_count": 17,
     "metadata": {},
     "output_type": "execute_result"
    }
   ],
   "source": [
    "x"
   ]
  },
  {
   "cell_type": "code",
   "execution_count": 67,
   "metadata": {},
   "outputs": [],
   "source": [
    "#PEP8: self는 관례상 self라 적는것 (java,C++은 this)\n",
    "class A:\n",
    "    a=1  \n",
    "    _a=1                 #class attribute: \n",
    "    __a=1 \n",
    "    def __init__(ss,t): # instance method(attribute)\n",
    "        ss.t=t          #instance attribute"
   ]
  },
  {
   "cell_type": "markdown",
   "metadata": {},
   "source": [
    "\n"
   ]
  },
  {
   "cell_type": "markdown",
   "metadata": {},
   "source": [
    "### 1.3.2 instance attribute\n",
    "- 인스턴스가 가지는 값\n",
    "\n",
    " self.t는 인스턴스화한 값이 갖는 고유의 값"
   ]
  },
  {
   "cell_type": "code",
   "execution_count": 69,
   "metadata": {},
   "outputs": [],
   "source": [
    "x=A(3)"
   ]
  },
  {
   "cell_type": "code",
   "execution_count": 18,
   "metadata": {},
   "outputs": [],
   "source": [
    "class A:\n",
    "    a=1  \n",
    "    _a=1                 #class attribute: \n",
    "    __a=1 \n",
    "    def __init__(self,t): #instance method\n",
    "        self.t=t         #self.t : instance attribute\n",
    "        \n",
    "        #instance 생성하는 순간에 instance method 불려짐"
   ]
  },
  {
   "cell_type": "code",
   "execution_count": 19,
   "metadata": {},
   "outputs": [
    {
     "data": {
      "text/plain": [
       "3"
      ]
     },
     "execution_count": 19,
     "metadata": {},
     "output_type": "execute_result"
    }
   ],
   "source": [
    "x=A(3)  #instance: class callable   \n",
    "#class에 () 붙이면 callable\n",
    "#class callable로 만들어지면 instance\n",
    "x.t"
   ]
  },
  {
   "cell_type": "code",
   "execution_count": 20,
   "metadata": {},
   "outputs": [
    {
     "data": {
      "text/plain": [
       "4"
      ]
     },
     "execution_count": 20,
     "metadata": {},
     "output_type": "execute_result"
    }
   ],
   "source": [
    "y=A(4)\n",
    "y.t"
   ]
  },
  {
   "cell_type": "markdown",
   "metadata": {},
   "source": [
    "### vars\n",
    "- instance attribute를 dirctionary 방식으로 표현"
   ]
  },
  {
   "cell_type": "code",
   "execution_count": 21,
   "metadata": {},
   "outputs": [
    {
     "data": {
      "text/plain": [
       "{'t': 3}"
      ]
     },
     "execution_count": 21,
     "metadata": {},
     "output_type": "execute_result"
    }
   ],
   "source": [
    "vars(x) #scikitlearn에서 썼었음"
   ]
  },
  {
   "cell_type": "code",
   "execution_count": 22,
   "metadata": {},
   "outputs": [
    {
     "data": {
      "text/plain": [
       "{'t': 4}"
      ]
     },
     "execution_count": 22,
     "metadata": {},
     "output_type": "execute_result"
    }
   ],
   "source": [
    "vars(y)"
   ]
  },
  {
   "cell_type": "markdown",
   "metadata": {},
   "source": [
    "- python은 동적으로 attribute 추가 할 수 있음\n",
    "- descriptor에 대한 이해가 필요함(나중에 다룰 예정 )"
   ]
  },
  {
   "cell_type": "code",
   "execution_count": 23,
   "metadata": {},
   "outputs": [
    {
     "data": {
      "text/plain": [
       "{'t': 3, 'k': 5}"
      ]
     },
     "execution_count": 23,
     "metadata": {},
     "output_type": "execute_result"
    }
   ],
   "source": [
    "x.k=5   #descriptor\n",
    "#instance attribute 생성\n",
    "vars(x) #추가됨"
   ]
  },
  {
   "cell_type": "code",
   "execution_count": 24,
   "metadata": {},
   "outputs": [
    {
     "data": {
      "text/plain": [
       "{'t': 3, 'k': 5}"
      ]
     },
     "execution_count": 24,
     "metadata": {},
     "output_type": "execute_result"
    }
   ],
   "source": [
    "A.kk=1   #class attribute 생성\n",
    "vars(x)  #근데 kk 없음.."
   ]
  },
  {
   "cell_type": "code",
   "execution_count": 25,
   "metadata": {},
   "outputs": [
    {
     "data": {
      "text/plain": [
       "1"
      ]
     },
     "execution_count": 25,
     "metadata": {},
     "output_type": "execute_result"
    }
   ],
   "source": [
    "x.kk   #kk 있음..!"
   ]
  },
  {
   "cell_type": "markdown",
   "metadata": {},
   "source": [
    "분명 vars(x)에는 kk 없는데 x.kk 하면 값이 나온다. Why??? <br>\n",
    "처음에 isntance attribute 찾고 있으면 반환 <br>\n",
    "없으면 class attribute를 찾고  <br>\n",
    "없으면 에러"
   ]
  },
  {
   "cell_type": "code",
   "execution_count": 26,
   "metadata": {},
   "outputs": [
    {
     "data": {
      "text/plain": [
       "{'t': 3, 'k': 5, 'kk': 8}"
      ]
     },
     "execution_count": 26,
     "metadata": {},
     "output_type": "execute_result"
    }
   ],
   "source": [
    "x.kk=8  #class attribute 변경\n",
    "vars(x)"
   ]
  },
  {
   "cell_type": "markdown",
   "metadata": {},
   "source": [
    "- instance attribute 찾고 있으면 반환 하고 없는 경우 class attribute 없으면 AttributeError\n",
    "\n",
    "아래의 에러 종류를 비교해보면"
   ]
  },
  {
   "cell_type": "code",
   "execution_count": 48,
   "metadata": {},
   "outputs": [
    {
     "ename": "AttributeError",
     "evalue": "'A' object has no attribute 'kkk'",
     "output_type": "error",
     "traceback": [
      "\u001b[0;31m---------------------------------------------------------------------------\u001b[0m",
      "\u001b[0;31mAttributeError\u001b[0m                            Traceback (most recent call last)",
      "\u001b[0;32m<ipython-input-48-03d1e942eefb>\u001b[0m in \u001b[0;36m<module>\u001b[0;34m\u001b[0m\n\u001b[0;32m----> 1\u001b[0;31m \u001b[0mx\u001b[0m\u001b[0;34m.\u001b[0m\u001b[0mkkk\u001b[0m\u001b[0;34m\u001b[0m\u001b[0;34m\u001b[0m\u001b[0m\n\u001b[0m",
      "\u001b[0;31mAttributeError\u001b[0m: 'A' object has no attribute 'kkk'"
     ]
    }
   ],
   "source": [
    "x.kkk  # AttributeError->객체에 정의되지 않은 attribute로 인한 error"
   ]
  },
  {
   "cell_type": "code",
   "execution_count": 49,
   "metadata": {},
   "outputs": [
    {
     "ename": "NameError",
     "evalue": "name 'aaaa' is not defined",
     "output_type": "error",
     "traceback": [
      "\u001b[0;31m---------------------------------------------------------------------------\u001b[0m",
      "\u001b[0;31mNameError\u001b[0m                                 Traceback (most recent call last)",
      "\u001b[0;32m<ipython-input-49-7bae8076a577>\u001b[0m in \u001b[0;36m<module>\u001b[0;34m\u001b[0m\n\u001b[0;32m----> 1\u001b[0;31m \u001b[0maaaa\u001b[0m\u001b[0;34m\u001b[0m\u001b[0;34m\u001b[0m\u001b[0m\n\u001b[0m",
      "\u001b[0;31mNameError\u001b[0m: name 'aaaa' is not defined"
     ]
    }
   ],
   "source": [
    "aaaa  # NameError"
   ]
  },
  {
   "cell_type": "markdown",
   "metadata": {},
   "source": [
    "활용"
   ]
  },
  {
   "cell_type": "code",
   "execution_count": 38,
   "metadata": {},
   "outputs": [],
   "source": [
    "class A:\n",
    "    a=1  \n",
    "    _a=1                 #class attribute: \n",
    "    __a=1 \n",
    "    def __init__(self,t): # instance method(attribute)\n",
    "        self.t=t          #instance attribute\n",
    "    def xxx(self,x): #method \n",
    "        self.x=1 #참고, self들은 self로 쓰는게 관례인거고 ss, this 이런 것으로 써도 됨\n",
    "        #인스턴스는 상태를 바꾸기 위한 (클래스에 의해 정의된) 메서드\n",
    "#class랑 instance method"
   ]
  },
  {
   "cell_type": "markdown",
   "metadata": {},
   "source": [
    "- 인스턴스 안 만들면 attribute 0개\n",
    "\n",
    "self.t라고 정해진 것들은 instance method 실행될 때마다 실행됨"
   ]
  },
  {
   "cell_type": "code",
   "execution_count": 28,
   "metadata": {},
   "outputs": [
    {
     "data": {
      "text/plain": [
       "mappingproxy({'__module__': '__main__',\n",
       "              'a': 1,\n",
       "              '_a': 1,\n",
       "              '_A__a': 1,\n",
       "              '__init__': <function __main__.A.__init__(self, t)>,\n",
       "              'xxx': <function __main__.A.xxx(self, x)>,\n",
       "              '__dict__': <attribute '__dict__' of 'A' objects>,\n",
       "              '__weakref__': <attribute '__weakref__' of 'A' objects>,\n",
       "              '__doc__': None})"
      ]
     },
     "execution_count": 28,
     "metadata": {},
     "output_type": "execute_result"
    }
   ],
   "source": [
    "vars(A)"
   ]
  },
  {
   "cell_type": "code",
   "execution_count": 39,
   "metadata": {},
   "outputs": [
    {
     "data": {
      "text/plain": [
       "{'t': 4}"
      ]
     },
     "execution_count": 39,
     "metadata": {},
     "output_type": "execute_result"
    }
   ],
   "source": [
    "x=A(4) # __init__실행\n",
    "vars(x)"
   ]
  },
  {
   "cell_type": "code",
   "execution_count": 40,
   "metadata": {},
   "outputs": [
    {
     "data": {
      "text/plain": [
       "{'t': 4, 'x': 1}"
      ]
     },
     "execution_count": 40,
     "metadata": {},
     "output_type": "execute_result"
    }
   ],
   "source": [
    "x.xxx(4)#xxx 실행\n",
    "vars(x)"
   ]
  },
  {
   "cell_type": "markdown",
   "metadata": {},
   "source": [
    "MyModel 클래스 callable 하는 순간 init 실행\n",
    "- vars에 4가지가 정의됨\n",
    "- 왜 instance attribute으로 선언했는지는 객체지향, functional paradigm을 더알아야 함\n",
    "\n",
    "참고: https://www.tensorflow.org/tutorials/quickstart/advanced?hl=ko"
   ]
  },
  {
   "cell_type": "code",
   "execution_count": null,
   "metadata": {},
   "outputs": [],
   "source": [
    "class MyModel(Model):\n",
    "  def __init__(self):\n",
    "    super(MyModel, self).__init__()\n",
    "    self.conv1 = Conv2D(32, 3, activation='relu')\n",
    "    self.flatten = Flatten()\n",
    "    self.d1 = Dense(128, activation='relu')\n",
    "    self.d2 = Dense(10, activation='softmax')\n",
    "\n",
    "  def call(self, x):\n",
    "    x = self.conv1(x)\n",
    "    x = self.flatten(x)\n",
    "    x = self.d1(x)\n",
    "    return self.d2(x)\n",
    "\n",
    "model = MyModel()"
   ]
  },
  {
   "cell_type": "markdown",
   "metadata": {},
   "source": [
    "dir\n",
    "- attribute 을 나열해줌\n",
    "- .으로 접근 가능\n",
    "- class, instance  가 서로 다르게 나옴\n",
    "- meta class 도입해야함 (사이킷의 핵심 기법)\n",
    "     - 자기만의 확장 모듈을 만들때 사용할 때 도입, 텐서플로우에서도 가능\n",
    "\n",
    "\n",
    "1. 사이킷 \n",
    "    - 범용적 알고리즘 지원\n",
    "    - 통계적 기법인 머신러닝도 지원\n",
    "2. 텐서플로우\n",
    "    - auto differentiation: 신경망 기반으로 weight update하는 알고리즘에 최적화됨"
   ]
  },
  {
   "cell_type": "code",
   "execution_count": 70,
   "metadata": {},
   "outputs": [
    {
     "data": {
      "text/plain": [
       "['_A__a',\n",
       " '__class__',\n",
       " '__delattr__',\n",
       " '__dict__',\n",
       " '__dir__',\n",
       " '__doc__',\n",
       " '__eq__',\n",
       " '__format__',\n",
       " '__ge__',\n",
       " '__getattribute__',\n",
       " '__gt__',\n",
       " '__hash__',\n",
       " '__init__',\n",
       " '__init_subclass__',\n",
       " '__le__',\n",
       " '__lt__',\n",
       " '__module__',\n",
       " '__ne__',\n",
       " '__new__',\n",
       " '__reduce__',\n",
       " '__reduce_ex__',\n",
       " '__repr__',\n",
       " '__setattr__',\n",
       " '__sizeof__',\n",
       " '__str__',\n",
       " '__subclasshook__',\n",
       " '__weakref__',\n",
       " '_a',\n",
       " 'a',\n",
       " 'xxx']"
      ]
     },
     "execution_count": 70,
     "metadata": {},
     "output_type": "execute_result"
    }
   ],
   "source": [
    "dir(A)"
   ]
  },
  {
   "cell_type": "code",
   "execution_count": 41,
   "metadata": {},
   "outputs": [
    {
     "data": {
      "text/plain": [
       "['_A__a',\n",
       " '__class__',\n",
       " '__delattr__',\n",
       " '__dict__',\n",
       " '__dir__',\n",
       " '__doc__',\n",
       " '__eq__',\n",
       " '__format__',\n",
       " '__ge__',\n",
       " '__getattribute__',\n",
       " '__gt__',\n",
       " '__hash__',\n",
       " '__init__',\n",
       " '__init_subclass__',\n",
       " '__le__',\n",
       " '__lt__',\n",
       " '__module__',\n",
       " '__ne__',\n",
       " '__new__',\n",
       " '__reduce__',\n",
       " '__reduce_ex__',\n",
       " '__repr__',\n",
       " '__setattr__',\n",
       " '__sizeof__',\n",
       " '__str__',\n",
       " '__subclasshook__',\n",
       " '__weakref__',\n",
       " '_a',\n",
       " 'a',\n",
       " 't',\n",
       " 'x',\n",
       " 'xxx']"
      ]
     },
     "execution_count": 41,
     "metadata": {},
     "output_type": "execute_result"
    }
   ],
   "source": [
    "dir(x)"
   ]
  },
  {
   "cell_type": "code",
   "execution_count": 42,
   "metadata": {},
   "outputs": [
    {
     "data": {
      "text/plain": [
       "{'t': 4, 'x': 1}"
      ]
     },
     "execution_count": 42,
     "metadata": {},
     "output_type": "execute_result"
    }
   ],
   "source": [
    "#여기서 x의 instance 변수는 2개\n",
    "vars(x)"
   ]
  },
  {
   "cell_type": "markdown",
   "metadata": {},
   "source": [
    "### 1.3.3 class, instance 차이\n",
    "- class 인스턴스화 -> callble ->\n",
    "- `type`의 결과\n",
    "    - class 는 `type`\n",
    "    - instance는 `__main__.class이름`\n",
    "- `shift+tab`\n",
    "    - class 에 Init signature: class\n",
    "- 명명규칙 \n",
    "    - class : camel"
   ]
  },
  {
   "cell_type": "markdown",
   "metadata": {},
   "source": [
    "type의 결과가 type이거나 `shift+tab`해서 Init signature나오면 class다\n",
    "`type(A)` 와 `A.__class__` 는 같은 뜻"
   ]
  },
  {
   "cell_type": "code",
   "execution_count": 32,
   "metadata": {},
   "outputs": [
    {
     "data": {
      "text/plain": [
       "type"
      ]
     },
     "execution_count": 32,
     "metadata": {},
     "output_type": "execute_result"
    }
   ],
   "source": [
    "#예를 들어 int는 class 인데\n",
    "type(int)  "
   ]
  },
  {
   "cell_type": "code",
   "execution_count": 33,
   "metadata": {},
   "outputs": [
    {
     "data": {
      "text/plain": [
       "type"
      ]
     },
     "execution_count": 33,
     "metadata": {},
     "output_type": "execute_result"
    }
   ],
   "source": [
    "int.__class__"
   ]
  },
  {
   "cell_type": "code",
   "execution_count": 72,
   "metadata": {},
   "outputs": [
    {
     "data": {
      "text/plain": [
       "__main__.A"
      ]
     },
     "execution_count": 72,
     "metadata": {},
     "output_type": "execute_result"
    }
   ],
   "source": [
    "type(x)   # 인스턴스의 type 결과   .클래스 이름"
   ]
  },
  {
   "cell_type": "code",
   "execution_count": 73,
   "metadata": {},
   "outputs": [
    {
     "data": {
      "text/plain": [
       "type"
      ]
     },
     "execution_count": 73,
     "metadata": {},
     "output_type": "execute_result"
    }
   ],
   "source": [
    "type(A)  # 클래스    type\n",
    "A.__class__"
   ]
  },
  {
   "cell_type": "code",
   "execution_count": 74,
   "metadata": {},
   "outputs": [
    {
     "data": {
      "text/plain": [
       "type"
      ]
     },
     "execution_count": 74,
     "metadata": {},
     "output_type": "execute_result"
    }
   ],
   "source": [
    "type(type) # metaclass "
   ]
  },
  {
   "cell_type": "markdown",
   "metadata": {},
   "source": [
    "### 1.3.4 metaclass\n",
    "- class의 class\n",
    "- 사이킷의 고급기법에서 많이 나오며 tf에서는 약간 나옴."
   ]
  },
  {
   "cell_type": "code",
   "execution_count": 75,
   "metadata": {},
   "outputs": [],
   "source": [
    "class B(metaclass=type): #metaclass 만드는 법\n",
    "    pass"
   ]
  },
  {
   "cell_type": "code",
   "execution_count": 37,
   "metadata": {},
   "outputs": [
    {
     "data": {
      "text/plain": [
       "type"
      ]
     },
     "execution_count": 37,
     "metadata": {},
     "output_type": "execute_result"
    }
   ],
   "source": [
    "type(type)  #type을 meta클래스라고 함"
   ]
  },
  {
   "cell_type": "code",
   "execution_count": 76,
   "metadata": {},
   "outputs": [
    {
     "data": {
      "text/plain": [
       "type"
      ]
     },
     "execution_count": 76,
     "metadata": {},
     "output_type": "execute_result"
    }
   ],
   "source": [
    "type(int) #클래스 -> 인스턴스 가능"
   ]
  },
  {
   "cell_type": "markdown",
   "metadata": {},
   "source": [
    "Init signature: int(self, /, *args, **kwargs)\n",
    "init 실행할때 나옴"
   ]
  },
  {
   "cell_type": "code",
   "execution_count": 77,
   "metadata": {},
   "outputs": [
    {
     "data": {
      "text/plain": [
       "1"
      ]
     },
     "execution_count": 77,
     "metadata": {},
     "output_type": "execute_result"
    }
   ],
   "source": [
    "x=int(1) #int 에 정의된 __init__() 실행됨\n",
    "x"
   ]
  },
  {
   "cell_type": "code",
   "execution_count": null,
   "metadata": {},
   "outputs": [],
   "source": [
    "tf.keras.Sequential #class <- init signature, Camel 방식 명명 규칙"
   ]
  },
  {
   "cell_type": "code",
   "execution_count": 78,
   "metadata": {},
   "outputs": [
    {
     "data": {
      "text/plain": [
       "type"
      ]
     },
     "execution_count": 78,
     "metadata": {},
     "output_type": "execute_result"
    }
   ],
   "source": [
    "A.__class__"
   ]
  },
  {
   "cell_type": "code",
   "execution_count": 36,
   "metadata": {},
   "outputs": [
    {
     "data": {
      "text/plain": [
       "int"
      ]
     },
     "execution_count": 36,
     "metadata": {},
     "output_type": "execute_result"
    }
   ],
   "source": [
    "type(1)"
   ]
  },
  {
   "cell_type": "code",
   "execution_count": 34,
   "metadata": {},
   "outputs": [
    {
     "data": {
      "text/plain": [
       "0"
      ]
     },
     "execution_count": 34,
     "metadata": {},
     "output_type": "execute_result"
    }
   ],
   "source": [
    "type(1)() #type(1)가 int로 바뀌어서 int()가 됨 "
   ]
  },
  {
   "cell_type": "code",
   "execution_count": 35,
   "metadata": {},
   "outputs": [
    {
     "data": {
      "text/plain": [
       "0"
      ]
     },
     "execution_count": 35,
     "metadata": {},
     "output_type": "execute_result"
    }
   ],
   "source": [
    "int()     "
   ]
  },
  {
   "cell_type": "markdown",
   "metadata": {},
   "source": [
    "### 1.3.5 class method\n",
    "- 관례상 `cls`  사용\n",
    "- `@classmethod`\n",
    "- instance는 instance attribute 다음 class attribute을 찾음\n",
    "    - 이 방법으로 instance도 class method 사용 가능"
   ]
  },
  {
   "cell_type": "code",
   "execution_count": 82,
   "metadata": {},
   "outputs": [],
   "source": [
    "class A:\n",
    "    a=1  \n",
    "    _a=1                  #class attribute: \n",
    "    __a=1 \n",
    "    def __init__(self,t): # instance method(attribute)\n",
    "        self.t=t          #instance attribute\n",
    "   \n",
    "    def xxx(self,x):      #method\n",
    "        self.x=1\n",
    "\n",
    "        \n",
    "    @classmethod\n",
    "    def y(cls):      #class method에선 관례상 cls사용(self와 동일), 생략 불가\n",
    "        print('class')"
   ]
  },
  {
   "cell_type": "code",
   "execution_count": 84,
   "metadata": {},
   "outputs": [
    {
     "name": "stdout",
     "output_type": "stream",
     "text": [
      "class\n"
     ]
    }
   ],
   "source": [
    "A.y() #class가 class사용하기 때문에 생략\n",
    "#class이기 때문에 class method 사용 가능"
   ]
  },
  {
   "cell_type": "code",
   "execution_count": 86,
   "metadata": {},
   "outputs": [
    {
     "name": "stdout",
     "output_type": "stream",
     "text": [
      "class\n"
     ]
    }
   ],
   "source": [
    "xx=A(3)\n",
    "xx.y() \n",
    "#instance x는  class method y 사용 가능 -> attribute과 동일한 규칙"
   ]
  },
  {
   "cell_type": "code",
   "execution_count": 88,
   "metadata": {},
   "outputs": [
    {
     "data": {
      "text/plain": [
       "type"
      ]
     },
     "execution_count": 88,
     "metadata": {},
     "output_type": "execute_result"
    }
   ],
   "source": [
    "type(A)"
   ]
  },
  {
   "cell_type": "markdown",
   "metadata": {},
   "source": [
    "### 1.3.6 \\_\\_main__\n",
    "- 현재 작업 공간(name space)에 정의된 직접 정의한 class인 경우 \\_\\_main__ 붙음\n",
    "- \\_\\_main__은 내가 작업하는 있는 곳에 정의했다는 의미\n",
    "- 즉, import 안 한 class"
   ]
  },
  {
   "cell_type": "code",
   "execution_count": 89,
   "metadata": {},
   "outputs": [
    {
     "data": {
      "text/plain": [
       "__main__.A"
      ]
     },
     "execution_count": 89,
     "metadata": {},
     "output_type": "execute_result"
    }
   ],
   "source": [
    "type(xx) #__main__  현재 작업하는 공간에서 만든 애인 경우"
   ]
  },
  {
   "cell_type": "code",
   "execution_count": 23,
   "metadata": {},
   "outputs": [
    {
     "data": {
      "text/plain": [
       "['A',\n",
       " 'In',\n",
       " 'KNeighborsClassifier',\n",
       " 'Out',\n",
       " '_',\n",
       " '_12',\n",
       " '_14',\n",
       " '_15',\n",
       " '_18',\n",
       " '_19',\n",
       " '_20',\n",
       " '_21',\n",
       " '_7',\n",
       " '__',\n",
       " '___',\n",
       " '__builtin__',\n",
       " '__builtins__',\n",
       " '__doc__',\n",
       " '__loader__',\n",
       " '__name__',\n",
       " '__package__',\n",
       " '__spec__',\n",
       " '_dh',\n",
       " '_i',\n",
       " '_i1',\n",
       " '_i10',\n",
       " '_i11',\n",
       " '_i12',\n",
       " '_i13',\n",
       " '_i14',\n",
       " '_i15',\n",
       " '_i16',\n",
       " '_i17',\n",
       " '_i18',\n",
       " '_i19',\n",
       " '_i2',\n",
       " '_i20',\n",
       " '_i21',\n",
       " '_i22',\n",
       " '_i23',\n",
       " '_i3',\n",
       " '_i4',\n",
       " '_i5',\n",
       " '_i6',\n",
       " '_i7',\n",
       " '_i8',\n",
       " '_i9',\n",
       " '_ih',\n",
       " '_ii',\n",
       " '_iii',\n",
       " '_oh',\n",
       " 'exit',\n",
       " 'get_ipython',\n",
       " 'iris',\n",
       " 'knn',\n",
       " 'quit',\n",
       " 'sns',\n",
       " 'x']"
      ]
     },
     "execution_count": 23,
     "metadata": {},
     "output_type": "execute_result"
    }
   ],
   "source": [
    " dir() #현재까지 쓴 attributes"
   ]
  },
  {
   "cell_type": "markdown",
   "metadata": {},
   "source": [
    "### 1.3.7 \\_ \n",
    "- 용법은 총 9가지\n",
    "    - `dir()`: _ 내부적 접근 불가\n",
    "    - _ interpreter 실행창에 나온것은 마지막 output을 접근하는데에 사용\n",
    "    - 다양한 의미를 갖고 잇음\n"
   ]
  },
  {
   "cell_type": "code",
   "execution_count": 20,
   "metadata": {
    "scrolled": false
   },
   "outputs": [
    {
     "data": {
      "text/plain": [
       "3"
      ]
     },
     "execution_count": 20,
     "metadata": {},
     "output_type": "execute_result"
    }
   ],
   "source": [
    "3"
   ]
  },
  {
   "cell_type": "code",
   "execution_count": 21,
   "metadata": {},
   "outputs": [
    {
     "data": {
      "text/plain": [
       "3"
      ]
     },
     "execution_count": 21,
     "metadata": {},
     "output_type": "execute_result"
    }
   ],
   "source": [
    "_"
   ]
  },
  {
   "cell_type": "code",
   "execution_count": 25,
   "metadata": {},
   "outputs": [
    {
     "data": {
      "text/plain": [
       "3"
      ]
     },
     "execution_count": 25,
     "metadata": {},
     "output_type": "execute_result"
    }
   ],
   "source": [
    "_20 #out[20] 의 값, 즉 _는 최종 결과값 접근한는 것에도 쓰일 수 있음"
   ]
  },
  {
   "cell_type": "code",
   "execution_count": 87,
   "metadata": {},
   "outputs": [
    {
     "name": "stdout",
     "output_type": "stream",
     "text": [
      "The Zen of Python, by Tim Peters\n",
      "\n",
      "Beautiful is better than ugly.\n",
      "Explicit is better than implicit.\n",
      "Simple is better than complex.\n",
      "Complex is better than complicated.\n",
      "Flat is better than nested.\n",
      "Sparse is better than dense.\n",
      "Readability counts.\n",
      "Special cases aren't special enough to break the rules.\n",
      "Although practicality beats purity.\n",
      "Errors should never pass silently.\n",
      "Unless explicitly silenced.\n",
      "In the face of ambiguity, refuse the temptation to guess.\n",
      "There should be one-- and preferably only one --obvious way to do it.\n",
      "Although that way may not be obvious at first unless you're Dutch.\n",
      "Now is better than never.\n",
      "Although never is often better than *right* now.\n",
      "If the implementation is hard to explain, it's a bad idea.\n",
      "If the implementation is easy to explain, it may be a good idea.\n",
      "Namespaces are one honking great idea -- let's do more of those!\n"
     ]
    }
   ],
   "source": [
    "import this #파이썬의 경지"
   ]
  },
  {
   "cell_type": "markdown",
   "metadata": {},
   "source": [
    "> Special cases aren't special enough to break the rules.\n",
    "특별한 경우는 규칠을 깰만큼 특별하지 않음.\n",
    "\n",
    "> Although that way may not be obvious at first unless you're Dutch.\n",
    "만약 당신이 네덜란드인이 아니라면 처음에는 불명확해보임\n",
    "(파이썬 창시자 귀도 반로썸이 네덜란드 사람이기 때문)\n"
   ]
  },
  {
   "cell_type": "markdown",
   "metadata": {},
   "source": [
    "### 1.3.8 staticmethod\n",
    "- 인자를 안 씀\n",
    "- java,C와 다름\n",
    "- class 내부와 상관 없이 class 이름으로 바로 사용하고 싶을 때\n",
    "- 이름만 클래스 이름으로 사용하고 싶을때 사용\n",
    "- self로 정의되지 않은 매개 변수를 사용하고 싶을때 ",
    "\n",
    "- 그냥 상관 없이 A 라는 네임스페이스 안에 쓰고 싶을 때 statticmethod"
   ]
  },
  {
   "cell_type": "code",
   "execution_count": 50,
   "metadata": {},
   "outputs": [],
   "source": [
    "#staticmethod 1    인자 없는 경우\n",
    "class A:\n",
    "    a=1  \n",
    "    _a=1                  #class attribute: \n",
    "    __a=1 \n",
    "    def __init__(self,t): # instance method(attribute)\n",
    "        self.t=t          #instance attribute\n",
    "    def xxx(self,x):      #method\n",
    "        self.x=1\n",
    "\n",
    "    @classmethod\n",
    "    def y(cls):     \n",
    "        print('class')\n",
    "        \n",
    "    @staticmethod\n",
    "    def s():              #인자 안씀\n",
    "        print('static')"
   ]
  },
  {
   "cell_type": "code",
   "execution_count": 33,
   "metadata": {},
   "outputs": [
    {
     "name": "stdout",
     "output_type": "stream",
     "text": [
      "static\n"
     ]
    }
   ],
   "source": [
    "A.s() #실행 가능"
   ]
  },
  {
   "cell_type": "code",
   "execution_count": 38,
   "metadata": {},
   "outputs": [
    {
     "data": {
      "text/plain": [
       "{'t': 3}"
      ]
     },
     "execution_count": 38,
     "metadata": {},
     "output_type": "execute_result"
    }
   ],
   "source": [
    "xx=A(3)\n",
    "vars(xx)"
   ]
  },
  {
   "cell_type": "code",
   "execution_count": 35,
   "metadata": {},
   "outputs": [
    {
     "name": "stdout",
     "output_type": "stream",
     "text": [
      "static\n"
     ]
    }
   ],
   "source": [
    "xx.s() "
   ]
  },
  {
   "cell_type": "code",
   "execution_count": 47,
   "metadata": {},
   "outputs": [],
   "source": [
    "#staticmethod 2\n",
    "class A:\n",
    "    a=1  \n",
    "    _a=1                  #class attribute: \n",
    "    __a=1 \n",
    "    def __init__(self,t): # instance method(attribute)\n",
    "        self.t=t          #instance attribute\n",
    "    def xxx(self,x):      #method\n",
    "        self.x=1\n",
    "\n",
    "    @classmethod\n",
    "    def y(cls):     \n",
    "        print('class')\n",
    "        \n",
    "    @staticmethod\n",
    "    def s():              #인자 안씀\n",
    "        print(self.t)"
   ]
  },
  {
   "cell_type": "code",
   "execution_count": 42,
   "metadata": {},
   "outputs": [
    {
     "data": {
      "text/plain": [
       "{'t': 3}"
      ]
     },
     "execution_count": 42,
     "metadata": {},
     "output_type": "execute_result"
    }
   ],
   "source": [
    "xx=A(3)\n",
    "vars(xx)"
   ]
  },
  {
   "cell_type": "code",
   "execution_count": 106,
   "metadata": {},
   "outputs": [
    {
     "name": "stdout",
     "output_type": "stream",
     "text": [
      "static\n"
     ]
    },
    {
     "ename": "NameError",
     "evalue": "name 'self' is not defined",
     "output_type": "error",
     "traceback": [
      "\u001b[0;31m---------------------------------------------------------------------------\u001b[0m",
      "\u001b[0;31mNameError\u001b[0m                                 Traceback (most recent call last)",
      "\u001b[0;32m<ipython-input-106-098bada651f6>\u001b[0m in \u001b[0;36m<module>\u001b[0;34m\u001b[0m\n\u001b[0;32m----> 1\u001b[0;31m \u001b[0mxx\u001b[0m\u001b[0;34m.\u001b[0m\u001b[0ms\u001b[0m\u001b[0;34m(\u001b[0m\u001b[0;34m)\u001b[0m\u001b[0;34m\u001b[0m\u001b[0;34m\u001b[0m\u001b[0m\n\u001b[0m",
      "\u001b[0;32m<ipython-input-104-3468fa0cb648>\u001b[0m in \u001b[0;36ms\u001b[0;34m()\u001b[0m\n\u001b[1;32m     15\u001b[0m     \u001b[0;32mdef\u001b[0m \u001b[0ms\u001b[0m\u001b[0;34m(\u001b[0m\u001b[0;34m)\u001b[0m\u001b[0;34m:\u001b[0m        \u001b[0;31m#인자 안씀\u001b[0m\u001b[0;34m\u001b[0m\u001b[0;34m\u001b[0m\u001b[0m\n\u001b[1;32m     16\u001b[0m         \u001b[0mprint\u001b[0m\u001b[0;34m(\u001b[0m\u001b[0;34m'static'\u001b[0m\u001b[0;34m)\u001b[0m\u001b[0;34m\u001b[0m\u001b[0;34m\u001b[0m\u001b[0m\n\u001b[0;32m---> 17\u001b[0;31m         \u001b[0mprint\u001b[0m\u001b[0;34m(\u001b[0m\u001b[0mself\u001b[0m\u001b[0;34m.\u001b[0m\u001b[0mt\u001b[0m\u001b[0;34m)\u001b[0m\u001b[0;34m\u001b[0m\u001b[0;34m\u001b[0m\u001b[0m\n\u001b[0m",
      "\u001b[0;31mNameError\u001b[0m: name 'self' is not defined"
     ]
    }
   ],
   "source": [
    "xx.s() # self가 없기 때문에 불가"
   ]
  },
  {
   "cell_type": "code",
   "execution_count": 43,
   "metadata": {},
   "outputs": [],
   "source": [
    "#staticmethod 3\n",
    "class A:\n",
    "    a=1  \n",
    "    _a=1                 #class attribute: \n",
    "    __a=1 \n",
    "    def __init__(self,t): # instance method(attribute)\n",
    "        self.t=t          #instance attribute\n",
    "    def xxx(self,x): #method\n",
    "        self.x=1\n",
    "\n",
    "    @classmethod\n",
    "    def y(cls):      #class method에서 관례상 cls사용(self와 동일)\n",
    "        print('class')\n",
    "        \n",
    "    @staticmethod\n",
    "    def s(x):        \n",
    "        print(x+3)"
   ]
  },
  {
   "cell_type": "markdown",
   "metadata": {},
   "source": [
    "- class내부와 상관없이 클래스 이름으로 접근하는 \n",
    "- 이름만 클래스 이름으로 사용하고 싶을때 사용\n",
    "- self로 정의되지 않은 매개 변수를 사용하고 싶을때 ",
    "\n",
    "- A 라는 네임스페이스 안에 씀"
   ]
  },
  {
   "cell_type": "code",
   "execution_count": 45,
   "metadata": {},
   "outputs": [
    {
     "name": "stdout",
     "output_type": "stream",
     "text": [
      "6\n"
     ]
    }
   ],
   "source": [
    "A.s(3)"
   ]
  },
  {
   "cell_type": "markdown",
   "metadata": {},
   "source": [
    "객체들은 임의의 종류의 데이터를 양적 제한 없이 가질 수 있다\n",
    "딱 1개만 만들 수 있게 하는 것 Singletone : 객체를 딱 하나 만들 수 있게 하는 것"
   ]
  },
  {
   "cell_type": "code",
   "execution_count": 52,
   "metadata": {},
   "outputs": [],
   "source": [
    "a = A(3)\n",
    "b=A(4)\n",
    "c=A(5) \n",
    "#이렇게 제한 없이 만들 수 있다."
   ]
  },
  {
   "cell_type": "markdown",
   "metadata": {},
   "source": [
    "#### 1.3.9 정리\n",
    "### class \n",
    "> encapsulation : 클래스는 데이터와 기능을 함께 묶는 방법을 제공\n",
    "\n",
    "> 새 클래스를 만드는 것은 객체의 새 형(type) 을 만들어서, 그 형의 새 인스턴스 를 만들 수 있도록 합니다. 각 클래스 인스턴스는 상태를 유지하기 위해 그 자신에게 첨부된 어트리뷰트를 가질 수 있습니다. 클래스 인스턴스는 상태를 바꾸기 위한 (클래스에 의해 정의된) 메서드도 가질 수 있습니다.\n",
    "모든 표준 기능을 제공함 \n",
    "\n",
    "- instance , class 구분 가능\n",
    "- 다른 프로그래밍 언어에서는 instance하기위해서 다른 용어를 썼지만 python은 아님\n",
    "- overriding, method overlaoding, operator overloading의 표준기능 제공\n",
    "    - decorator : 함수기능 바꿀때 사용\n",
    "\n",
    "> 클래스 상속 메커니즘은 다중 베이스 클래스 허락... \n",
    "\n",
    "- python은 다중 상속 언어 \n",
    "    - `sklearn.base.MetaEstimatorMixin`\n",
    "- java는 다중상속 개념이 없음 \n",
    "- 득과 실이 동시에 존재하기 때문애 tf는 가능한 다중상속 사용하지 않으나 사이킷런은 다중상속을 씀\n",
    "\n",
    "\n",
    "> 객체들은 임의의 종류의 데이터를 양적 제한 없이 가질 수 있습니다\n",
    "\n",
    "- 무한히 객체를 여러개 만들 수 있음\n",
    "    - <=> singleton(design pattern 중 1개): 객체를 1개 밖에 못만듦\n",
    "\n",
    ">래스는 파이썬의 **동적인 본성**을 함께 나눕니다: 실행 시간에 만들어지고, 만들어진 후에도 더 수정될 수 있습니다.\n",
    "\n",
    "- attribute 추가,수정 가능\n",
    "\n",
    "> 9.1. 이름과 객체에 관한 한마디\n",
    "객체는 개체성(individuality)을 갖고, **여러 개의 이름이 (여러 개의 스코프에서) 같은 객체에 연결될 수 있습니다**\n",
    "- binding 개념"
   ]
  },
  {
   "cell_type": "markdown",
   "metadata": {},
   "source": [
    "> 이것은 다른 언어들에서는 에일리어싱(aliasing) 이라고 알려져 있습니다. 보통 파이썬을 처음 볼 때 이 점을 높이 평가하지는 않고, **불변 기본형들 (숫자, 문자열, 튜플)을 다루는 동안은 안전하게 무시**할 수 있습니다. 하지만, 에일리어싱는 리스트, 딕셔너리나 그 밖의 다른 **가변 객체들을 수반하는 파이썬 코드의 의미에 극적인 효과를 줄 수 있습니다. 이것은 보통 프로그램에 혜택이 되는데, 에일리어스는 어떤 면에서 포인터처럼 동작하기 때문입니다.** 예를 들어, 구현이 포인터만 전달하기 때문에, 객체를 전달하는 비용이 적게 듭니다; 그리고 함수가 인자로 전달된 객체를 수정하면, 호출자는 그 변경을 보게 됩니다 — 이것은 파스칼에서 사용되는 두 가지 서로 다른 인자 전달 메커니즘의 필요를 제거합니다.\n",
    "\n",
    "-mutable 일때만 포인터처럼 사용\n",
    "\n",
    "파이썬 공식문서 9.클래스 참고 : https://docs.python.org/ko/3/tutorial/classes.html\n",
    "\n",
    "값 할당하는 방법"
   ]
  },
  {
   "cell_type": "markdown",
   "metadata": {},
   "source": [
    "### 객체\n",
    "\n",
    "### 1.4 값 할당"
   ]
  },
  {
   "cell_type": "raw",
   "metadata": {},
   "source": [
    "a=1\n",
    "a,b=1,2\n",
    "a=b=1       #동일 값을 여러개로 할당함 -> numpy,tf 중요\n",
    "a,b*=1,2,3\n",
    "a+=1\n",
    "global, nonlocal "
   ]
  },
  {
   "cell_type": "markdown",
   "metadata": {},
   "source": [
    "1. a,b를 구분자로만 사용하여 어떤값이 바뀌었는지 확인용\n",
    "포인터: 첫번째 주소를 갖고\n",
    "어떤값이 바뀌는지 확인용으로 \n",
    "2. 처음에 같이하다가 중간에 다른 값으로 사용하기 위해 바꿈(카피를 통해)\n",
    "- c=a.copy() :동일한 데이터를 여러개 이름으로 독립적으로 사용\n",
    "- numpy,tensor에서 copy 개념 중요함"
   ]
  },
  {
   "cell_type": "code",
   "execution_count": null,
   "metadata": {},
   "outputs": [],
   "source": [
    "dataset=raw_dataset.copy() #deep copy 예시"
   ]
  },
  {
   "cell_type": "code",
   "execution_count": 112,
   "metadata": {},
   "outputs": [
    {
     "data": {
      "text/plain": [
       "([1, 2, 3], [1, 2, 3])"
      ]
     },
     "execution_count": 112,
     "metadata": {},
     "output_type": "execute_result"
    }
   ],
   "source": [
    "a=b=[1,2,3]\n",
    "a,b         #동일하게 할당"
   ]
  },
  {
   "cell_type": "markdown",
   "metadata": {},
   "source": [
    "이렇게 여러 개의 이름에(여러 개의 스코프에서) 같은 객체를 연결 가능 <br>\n",
    "현재 a,b의 메모리 위치는 같음 <br>\n",
    "포인터를 사용한는 것 처럼 <br>\n",
    "같은 데이터를 여러 개의 이름으로 사용"
   ]
  },
  {
   "cell_type": "code",
   "execution_count": 115,
   "metadata": {},
   "outputs": [
    {
     "data": {
      "text/plain": [
       "140246849359376"
      ]
     },
     "execution_count": 115,
     "metadata": {},
     "output_type": "execute_result"
    }
   ],
   "source": [
    "id(a)  #동일한 메모리 "
   ]
  },
  {
   "cell_type": "code",
   "execution_count": 116,
   "metadata": {},
   "outputs": [
    {
     "data": {
      "text/plain": [
       "140246849359376"
      ]
     },
     "execution_count": 116,
     "metadata": {},
     "output_type": "execute_result"
    }
   ],
   "source": [
    "id(b)   #동일한 메모리"
   ]
  },
  {
   "cell_type": "code",
   "execution_count": 113,
   "metadata": {},
   "outputs": [
    {
     "data": {
      "text/plain": [
       "[100, 2, 3]"
      ]
     },
     "execution_count": 113,
     "metadata": {},
     "output_type": "execute_result"
    }
   ],
   "source": [
    "a[0]=100\n",
    "a"
   ]
  },
  {
   "cell_type": "code",
   "execution_count": 114,
   "metadata": {},
   "outputs": [
    {
     "data": {
      "text/plain": [
       "[100, 2, 3]"
      ]
     },
     "execution_count": 114,
     "metadata": {},
     "output_type": "execute_result"
    }
   ],
   "source": [
    "b      # changed"
   ]
  },
  {
   "cell_type": "markdown",
   "metadata": {},
   "source": [
    "### 1.5 Namespaces\n",
    "\n",
    "아래 예시에서 a는 namespaces"
   ]
  },
  {
   "cell_type": "code",
   "execution_count": 126,
   "metadata": {},
   "outputs": [
    {
     "name": "stdout",
     "output_type": "stream",
     "text": [
      "Writing a.py\n"
     ]
    }
   ],
   "source": [
    "%%writefile a.py  # %% : 해당 칸에 있는 것 다\n",
    "aaa=1\n",
    "_bbb=1\n",
    "def x():\n",
    "    return 1"
   ]
  },
  {
   "cell_type": "code",
   "execution_count": null,
   "metadata": {},
   "outputs": [],
   "source": [
    "%ls        # a.py생성"
   ]
  },
  {
   "cell_type": "code",
   "execution_count": 43,
   "metadata": {},
   "outputs": [],
   "source": [
    "import a   #a module 불러오기\n",
    "#이제 a를 a안에 내용을 사용하기 위해선 a.을 써줘야함\n",
    "#이 a를 바로 namespace라고 함\n",
    "#이것과 유사한 것이 바로 클래스"
   ]
  },
  {
   "cell_type": "code",
   "execution_count": 128,
   "metadata": {},
   "outputs": [
    {
     "data": {
      "text/plain": [
       "1"
      ]
     },
     "execution_count": 128,
     "metadata": {},
     "output_type": "execute_result"
    }
   ],
   "source": [
    "a.aaa"
   ]
  },
  {
   "cell_type": "code",
   "execution_count": 129,
   "metadata": {},
   "outputs": [
    {
     "data": {
      "text/plain": [
       "1"
      ]
     },
     "execution_count": 129,
     "metadata": {},
     "output_type": "execute_result"
    }
   ],
   "source": [
    "a._bbb #namespace a , 비슷한게 클래스 "
   ]
  },
  {
   "cell_type": "code",
   "execution_count": 130,
   "metadata": {},
   "outputs": [
    {
     "data": {
      "text/plain": [
       "module"
      ]
     },
     "execution_count": 130,
     "metadata": {},
     "output_type": "execute_result"
    }
   ],
   "source": [
    "type(a) #모듈도 객체"
   ]
  },
  {
   "cell_type": "code",
   "execution_count": 44,
   "metadata": {},
   "outputs": [
    {
     "data": {
      "text/plain": [
       "['__builtins__',\n",
       " '__cached__',\n",
       " '__doc__',\n",
       " '__file__',\n",
       " '__loader__',\n",
       " '__name__',\n",
       " '__package__',\n",
       " '__spec__',\n",
       " '_bbb',\n",
       " 'aaa',\n",
       " 'x']"
      ]
     },
     "execution_count": 44,
     "metadata": {},
     "output_type": "execute_result"
    }
   ],
   "source": [
    "dir(a)"
   ]
  },
  {
   "cell_type": "code",
   "execution_count": 131,
   "metadata": {},
   "outputs": [
    {
     "data": {
      "text/plain": [
       "1"
      ]
     },
     "execution_count": 131,
     "metadata": {},
     "output_type": "execute_result"
    }
   ],
   "source": [
    "import a as b #a를 b로 별칭(alias) 함\n",
    "#a를 b로 가져오겠다\n",
    "b.aaa"
   ]
  },
  {
   "cell_type": "code",
   "execution_count": 132,
   "metadata": {},
   "outputs": [
    {
     "data": {
      "text/plain": [
       "['__builtins__',\n",
       " '__cached__',\n",
       " '__doc__',\n",
       " '__file__',\n",
       " '__loader__',\n",
       " '__name__',\n",
       " '__package__',\n",
       " '__spec__',\n",
       " '_bbb',\n",
       " 'aaa',\n",
       " 'x']"
      ]
     },
     "execution_count": 132,
     "metadata": {},
     "output_type": "execute_result"
    }
   ],
   "source": [
    "dir(b)"
   ]
  },
  {
   "cell_type": "code",
   "execution_count": 133,
   "metadata": {
    "scrolled": true
   },
   "outputs": [
    {
     "data": {
      "text/plain": [
       "'a'"
      ]
     },
     "execution_count": 133,
     "metadata": {},
     "output_type": "execute_result"
    }
   ],
   "source": [
    "b.__name__ # 진짜 이름을 말해라\n",
    "#aliasing 별칭\n",
    "#진짜 이름은 a!!"
   ]
  },
  {
   "cell_type": "markdown",
   "metadata": {},
   "source": [
    "### vars"
   ]
  },
  {
   "cell_type": "code",
   "execution_count": 8,
   "metadata": {},
   "outputs": [],
   "source": [
    "import seaborn as sns"
   ]
  },
  {
   "cell_type": "code",
   "execution_count": 9,
   "metadata": {},
   "outputs": [],
   "source": [
    "iris= sns.load_dataset('iris')"
   ]
  },
  {
   "cell_type": "code",
   "execution_count": 10,
   "metadata": {},
   "outputs": [],
   "source": [
    "from sklearn.neighbors import KNeighborsClassifier"
   ]
  },
  {
   "cell_type": "code",
   "execution_count": 11,
   "metadata": {},
   "outputs": [],
   "source": [
    "knn=KNeighborsClassifier()"
   ]
  },
  {
   "cell_type": "code",
   "execution_count": 12,
   "metadata": {},
   "outputs": [
    {
     "data": {
      "text/plain": [
       "{'n_neighbors': 5,\n",
       " 'radius': None,\n",
       " 'algorithm': 'auto',\n",
       " 'leaf_size': 30,\n",
       " 'metric': 'minkowski',\n",
       " 'metric_params': None,\n",
       " 'p': 2,\n",
       " 'n_jobs': None,\n",
       " 'weights': 'uniform'}"
      ]
     },
     "execution_count": 12,
     "metadata": {},
     "output_type": "execute_result"
    }
   ],
   "source": [
    "vars(knn)  #학습 안 되어있음"
   ]
  },
  {
   "cell_type": "code",
   "execution_count": 15,
   "metadata": {},
   "outputs": [
    {
     "data": {
      "text/plain": [
       "(0         setosa\n",
       " 1         setosa\n",
       " 2         setosa\n",
       " 3         setosa\n",
       " 4         setosa\n",
       "          ...    \n",
       " 145    virginica\n",
       " 146    virginica\n",
       " 147    virginica\n",
       " 148    virginica\n",
       " 149    virginica\n",
       " Name: species, Length: 150, dtype: object,\n",
       " 0         setosa\n",
       " 1         setosa\n",
       " 2         setosa\n",
       " 3         setosa\n",
       " 4         setosa\n",
       "          ...    \n",
       " 145    virginica\n",
       " 146    virginica\n",
       " 147    virginica\n",
       " 148    virginica\n",
       " 149    virginica\n",
       " Name: species, Length: 150, dtype: object)"
      ]
     },
     "execution_count": 15,
     "metadata": {},
     "output_type": "execute_result"
    }
   ],
   "source": [
    "iris.species,iris.species"
   ]
  },
  {
   "cell_type": "code",
   "execution_count": 18,
   "metadata": {},
   "outputs": [
    {
     "data": {
      "text/plain": [
       "KNeighborsClassifier(algorithm='auto', leaf_size=30, metric='minkowski',\n",
       "                     metric_params=None, n_jobs=None, n_neighbors=5, p=2,\n",
       "                     weights='uniform')"
      ]
     },
     "execution_count": 18,
     "metadata": {},
     "output_type": "execute_result"
    }
   ],
   "source": [
    "knn.fit(iris.iloc[:,:-1],iris.species) #학습"
   ]
  },
  {
   "cell_type": "code",
   "execution_count": 19,
   "metadata": {
    "scrolled": false
   },
   "outputs": [
    {
     "data": {
      "text/plain": [
       "{'n_neighbors': 5,\n",
       " 'radius': None,\n",
       " 'algorithm': 'auto',\n",
       " 'leaf_size': 30,\n",
       " 'metric': 'minkowski',\n",
       " 'metric_params': None,\n",
       " 'p': 2,\n",
       " 'n_jobs': None,\n",
       " 'weights': 'uniform',\n",
       " 'outputs_2d_': False,\n",
       " 'classes_': array(['setosa', 'versicolor', 'virginica'], dtype=object),\n",
       " '_y': array([0, 0, 0, 0, 0, 0, 0, 0, 0, 0, 0, 0, 0, 0, 0, 0, 0, 0, 0, 0, 0, 0,\n",
       "        0, 0, 0, 0, 0, 0, 0, 0, 0, 0, 0, 0, 0, 0, 0, 0, 0, 0, 0, 0, 0, 0,\n",
       "        0, 0, 0, 0, 0, 0, 1, 1, 1, 1, 1, 1, 1, 1, 1, 1, 1, 1, 1, 1, 1, 1,\n",
       "        1, 1, 1, 1, 1, 1, 1, 1, 1, 1, 1, 1, 1, 1, 1, 1, 1, 1, 1, 1, 1, 1,\n",
       "        1, 1, 1, 1, 1, 1, 1, 1, 1, 1, 1, 1, 2, 2, 2, 2, 2, 2, 2, 2, 2, 2,\n",
       "        2, 2, 2, 2, 2, 2, 2, 2, 2, 2, 2, 2, 2, 2, 2, 2, 2, 2, 2, 2, 2, 2,\n",
       "        2, 2, 2, 2, 2, 2, 2, 2, 2, 2, 2, 2, 2, 2, 2, 2, 2, 2]),\n",
       " 'effective_metric_params_': {},\n",
       " 'effective_metric_': 'euclidean',\n",
       " '_fit_method': 'kd_tree',\n",
       " '_fit_X': array([[5.1, 3.5, 1.4, 0.2],\n",
       "        [4.9, 3. , 1.4, 0.2],\n",
       "        [4.7, 3.2, 1.3, 0.2],\n",
       "        [4.6, 3.1, 1.5, 0.2],\n",
       "        [5. , 3.6, 1.4, 0.2],\n",
       "        [5.4, 3.9, 1.7, 0.4],\n",
       "        [4.6, 3.4, 1.4, 0.3],\n",
       "        [5. , 3.4, 1.5, 0.2],\n",
       "        [4.4, 2.9, 1.4, 0.2],\n",
       "        [4.9, 3.1, 1.5, 0.1],\n",
       "        [5.4, 3.7, 1.5, 0.2],\n",
       "        [4.8, 3.4, 1.6, 0.2],\n",
       "        [4.8, 3. , 1.4, 0.1],\n",
       "        [4.3, 3. , 1.1, 0.1],\n",
       "        [5.8, 4. , 1.2, 0.2],\n",
       "        [5.7, 4.4, 1.5, 0.4],\n",
       "        [5.4, 3.9, 1.3, 0.4],\n",
       "        [5.1, 3.5, 1.4, 0.3],\n",
       "        [5.7, 3.8, 1.7, 0.3],\n",
       "        [5.1, 3.8, 1.5, 0.3],\n",
       "        [5.4, 3.4, 1.7, 0.2],\n",
       "        [5.1, 3.7, 1.5, 0.4],\n",
       "        [4.6, 3.6, 1. , 0.2],\n",
       "        [5.1, 3.3, 1.7, 0.5],\n",
       "        [4.8, 3.4, 1.9, 0.2],\n",
       "        [5. , 3. , 1.6, 0.2],\n",
       "        [5. , 3.4, 1.6, 0.4],\n",
       "        [5.2, 3.5, 1.5, 0.2],\n",
       "        [5.2, 3.4, 1.4, 0.2],\n",
       "        [4.7, 3.2, 1.6, 0.2],\n",
       "        [4.8, 3.1, 1.6, 0.2],\n",
       "        [5.4, 3.4, 1.5, 0.4],\n",
       "        [5.2, 4.1, 1.5, 0.1],\n",
       "        [5.5, 4.2, 1.4, 0.2],\n",
       "        [4.9, 3.1, 1.5, 0.2],\n",
       "        [5. , 3.2, 1.2, 0.2],\n",
       "        [5.5, 3.5, 1.3, 0.2],\n",
       "        [4.9, 3.6, 1.4, 0.1],\n",
       "        [4.4, 3. , 1.3, 0.2],\n",
       "        [5.1, 3.4, 1.5, 0.2],\n",
       "        [5. , 3.5, 1.3, 0.3],\n",
       "        [4.5, 2.3, 1.3, 0.3],\n",
       "        [4.4, 3.2, 1.3, 0.2],\n",
       "        [5. , 3.5, 1.6, 0.6],\n",
       "        [5.1, 3.8, 1.9, 0.4],\n",
       "        [4.8, 3. , 1.4, 0.3],\n",
       "        [5.1, 3.8, 1.6, 0.2],\n",
       "        [4.6, 3.2, 1.4, 0.2],\n",
       "        [5.3, 3.7, 1.5, 0.2],\n",
       "        [5. , 3.3, 1.4, 0.2],\n",
       "        [7. , 3.2, 4.7, 1.4],\n",
       "        [6.4, 3.2, 4.5, 1.5],\n",
       "        [6.9, 3.1, 4.9, 1.5],\n",
       "        [5.5, 2.3, 4. , 1.3],\n",
       "        [6.5, 2.8, 4.6, 1.5],\n",
       "        [5.7, 2.8, 4.5, 1.3],\n",
       "        [6.3, 3.3, 4.7, 1.6],\n",
       "        [4.9, 2.4, 3.3, 1. ],\n",
       "        [6.6, 2.9, 4.6, 1.3],\n",
       "        [5.2, 2.7, 3.9, 1.4],\n",
       "        [5. , 2. , 3.5, 1. ],\n",
       "        [5.9, 3. , 4.2, 1.5],\n",
       "        [6. , 2.2, 4. , 1. ],\n",
       "        [6.1, 2.9, 4.7, 1.4],\n",
       "        [5.6, 2.9, 3.6, 1.3],\n",
       "        [6.7, 3.1, 4.4, 1.4],\n",
       "        [5.6, 3. , 4.5, 1.5],\n",
       "        [5.8, 2.7, 4.1, 1. ],\n",
       "        [6.2, 2.2, 4.5, 1.5],\n",
       "        [5.6, 2.5, 3.9, 1.1],\n",
       "        [5.9, 3.2, 4.8, 1.8],\n",
       "        [6.1, 2.8, 4. , 1.3],\n",
       "        [6.3, 2.5, 4.9, 1.5],\n",
       "        [6.1, 2.8, 4.7, 1.2],\n",
       "        [6.4, 2.9, 4.3, 1.3],\n",
       "        [6.6, 3. , 4.4, 1.4],\n",
       "        [6.8, 2.8, 4.8, 1.4],\n",
       "        [6.7, 3. , 5. , 1.7],\n",
       "        [6. , 2.9, 4.5, 1.5],\n",
       "        [5.7, 2.6, 3.5, 1. ],\n",
       "        [5.5, 2.4, 3.8, 1.1],\n",
       "        [5.5, 2.4, 3.7, 1. ],\n",
       "        [5.8, 2.7, 3.9, 1.2],\n",
       "        [6. , 2.7, 5.1, 1.6],\n",
       "        [5.4, 3. , 4.5, 1.5],\n",
       "        [6. , 3.4, 4.5, 1.6],\n",
       "        [6.7, 3.1, 4.7, 1.5],\n",
       "        [6.3, 2.3, 4.4, 1.3],\n",
       "        [5.6, 3. , 4.1, 1.3],\n",
       "        [5.5, 2.5, 4. , 1.3],\n",
       "        [5.5, 2.6, 4.4, 1.2],\n",
       "        [6.1, 3. , 4.6, 1.4],\n",
       "        [5.8, 2.6, 4. , 1.2],\n",
       "        [5. , 2.3, 3.3, 1. ],\n",
       "        [5.6, 2.7, 4.2, 1.3],\n",
       "        [5.7, 3. , 4.2, 1.2],\n",
       "        [5.7, 2.9, 4.2, 1.3],\n",
       "        [6.2, 2.9, 4.3, 1.3],\n",
       "        [5.1, 2.5, 3. , 1.1],\n",
       "        [5.7, 2.8, 4.1, 1.3],\n",
       "        [6.3, 3.3, 6. , 2.5],\n",
       "        [5.8, 2.7, 5.1, 1.9],\n",
       "        [7.1, 3. , 5.9, 2.1],\n",
       "        [6.3, 2.9, 5.6, 1.8],\n",
       "        [6.5, 3. , 5.8, 2.2],\n",
       "        [7.6, 3. , 6.6, 2.1],\n",
       "        [4.9, 2.5, 4.5, 1.7],\n",
       "        [7.3, 2.9, 6.3, 1.8],\n",
       "        [6.7, 2.5, 5.8, 1.8],\n",
       "        [7.2, 3.6, 6.1, 2.5],\n",
       "        [6.5, 3.2, 5.1, 2. ],\n",
       "        [6.4, 2.7, 5.3, 1.9],\n",
       "        [6.8, 3. , 5.5, 2.1],\n",
       "        [5.7, 2.5, 5. , 2. ],\n",
       "        [5.8, 2.8, 5.1, 2.4],\n",
       "        [6.4, 3.2, 5.3, 2.3],\n",
       "        [6.5, 3. , 5.5, 1.8],\n",
       "        [7.7, 3.8, 6.7, 2.2],\n",
       "        [7.7, 2.6, 6.9, 2.3],\n",
       "        [6. , 2.2, 5. , 1.5],\n",
       "        [6.9, 3.2, 5.7, 2.3],\n",
       "        [5.6, 2.8, 4.9, 2. ],\n",
       "        [7.7, 2.8, 6.7, 2. ],\n",
       "        [6.3, 2.7, 4.9, 1.8],\n",
       "        [6.7, 3.3, 5.7, 2.1],\n",
       "        [7.2, 3.2, 6. , 1.8],\n",
       "        [6.2, 2.8, 4.8, 1.8],\n",
       "        [6.1, 3. , 4.9, 1.8],\n",
       "        [6.4, 2.8, 5.6, 2.1],\n",
       "        [7.2, 3. , 5.8, 1.6],\n",
       "        [7.4, 2.8, 6.1, 1.9],\n",
       "        [7.9, 3.8, 6.4, 2. ],\n",
       "        [6.4, 2.8, 5.6, 2.2],\n",
       "        [6.3, 2.8, 5.1, 1.5],\n",
       "        [6.1, 2.6, 5.6, 1.4],\n",
       "        [7.7, 3. , 6.1, 2.3],\n",
       "        [6.3, 3.4, 5.6, 2.4],\n",
       "        [6.4, 3.1, 5.5, 1.8],\n",
       "        [6. , 3. , 4.8, 1.8],\n",
       "        [6.9, 3.1, 5.4, 2.1],\n",
       "        [6.7, 3.1, 5.6, 2.4],\n",
       "        [6.9, 3.1, 5.1, 2.3],\n",
       "        [5.8, 2.7, 5.1, 1.9],\n",
       "        [6.8, 3.2, 5.9, 2.3],\n",
       "        [6.7, 3.3, 5.7, 2.5],\n",
       "        [6.7, 3. , 5.2, 2.3],\n",
       "        [6.3, 2.5, 5. , 1.9],\n",
       "        [6.5, 3. , 5.2, 2. ],\n",
       "        [6.2, 3.4, 5.4, 2.3],\n",
       "        [5.9, 3. , 5.1, 1.8]]),\n",
       " 'n_samples_fit_': 150,\n",
       " '_tree': <sklearn.neighbors._kd_tree.KDTree at 0x7ffbd5136c20>}"
      ]
     },
     "execution_count": 19,
     "metadata": {},
     "output_type": "execute_result"
    }
   ],
   "source": [
    "vars(knn)                             #학습 후에는 바뀌었음"
   ]
  }
 ],
 "metadata": {
  "kernelspec": {
   "display_name": "Python 3",
   "language": "python",
   "name": "python3"
  },
  "language_info": {
   "codemirror_mode": {
    "name": "ipython",
    "version": 3
   },
   "file_extension": ".py",
   "mimetype": "text/x-python",
   "name": "python",
   "nbconvert_exporter": "python",
   "pygments_lexer": "ipython3",
   "version": "3.7.7"
  }
 },
 "nbformat": 4,
 "nbformat_minor": 4
}
