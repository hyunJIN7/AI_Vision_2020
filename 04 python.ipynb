{
 "cells": [
  {
   "cell_type": "markdown",
   "metadata": {},
   "source": [
    "# [AI 이노베이션 스퀘어] 12기 고급 시각반\n",
    "- github: https://github.com/hysKim1/AI_Vision\n",
    "    - [파이썬 공식문서]https://docs.python.org/ko/3/\n",
    "    - [Numpy 공식문서]https://numpy.org/devdocs/\n",
    "    - [ML]https://developers.google.com/machine-learning/crash-course/ml-intro?hl=ko\n",
    "    - [DL]https://www.tensorflow.org/?hl=ko\n",
    "---\n",
    "\n",
    "\n",
    "중심 내용 : 함수와 메소드 선언 후 이에 관한 내용 \n",
    "\n",
    " * [영상 처리/딥러닝을 위한 Python Programming4](#영상-처리/딥러닝을-위한-Python-Programming4) \n",
    "      * 1.[Magic Methods](#1.-Magic-Methods)\n",
    "      * 2.[overloading](#2.-overloading)\n",
    "          * 2.1[연산자 오버로딩](#2.1-연산자-오버로딩)\n",
    "              * [duck-typing ](#duck-typing )\n",
    "      * 3.[상속](#3.-상속)\n",
    "          * 3.1[상속 들어가기 전]\n",
    "          * 3.2[상속](#3.2-상속)\n",
    "          * 3.3[\\_\\_mro__](#3.3-__mro__)\n",
    "          * 3.4[ is, interning](#3.4-is)\n",
    "          * 3.5[ super](#3.5-super)\n",
    "              * [tf의 constant, variable  ,super 사전 내용](#tf-constant-vs-Variable-차이)\n",
    "      * 4.[ composition](#4.-composition)\n",
    "          * 4.1[ composition](#4.-composition)\n",
    "          * 4.2[\\_\\_getattr__](#4.2-\\_\\_getattr__)\n",
    "      * 5.[다형성](#5.-다형성)\n",
    "---\n",
    "\n",
    "\n",
    "이정도 수준의 자습을 하기위한 공부 방법 추천\n",
    "\n",
    "- 참고 : [언어 레퍼런스](https://docs.python.org/ko/3/glossary.html) or fluent python (전문가를 위한 파이썬)"
   ]
  },
  {
   "cell_type": "markdown",
   "metadata": {},
   "source": [
    "## 영상 처리/딥러닝을 위한 Python Programming4\n",
    "\n",
    "- 이전시간에 클래스 정의, 문법 다뤘었음\n",
    "    - 선언,정의 총 2가지: 재활용 위해 정의를 해놓음\n",
    "        - 함수 선언\n",
    "        - 클래스 선언\n"
   ]
  },
  {
   "cell_type": "markdown",
   "metadata": {},
   "source": [
    "※참고   \n",
    "doc : shift + tap 쳐서 나온 설명"
   ]
  },
  {
   "cell_type": "code",
   "execution_count": 28,
   "metadata": {},
   "outputs": [],
   "source": [
    "class A(object):  #기본적으로 최상위 객체 상속받으므로 object 생략 가능\n",
    "    pass"
   ]
  },
  {
   "cell_type": "code",
   "execution_count": 1,
   "metadata": {},
   "outputs": [],
   "source": [
    "class A:\n",
    "    '''docstring'''\n",
    "    pass"
   ]
  },
  {
   "cell_type": "code",
   "execution_count": 9,
   "metadata": {},
   "outputs": [
    {
     "data": {
      "text/plain": [
       "['__class__',\n",
       " '__delattr__',\n",
       " '__dict__',\n",
       " '__dir__',\n",
       " '__doc__',\n",
       " '__eq__',\n",
       " '__format__',\n",
       " '__ge__',\n",
       " '__getattribute__',\n",
       " '__gt__',\n",
       " '__hash__',\n",
       " '__init__',\n",
       " '__init_subclass__',\n",
       " '__le__',\n",
       " '__lt__',\n",
       " '__module__',\n",
       " '__ne__',\n",
       " '__new__',\n",
       " '__reduce__',\n",
       " '__reduce_ex__',\n",
       " '__repr__',\n",
       " '__setattr__',\n",
       " '__sizeof__',\n",
       " '__str__',\n",
       " '__subclasshook__',\n",
       " '__weakref__']"
      ]
     },
     "execution_count": 9,
     "metadata": {},
     "output_type": "execute_result"
    }
   ],
   "source": [
    "dir(A)"
   ]
  },
  {
   "cell_type": "markdown",
   "metadata": {},
   "source": [
    "#### \\_\\_doc__\n",
    "객체의 docstring을 보여줌\n",
    "\n",
    "\n",
    "https://wikidocs.net/16050\n",
    "docstring - 문서화\n",
    "- 클래스, 함수, 모듈에서 첫 번째 표현식으로 나타나는 문자열 리터럴.\n",
    "- 컴파일러에 의해 인지되어 둘러싼 클래스 , 함수, 모듈의  \\_\\_doc__ attribute로 삽입된다. ==> 이런 docstring은 해당 객체의 doc 특수 속성으로 변환된다는 뜻\n",
    "- docstring을 작성하면 프로그래밍의 속성으로 접근할 수 있다.\n",
    "- 함수나 class 선언 후 내부 바로 아래에 ''' docstring 적기 ''' \n"
   ]
  },
  {
   "cell_type": "code",
   "execution_count": 32,
   "metadata": {},
   "outputs": [],
   "source": [
    "class A:\n",
    "    ''''''docstring 적기'''\n",
    "    pass"
   ]
  },
  {
   "cell_type": "code",
   "execution_count": 33,
   "metadata": {},
   "outputs": [
    {
     "data": {
      "text/plain": [
       "'docstring 적기'"
      ]
     },
     "execution_count": 33,
     "metadata": {},
     "output_type": "execute_result"
    }
   ],
   "source": [
    "A.__doc__"
   ]
  },
  {
   "cell_type": "markdown",
   "metadata": {},
   "source": [
    "## 1. Magic Methods\n",
    "https://docs.python.org/ko/3/reference/datamodel.html#special-method-names\n",
    "- dunder(Double Underscores 줄임말)/ special methods라고도 불림\n",
    "- 특수 메소드의 비공식적인 비슷한 말\n",
    "    - special method(특수 메소드) : 파이썬 형에 ex)덧셈 같은 어떤 연산을 실행 할 때 묵시적으로 호출되는 메소드.\n",
    "        - 클래스가 언어의 연산자에 대해 자기 자신의 동작을 정의할 수 있도록 함\n",
    "        - \\_\\_이름__ 이런 형태인 메소드\n",
    "        - \\_\\_method__를 안불러도 알아서 불리는 느낌....?!... \\_\\_init__ 처럼\n",
    "- *연산자 오버 로딩* 동작 정의할 수 있게 해준다.        \n",
    "        \n",
    "        \n",
    "\n",
    "|magic method||\n",
    "|---|----|\n",
    "|\\_\\_class__ | type|\n",
    "|\\_\\_dict__ | vars|\n",
    "|\\_\\_dir__ | dir|\n",
    "\n",
    "\n",
    "\n",
    "\n",
    "### \\_\\_class__\n",
    "- `type()`과 동일\n",
    "    - type : 어떤 종류의 객체인지"
   ]
  },
  {
   "cell_type": "code",
   "execution_count": 10,
   "metadata": {},
   "outputs": [
    {
     "data": {
      "text/plain": [
       "type"
      ]
     },
     "execution_count": 10,
     "metadata": {},
     "output_type": "execute_result"
    }
   ],
   "source": [
    "type(A) #type의 결과가 type이면 class 였지"
   ]
  },
  {
   "cell_type": "code",
   "execution_count": 11,
   "metadata": {},
   "outputs": [
    {
     "data": {
      "text/plain": [
       "type"
      ]
     },
     "execution_count": 11,
     "metadata": {},
     "output_type": "execute_result"
    }
   ],
   "source": [
    "A.__class__"
   ]
  },
  {
   "cell_type": "markdown",
   "metadata": {},
   "source": [
    "### \\_\\_dict__\n",
    "- `vars()`와 동일\n",
    "- class 수준의 attribute, class에 속해 있는 클래스 attribute"
   ]
  },
  {
   "cell_type": "code",
   "execution_count": 12,
   "metadata": {},
   "outputs": [
    {
     "data": {
      "text/plain": [
       "mappingproxy({'__module__': '__main__',\n",
       "              '__doc__': ' docstring',\n",
       "              '__dict__': <attribute '__dict__' of 'A' objects>,\n",
       "              '__weakref__': <attribute '__weakref__' of 'A' objects>})"
      ]
     },
     "execution_count": 12,
     "metadata": {},
     "output_type": "execute_result"
    }
   ],
   "source": [
    "A.__dict__"
   ]
  },
  {
   "cell_type": "code",
   "execution_count": 13,
   "metadata": {
    "scrolled": true
   },
   "outputs": [
    {
     "data": {
      "text/plain": [
       "mappingproxy({'__module__': '__main__',\n",
       "              '__doc__': ' docstring',\n",
       "              '__dict__': <attribute '__dict__' of 'A' objects>,\n",
       "              '__weakref__': <attribute '__weakref__' of 'A' objects>})"
      ]
     },
     "execution_count": 13,
     "metadata": {},
     "output_type": "execute_result"
    }
   ],
   "source": [
    "vars(A)"
   ]
  },
  {
   "cell_type": "markdown",
   "metadata": {},
   "source": [
    "### \\_\\_dir__\n",
    "- `dir()`동일"
   ]
  },
  {
   "cell_type": "code",
   "execution_count": 15,
   "metadata": {},
   "outputs": [
    {
     "data": {
      "text/plain": [
       "<method '__dir__' of 'object' objects>"
      ]
     },
     "execution_count": 15,
     "metadata": {},
     "output_type": "execute_result"
    }
   ],
   "source": [
    "A.__dir__"
   ]
  },
  {
   "cell_type": "code",
   "execution_count": 14,
   "metadata": {},
   "outputs": [
    {
     "data": {
      "text/plain": [
       "['__class__',\n",
       " '__delattr__',\n",
       " '__dict__',\n",
       " '__dir__',\n",
       " '__doc__',\n",
       " '__eq__',\n",
       " '__format__',\n",
       " '__ge__',\n",
       " '__getattribute__',\n",
       " '__gt__',\n",
       " '__hash__',\n",
       " '__init__',\n",
       " '__init_subclass__',\n",
       " '__le__',\n",
       " '__lt__',\n",
       " '__module__',\n",
       " '__ne__',\n",
       " '__new__',\n",
       " '__reduce__',\n",
       " '__reduce_ex__',\n",
       " '__repr__',\n",
       " '__setattr__',\n",
       " '__sizeof__',\n",
       " '__str__',\n",
       " '__subclasshook__',\n",
       " '__weakref__']"
      ]
     },
     "execution_count": 14,
     "metadata": {},
     "output_type": "execute_result"
    }
   ],
   "source": [
    "dir(A)"
   ]
  },
  {
   "cell_type": "code",
   "execution_count": 8,
   "metadata": {},
   "outputs": [],
   "source": [
    "a=A() #인스턴스 생성하면 __init__ 자동으로 실행 "
   ]
  },
  {
   "cell_type": "markdown",
   "metadata": {},
   "source": [
    "python은\n",
    "- overriding은 지원하지만 함수, 메소드 overloading은 지원하지 않음    \n",
    "    (연산자 overloading은 만 지원)\n",
    "\n",
    "\n",
    "\n",
    "##### overriding\n",
    "- 상위 Class의 메소드를 하위 Class(자식클래스)에서 내부적으로 **재정의**.\n",
    "- 상속과 밀접한 관련\n",
    "- 상속 받아서 하위 클래스에서 재정의하는 것\n",
    "\n",
    "\n",
    "\n",
    "\n",
    "## 2. overloading\n",
    "- **같은 이름**의 method들이 서로 **다른 매개변수**의 유형과 개수를 갖는 것\n",
    "- python에선 최근 것이 이전 것을 덮어 씀\n",
    "- 오버로딩을 지원하지 않아서 이름이 동일하면 같은것으로 보기 때문에 덮어씀\n",
    "- 연산자 overloading 만 지원\n",
    "\n",
    "\n",
    "이름이 같지만 파라미터가 다르면 다르게 취급된다.       \n",
    "오버로딩 c++,java에선 되지만, python 오버로딩 지원안함 \n"
   ]
  },
  {
   "cell_type": "code",
   "execution_count": 4,
   "metadata": {},
   "outputs": [],
   "source": [
    "class A:\n",
    "    def __init__(self):   #오버로딩 지원하지 않아서 서로 동일\n",
    "        self.x=1\n",
    "    def __init__(self,x): #마지막에 인자 넣어야 하는것으로 변경됨\n",
    "        self.x=x"
   ]
  },
  {
   "cell_type": "code",
   "execution_count": 5,
   "metadata": {},
   "outputs": [
    {
     "ename": "TypeError",
     "evalue": "__init__() missing 1 required positional argument: 'x'",
     "output_type": "error",
     "traceback": [
      "\u001b[1;31m---------------------------------------------------------------------------\u001b[0m",
      "\u001b[1;31mTypeError\u001b[0m                                 Traceback (most recent call last)",
      "\u001b[1;32m<ipython-input-5-4a3ddedb7e40>\u001b[0m in \u001b[0;36m<module>\u001b[1;34m\u001b[0m\n\u001b[1;32m----> 1\u001b[1;33m \u001b[0ma\u001b[0m \u001b[1;33m=\u001b[0m \u001b[0mA\u001b[0m\u001b[1;33m(\u001b[0m\u001b[1;33m)\u001b[0m\u001b[1;33m\u001b[0m\u001b[1;33m\u001b[0m\u001b[0m\n\u001b[0m\u001b[0;32m      2\u001b[0m \u001b[1;31m#현재 상태에서 __init__은 밑에 꺼다.\u001b[0m\u001b[1;33m\u001b[0m\u001b[1;33m\u001b[0m\u001b[1;33m\u001b[0m\u001b[0m\n",
      "\u001b[1;31mTypeError\u001b[0m: __init__() missing 1 required positional argument: 'x'"
     ]
    }
   ],
   "source": [
    "a = A()  \n",
    "#현재 상태에서 __init__은 밑에 꺼다."
   ]
  },
  {
   "cell_type": "code",
   "execution_count": 6,
   "metadata": {},
   "outputs": [],
   "source": [
    "a=A(2)"
   ]
  },
  {
   "cell_type": "code",
   "execution_count": 24,
   "metadata": {},
   "outputs": [],
   "source": [
    "z=1 \n",
    "z=3  "
   ]
  },
  {
   "cell_type": "markdown",
   "metadata": {},
   "source": [
    "#### 인자(argument) 전달 방법 \n",
    "그냥 일단 일부만\n",
    "1. 키워드 방식 : 기본적으로 모든 옵션을 다 넣고 옵션 순서에 상관없음\n",
    "    - 오버로딩을 지원하지 않으니 가능한 옵션을 다 제공하는 것이 좋겠지"
   ]
  },
  {
   "cell_type": "code",
   "execution_count": 167,
   "metadata": {},
   "outputs": [
    {
     "data": {
      "text/plain": [
       "<function pandas.io.parsers.read_csv(filepath_or_buffer: Union[str, pathlib.Path, IO[~AnyStr]], sep=',', delimiter=None, header='infer', names=None, index_col=None, usecols=None, squeeze=False, prefix=None, mangle_dupe_cols=True, dtype=None, engine=None, converters=None, true_values=None, false_values=None, skipinitialspace=False, skiprows=None, skipfooter=0, nrows=None, na_values=None, keep_default_na=True, na_filter=True, verbose=False, skip_blank_lines=True, parse_dates=False, infer_datetime_format=False, keep_date_col=False, date_parser=None, dayfirst=False, cache_dates=True, iterator=False, chunksize=None, compression='infer', thousands=None, decimal: str = '.', lineterminator=None, quotechar='\"', quoting=0, doublequote=True, escapechar=None, comment=None, encoding=None, dialect=None, error_bad_lines=True, warn_bad_lines=True, delim_whitespace=False, low_memory=True, memory_map=False, float_precision=None)>"
      ]
     },
     "execution_count": 167,
     "metadata": {},
     "output_type": "execute_result"
    }
   ],
   "source": [
    "import pandas as pd\n",
    "pd.read_csv #shift+tab   하단의 값들이 모든 키워드"
   ]
  },
  {
   "cell_type": "markdown",
   "metadata": {},
   "source": [
    "2. 가변 키워드 방식:\n",
    "    - overloading 지원 안하니까 가능한 모든 옵션 애초에 다 가능하게 집어 넣는 것\n",
    "    - 그래서 순서 상관 없이 넣을 수 있게 하는 키워드 방식이 존재"
   ]
  },
  {
   "cell_type": "code",
   "execution_count": 29,
   "metadata": {},
   "outputs": [],
   "source": [
    "class A:\n",
    "    def __init__(self,*arg,**kwargs):\n",
    "        self.x=x"
   ]
  },
  {
   "cell_type": "code",
   "execution_count": 30,
   "metadata": {},
   "outputs": [
    {
     "data": {
      "text/plain": [
       "['__class__',\n",
       " '__delattr__',\n",
       " '__dict__',\n",
       " '__dir__',\n",
       " '__doc__',\n",
       " '__eq__',\n",
       " '__format__',\n",
       " '__ge__',\n",
       " '__getattribute__',\n",
       " '__gt__',\n",
       " '__hash__',\n",
       " '__init__',\n",
       " '__init_subclass__',\n",
       " '__le__',\n",
       " '__lt__',\n",
       " '__module__',\n",
       " '__ne__',\n",
       " '__new__',\n",
       " '__reduce__',\n",
       " '__reduce_ex__',\n",
       " '__repr__',\n",
       " '__setattr__',\n",
       " '__sizeof__',\n",
       " '__str__',\n",
       " '__subclasshook__',\n",
       " '__weakref__']"
      ]
     },
     "execution_count": 30,
     "metadata": {},
     "output_type": "execute_result"
    }
   ],
   "source": [
    "dir(A) #__eq__있네"
   ]
  },
  {
   "cell_type": "markdown",
   "metadata": {},
   "source": [
    "python은 함수,메소드 오버로딩은 지원하지 않으나 연산자 오버로딩은 지원\n",
    "\n",
    "## 2.1 연산자 오버로딩\n",
    "- 연산자의 기능을 바꿈\n",
    "\n",
    "- 비교연산자 : \\_\\_lt__ >, \\_\\_le__ <=, \\_\\_eq__ ==, \\_\\_ne__ !=, \\_\\_gt__ >, \\_\\_ge__ >=\n",
    "- 산술연산자: \\_\\_add__ +, \\_\\_sub__ -, \\_\\_mul__ *,\\_\\_truediv__ /, \\_\\_floordiv__ //, \\_\\_mod__\n",
    "\n",
    "### \\_\\_eq__\n",
    "- 클래스 안에서 (==)연산자 역할\n",
    "\n",
    "### \\_\\_add__\n",
    "- 클래스 안에서 더하기(+)연산자 역할"
   ]
  },
  {
   "cell_type": "markdown",
   "metadata": {},
   "source": [
    "\n",
    "- 오버로딩 : 이름이 동일하지만 다른 형태의 모양을 가질수 있음\n",
    "    - 예. A(), A(x)\n",
    "- 연산자는 오버로딩: overriding 처럼 뒤엎는게(재정의 하는 것이) 아님"
   ]
  },
  {
   "cell_type": "code",
   "execution_count": 7,
   "metadata": {},
   "outputs": [],
   "source": [
    "class B:\n",
    "    def __init__(self,x):   \n",
    "        self.x=x"
   ]
  },
  {
   "cell_type": "code",
   "execution_count": 8,
   "metadata": {},
   "outputs": [],
   "source": [
    "c = B(2)\n",
    "d = B(3)"
   ]
  },
  {
   "cell_type": "code",
   "execution_count": 9,
   "metadata": {},
   "outputs": [
    {
     "data": {
      "text/plain": [
       "False"
      ]
     },
     "execution_count": 9,
     "metadata": {},
     "output_type": "execute_result"
    }
   ],
   "source": [
    "c == d  #기본으로 정의된 __eq__ 사용"
   ]
  },
  {
   "cell_type": "code",
   "execution_count": 1,
   "metadata": {},
   "outputs": [],
   "source": [
    "class A:\n",
    "    def __init__(self,x):   \n",
    "        self.x=x\n",
    "    def __eq__(self,value):  # 연산자 오버로딩\n",
    "        print('=')\n",
    "    def __add__(self,value): # 연산자 오버로딩\n",
    "        print('+')"
   ]
  },
  {
   "cell_type": "code",
   "execution_count": 2,
   "metadata": {},
   "outputs": [],
   "source": [
    "a=A(1) #callable하는순간에 __init__실행\n",
    "b=A(2) #instance 생성 즉시 __init__ 실행됨\n",
    "#이렇게 연산자의 기능을 바꾸는 것 => 연산자 overloading"
   ]
  },
  {
   "cell_type": "code",
   "execution_count": 3,
   "metadata": {},
   "outputs": [
    {
     "name": "stdout",
     "output_type": "stream",
     "text": [
      "=\n"
     ]
    }
   ],
   "source": [
    "a==b  #연산자 하는 순간에 __eq__ 실행"
   ]
  },
  {
   "cell_type": "code",
   "execution_count": 4,
   "metadata": {},
   "outputs": [
    {
     "data": {
      "text/plain": [
       "<__main__.A at 0x13abcfc7e88>"
      ]
     },
     "execution_count": 4,
     "metadata": {},
     "output_type": "execute_result"
    }
   ],
   "source": [
    "a"
   ]
  },
  {
   "cell_type": "code",
   "execution_count": 5,
   "metadata": {},
   "outputs": [
    {
     "name": "stdout",
     "output_type": "stream",
     "text": [
      "+\n"
     ]
    }
   ],
   "source": [
    "a+3"
   ]
  },
  {
   "cell_type": "code",
   "execution_count": 6,
   "metadata": {},
   "outputs": [
    {
     "name": "stdout",
     "output_type": "stream",
     "text": [
      "+\n"
     ]
    }
   ],
   "source": [
    "a.__add__(3)"
   ]
  },
  {
   "cell_type": "code",
   "execution_count": 7,
   "metadata": {},
   "outputs": [
    {
     "data": {
      "text/plain": [
       "['__add__',\n",
       " '__class__',\n",
       " '__delattr__',\n",
       " '__dict__',\n",
       " '__dir__',\n",
       " '__doc__',\n",
       " '__eq__',\n",
       " '__format__',\n",
       " '__ge__',\n",
       " '__getattribute__',\n",
       " '__gt__',\n",
       " '__hash__',\n",
       " '__init__',\n",
       " '__init_subclass__',\n",
       " '__le__',\n",
       " '__lt__',\n",
       " '__module__',\n",
       " '__ne__',\n",
       " '__new__',\n",
       " '__reduce__',\n",
       " '__reduce_ex__',\n",
       " '__repr__',\n",
       " '__setattr__',\n",
       " '__sizeof__',\n",
       " '__str__',\n",
       " '__subclasshook__',\n",
       " '__weakref__']"
      ]
     },
     "execution_count": 7,
     "metadata": {},
     "output_type": "execute_result"
    }
   ],
   "source": [
    "dir(A) # __add__ 상속받지 않았었는데 생김"
   ]
  },
  {
   "cell_type": "markdown",
   "metadata": {},
   "source": [
    "기존의 \\_\\_add__()  , + 와는 다른 개념???.....                \n",
    "\\_\\_add__()를 overloading한 지금 기존 \\_\\_add__()  , + 와는 다른 개념인데 위에 a+3 실행 결과 기존의 \\_\\_add__()가 아닌 overloading한 new \\_\\_add__()가 사용됨 \n",
    "why? duck typing\n",
    "\n",
    "- 위에 dir(A)에선 \\_\\_add__ 없었던데, 상속을 안받았는데 뭐지    \n",
    "    ==> 정의를 한 후엔 dir에선 add 생김\n",
    "> 이렇게 상속을 받지는 않았지만 특정 프로토콜에만 맞으면 상속을 하지 않아도 기능을 하게 하는 \"덕타이핑\" (아래서 더 자세히)      \n",
    "     ==> 타입에 정의되지 않아도 기능을 가지만 정의 가능\n",
    "     - 내부적으로 원래 있던 \\_\\_add__를 overloading 해서 원래 \\_\\_add__와 달라졌지만 덕 타이핑으로 인해 쓸 수 있는 건가?????\n",
    "- 원래 + 의미에서 다르게 함(다형성의 오버로딩 관점)"
   ]
  },
  {
   "cell_type": "code",
   "execution_count": 125,
   "metadata": {},
   "outputs": [
    {
     "data": {
      "text/plain": [
       "7"
      ]
     },
     "execution_count": 125,
     "metadata": {},
     "output_type": "execute_result"
    }
   ],
   "source": [
    "3+4           #합산"
   ]
  },
  {
   "cell_type": "code",
   "execution_count": 122,
   "metadata": {},
   "outputs": [
    {
     "data": {
      "text/plain": [
       "[1, 2, 3, 1, 2, 3]"
      ]
     },
     "execution_count": 122,
     "metadata": {},
     "output_type": "execute_result"
    }
   ],
   "source": [
    "[1,2,3]+[1,2,3] #단순히 결합 Sequence인 경우"
   ]
  },
  {
   "cell_type": "code",
   "execution_count": 124,
   "metadata": {},
   "outputs": [
    {
     "data": {
      "text/plain": [
       "array([2, 4, 6])"
      ]
     },
     "execution_count": 124,
     "metadata": {},
     "output_type": "execute_result"
    }
   ],
   "source": [
    "import numpy as np\n",
    "np.array([1,2,3])+ np.array([1,2,3])  #element-wise"
   ]
  },
  {
   "cell_type": "markdown",
   "metadata": {},
   "source": [
    "### 2.1.1 duck-typing \n",
    "- python언어 설계시의 기본 철학으로 상속받지는 않았지만 특정 protocol에 맞으면 상속을 받지 않더라도 기능을 받음 \n",
    "- `dir` \\_\\_add__ 없었음\n",
    "- 덕 타이핑은 type()이나 isinstance() 사용한 검사 피함\n",
    "- 추상 베이스 클래스로 보완될 수 있음 유의\n",
    "- https://yujuwon.tistory.com/entry/%EB%8D%95%ED%83%80%EC%9D%B4%ED%95%91 , https://wikidocs.net/16076  여기 보면 이해가 잘됨\n",
    ">  (《오리처럼 보이고 오리처럼 꽥꽥댄다면, 그것은 오리다.》) \n",
    "\n",
    "> #### EAFP \n",
    "    - 허락보다 용서를 구하기 쉽다(Easier to ask for forgiveness than permission)\n",
    "    - 기능 체크하지말고 없으면 에러냄\n",
    "    - python속도 느리고 메모리 많이 잡아먹기 때문에\n",
    "    - 예외처리 활용해 검사 수행하지 않고 일단 실행하고 예외처리 진행하는 스타일\n",
    "        - try except문\n",
    "\n",
    "protocol갖고있으면 type정의 되지 않고 add기능을 갖으면 그 기능을 해주는 duck-typing지원 \n",
    "\n",
    " \n",
    "파이썬 공식문서 용어집 참고 : https://docs.python.org/ko/3/glossary.html"
   ]
  },
  {
   "cell_type": "code",
   "execution_count": 9,
   "metadata": {},
   "outputs": [],
   "source": [
    "class Parrot:\n",
    "    def fly(self):\n",
    "        print(\"Parrot flying\")\n",
    "\n",
    "class Airplane:\n",
    "    def fly(self):\n",
    "        print(\"Airplane flying\")\n",
    "\n",
    "class Whale:\n",
    "    def swim(self):\n",
    "        print(\"Whale swimming\")\n",
    "\n",
    "def lift_off(entity):\n",
    "    entity.fly()\n",
    "\n",
    "parrot = Parrot()\n",
    "airplane = Airplane()\n",
    "whale = Whale()\n",
    "\n",
    "lift_off(parrot) # prints `Parrot flying`\n",
    "lift_off(airplane) # prints `Airplane flying`\n",
    "lift_off(whale) # Throws the error `'Whale' object has no attribute 'fly'`"
   ]
  },
  {
   "cell_type": "markdown",
   "metadata": {},
   "source": [
    "- Parrot 클래스와 Airplane 클래스는 분명 서로 상속되거나 하는 그런 관계는 없습니다만, 내부에 동일한 메소드의 fly()메소드가 있는 것만으로 호출하는 `lift_off(entity)' 함수에서 fly가 정상적으로 실행됩니다.\n",
    "- 마지막 Whale 클래스는 해당 fly() 메소드가 없기 때문에, AttributeError가 발생합니다.\n",
    "- 속성과 메소드 존재에 의해 객체의 적합성이 결정된다.\n",
    "\n",
    "lift_off 에서 entity로 어떤 타입이 들어오는지 상관없이 그 entity가 fly 메소드가 있으니 실행한다 이런 뜻인가봐 즉 메소드의 존재 의해"
   ]
  },
  {
   "cell_type": "markdown",
   "metadata": {},
   "source": [
    "### 3. 상속\n",
    "\n",
    "\n",
    "\n",
    "3.1 상속 들어가기 전에 잠깐\n",
    "    - issubclass, isinstance\n",
    "\n",
    "#### predicate\n",
    "- `is...` \n",
    "- Ture/False 반환\n",
    "\n",
    "#### issubclass\n",
    "- 다른 클래스로부터 상속을 받았는지 동일한지를 T/F로 반환"
   ]
  },
  {
   "cell_type": "code",
   "execution_count": 183,
   "metadata": {},
   "outputs": [
    {
     "data": {
      "text/plain": [
       "True"
      ]
     },
     "execution_count": 183,
     "metadata": {},
     "output_type": "execute_result"
    }
   ],
   "source": [
    "issubclass(A,(object))\n",
    "#object는 모든 객체의 부모"
   ]
  },
  {
   "cell_type": "code",
   "execution_count": 187,
   "metadata": {},
   "outputs": [
    {
     "data": {
      "text/plain": [
       "True"
      ]
     },
     "execution_count": 187,
     "metadata": {},
     "output_type": "execute_result"
    }
   ],
   "source": [
    "issubclass(A,A)"
   ]
  },
  {
   "cell_type": "markdown",
   "metadata": {},
   "source": [
    "#### isinstance\n",
    "- 객체가 부모 클래스에 인스턴스인지 아닌지 T/F로 반환\n",
    "- tuple을 넣는 이유는 python은 **다중 상속**이기 때문\n",
    "\n",
    "사이킷은 다중상속 이용해서 만듦( 테이블 형식의 정형데이터 사용하는 곳에서 유용)"
   ]
  },
  {
   "cell_type": "code",
   "execution_count": 184,
   "metadata": {},
   "outputs": [
    {
     "data": {
      "text/plain": [
       "True"
      ]
     },
     "execution_count": 184,
     "metadata": {},
     "output_type": "execute_result"
    }
   ],
   "source": [
    "a=A(3)\n",
    "isinstance(a,A) #a는 A의 인스턴스\n",
    "isinstance(a,(A,))"
   ]
  },
  {
   "cell_type": "code",
   "execution_count": 65,
   "metadata": {},
   "outputs": [
    {
     "data": {
      "text/plain": [
       "True"
      ]
     },
     "execution_count": 65,
     "metadata": {},
     "output_type": "execute_result"
    }
   ],
   "source": [
    "isinstance(a,object)   #object 최상위 클래스이기 때문 A->object"
   ]
  },
  {
   "cell_type": "code",
   "execution_count": 186,
   "metadata": {},
   "outputs": [
    {
     "data": {
      "text/plain": [
       "True"
      ]
     },
     "execution_count": 186,
     "metadata": {},
     "output_type": "execute_result"
    }
   ],
   "source": [
    "isinstance(a,(A,object)) #tuple형태로 넣는이유 : 다중 상속"
   ]
  },
  {
   "cell_type": "markdown",
   "metadata": {},
   "source": [
    "python multi-processing 언어 문제때문에 구글에서 Go언어 만듦\n",
    "\n",
    "- jupyter: julia python r \n",
    "    - 확장자명은 아직 ipynb\n",
    "    - ipython 멀티 커널 지원 \n",
    "    \n",
    "\n",
    "- tf\n",
    "    - java, c++,python  binding제공하여 포팅하기 좋음\n",
    "\n",
    "- pytorch \n",
    "    - 연구에서 대세\n",
    "    - c++ binding  지원 시작\n",
    "\n",
    "- 실무에서는 python prototype 하는 이유는 병목현상이 일어나기 떄문에 java/c++로 porting\n",
    "\n",
    "\n",
    "             \n",
    "\n",
    "## 3.2 상속\n",
    "- subclassing\n",
    "- pytorch  기본적으로 상속 통해 만듦, 다중 상속이 좋지 않아 java에서는 인터페이스 사용\n",
    "- tf는 5개 중 상속 사용은 2가지\n",
    "- python에는 c++만큼 자유도 없음\n",
    "\n",
    "\n",
    "- 다중상속에서 **어디서 상속 받았는지** 쟁점\n",
    "- 어디서 상속받았는지 모를때 상속체계 맞지않으면 Error발생\n",
    "\n",
    "\n",
    "1. object로부터 기본적으로 상속 받는다.\n",
    "2. 다중상속으로 설계 되여있다."
   ]
  },
  {
   "cell_type": "code",
   "execution_count": null,
   "metadata": {},
   "outputs": [],
   "source": [
    "class A(object)\n",
    "class A #object 생략가능"
   ]
  },
  {
   "cell_type": "raw",
   "metadata": {},
   "source": [
    "C -> B -> A  부모 클래스\n",
    "  ------->\n",
    "D -> B -> A  부모 클래스\n",
    "  ------->  \n",
    "E -> C -> A"
   ]
  },
  {
   "cell_type": "code",
   "execution_count": 192,
   "metadata": {},
   "outputs": [],
   "source": [
    "class A:\n",
    "    pass\n",
    "class B(A):\n",
    "    pass\n",
    "class C(B,A):  # 다중상속\n",
    "    pass\n",
    "class D(B,A):  # 다중상속\n",
    "    pass\n",
    "class E(C,A):  # 다중상속\n",
    "    pass"
   ]
  },
  {
   "cell_type": "code",
   "execution_count": 193,
   "metadata": {},
   "outputs": [],
   "source": [
    "c=C()"
   ]
  },
  {
   "cell_type": "code",
   "execution_count": 196,
   "metadata": {},
   "outputs": [
    {
     "data": {
      "text/plain": [
       "True"
      ]
     },
     "execution_count": 196,
     "metadata": {},
     "output_type": "execute_result"
    }
   ],
   "source": [
    "issubclass(B,A)"
   ]
  },
  {
   "cell_type": "code",
   "execution_count": 198,
   "metadata": {},
   "outputs": [
    {
     "data": {
      "text/plain": [
       "True"
      ]
     },
     "execution_count": 198,
     "metadata": {},
     "output_type": "execute_result"
    }
   ],
   "source": [
    "issubclass(E,B)  #E -> C-> B 이기 때문 가능"
   ]
  },
  {
   "cell_type": "markdown",
   "metadata": {},
   "source": [
    "- 어디서 상속받았는지 모를때 상속체계 맞지않으면 MRO Error발생\n",
    "- meta data관련\n",
    "- `TypeError: Cannot create a consistent method resolution order (MRO) for bases B, C`\n"
   ]
  },
  {
   "cell_type": "raw",
   "metadata": {},
   "source": [
    "F->    D->B->A\n",
    "        ->C->\n",
    "\n",
    "F ->   E->B->A\n",
    "        ->C->"
   ]
  },
  {
   "cell_type": "code",
   "execution_count": 19,
   "metadata": {},
   "outputs": [
    {
     "ename": "TypeError",
     "evalue": "Cannot create a consistent method resolution\norder (MRO) for bases B, C",
     "output_type": "error",
     "traceback": [
      "\u001b[0;31m---------------------------------------------------------------------------\u001b[0m",
      "\u001b[0;31mTypeError\u001b[0m                                 Traceback (most recent call last)",
      "\u001b[0;32m<ipython-input-19-effc47c87f61>\u001b[0m in \u001b[0;36m<module>\u001b[0;34m\u001b[0m\n\u001b[1;32m     11\u001b[0m     \u001b[0;32mpass\u001b[0m\u001b[0;34m\u001b[0m\u001b[0;34m\u001b[0m\u001b[0m\n\u001b[1;32m     12\u001b[0m \u001b[0;34m\u001b[0m\u001b[0m\n\u001b[0;32m---> 13\u001b[0;31m \u001b[0;32mclass\u001b[0m \u001b[0mG\u001b[0m\u001b[0;34m(\u001b[0m\u001b[0mD\u001b[0m\u001b[0;34m,\u001b[0m\u001b[0mE\u001b[0m\u001b[0;34m)\u001b[0m\u001b[0;34m:\u001b[0m\u001b[0;34m\u001b[0m\u001b[0;34m\u001b[0m\u001b[0m\n\u001b[0m\u001b[1;32m     14\u001b[0m     \u001b[0;32mpass\u001b[0m\u001b[0;34m\u001b[0m\u001b[0;34m\u001b[0m\u001b[0m\n",
      "\u001b[0;31mTypeError\u001b[0m: Cannot create a consistent method resolution\norder (MRO) for bases B, C"
     ]
    }
   ],
   "source": [
    "#다이아몬드 문제: 상속 체계문제 발생\n",
    "class A:\n",
    "    pass\n",
    "class B(A):\n",
    "    pass\n",
    "class C(A):\n",
    "    pass\n",
    "class D(B,C):  # 다중상속\n",
    "    pass\n",
    "class E(C,B):  # 다중상속\n",
    "    pass\n",
    "\n",
    "class F(D,E):\n",
    "    pass"
   ]
  },
  {
   "cell_type": "markdown",
   "metadata": {},
   "source": [
    "상속 순서 : D > B > C > A 순서로 실행 "
   ]
  },
  {
   "cell_type": "code",
   "execution_count": 74,
   "metadata": {},
   "outputs": [
    {
     "data": {
      "text/plain": [
       "(__main__.D, __main__.B, __main__.C, __main__.A, object)"
      ]
     },
     "execution_count": 74,
     "metadata": {},
     "output_type": "execute_result"
    }
   ],
   "source": [
    "D.__mro__  #tuple"
   ]
  },
  {
   "cell_type": "code",
   "execution_count": 73,
   "metadata": {},
   "outputs": [
    {
     "data": {
      "text/plain": [
       "[__main__.D, __main__.B, __main__.C, __main__.A, object]"
      ]
     },
     "execution_count": 73,
     "metadata": {},
     "output_type": "execute_result"
    }
   ],
   "source": [
    "D.mro()   #list"
   ]
  },
  {
   "cell_type": "markdown",
   "metadata": {},
   "source": [
    "### 3.3 \\_\\_mro__\n",
    "- method resolution order (MRO)\n",
    "- 메서드 탐색 순서로  복잡한 상속 관계의 처리 순서를 자동으로 정리해줌\n",
    "- dir 없는데 실행됨\n",
    "\n",
    "metaclass 이용하면 강제로 변경가능"
   ]
  },
  {
   "cell_type": "code",
   "execution_count": null,
   "metadata": {},
   "outputs": [],
   "source": [
    "class A(metaclass=type):\n",
    "    pass"
   ]
  },
  {
   "cell_type": "code",
   "execution_count": 76,
   "metadata": {},
   "outputs": [
    {
     "data": {
      "text/plain": [
       "['__class__',\n",
       " '__delattr__',\n",
       " '__dict__',\n",
       " '__dir__',\n",
       " '__doc__',\n",
       " '__eq__',\n",
       " '__format__',\n",
       " '__ge__',\n",
       " '__getattribute__',\n",
       " '__gt__',\n",
       " '__hash__',\n",
       " '__init__',\n",
       " '__init_subclass__',\n",
       " '__le__',\n",
       " '__lt__',\n",
       " '__module__',\n",
       " '__ne__',\n",
       " '__new__',\n",
       " '__reduce__',\n",
       " '__reduce_ex__',\n",
       " '__repr__',\n",
       " '__setattr__',\n",
       " '__sizeof__',\n",
       " '__str__',\n",
       " '__subclasshook__',\n",
       " '__weakref__']"
      ]
     },
     "execution_count": 76,
     "metadata": {},
     "output_type": "execute_result"
    }
   ],
   "source": [
    "dir(D) #__mro__없는데 실행됨. why??"
   ]
  },
  {
   "cell_type": "markdown",
   "metadata": {},
   "source": [
    "- class의 class인 meataclass에서 제공\n",
    "- class 정의에 meataclass=type 정의되어 있고 생략하면 type 따름\n",
    "\n",
    "type인 D.\\_\\_class__를 `dir`해봄  \n",
    "- 즉 mro는 class의 class에서 제공하는 특수한 기능\n",
    "- 그니까 class의 class의 기능도 사용 가능하다"
   ]
  },
  {
   "cell_type": "code",
   "execution_count": 78,
   "metadata": {},
   "outputs": [
    {
     "data": {
      "text/plain": [
       "['__abstractmethods__',\n",
       " '__base__',\n",
       " '__bases__',\n",
       " '__basicsize__',\n",
       " '__call__',\n",
       " '__class__',\n",
       " '__delattr__',\n",
       " '__dict__',\n",
       " '__dictoffset__',\n",
       " '__dir__',\n",
       " '__doc__',\n",
       " '__eq__',\n",
       " '__flags__',\n",
       " '__format__',\n",
       " '__ge__',\n",
       " '__getattribute__',\n",
       " '__gt__',\n",
       " '__hash__',\n",
       " '__init__',\n",
       " '__init_subclass__',\n",
       " '__instancecheck__',\n",
       " '__itemsize__',\n",
       " '__le__',\n",
       " '__lt__',\n",
       " '__module__',\n",
       " '__mro__',\n",
       " '__name__',\n",
       " '__ne__',\n",
       " '__new__',\n",
       " '__prepare__',\n",
       " '__qualname__',\n",
       " '__reduce__',\n",
       " '__reduce_ex__',\n",
       " '__repr__',\n",
       " '__setattr__',\n",
       " '__sizeof__',\n",
       " '__str__',\n",
       " '__subclasscheck__',\n",
       " '__subclasses__',\n",
       " '__subclasshook__',\n",
       " '__text_signature__',\n",
       " '__weakrefoffset__',\n",
       " 'mro']"
      ]
     },
     "execution_count": 78,
     "metadata": {},
     "output_type": "execute_result"
    }
   ],
   "source": [
    "dir(D.__class__)  #__mro__, mro 있음"
   ]
  },
  {
   "cell_type": "markdown",
   "metadata": {},
   "source": [
    "class는 자기 자신 말고 부모 인스턴스하면 트루\n",
    "클래스의 클래스 기능 사용 가능\n",
    "mro 사용가능\n",
    "\n",
    "\n",
    "- 부모 클래스의 기능 사용 가능\n"
   ]
  },
  {
   "cell_type": "code",
   "execution_count": 81,
   "metadata": {},
   "outputs": [],
   "source": [
    "class A:\n",
    "    x=1\n",
    "    \n",
    "class B(A):\n",
    "    pass"
   ]
  },
  {
   "cell_type": "code",
   "execution_count": 82,
   "metadata": {},
   "outputs": [
    {
     "data": {
      "text/plain": [
       "['__class__',\n",
       " '__delattr__',\n",
       " '__dict__',\n",
       " '__dir__',\n",
       " '__doc__',\n",
       " '__eq__',\n",
       " '__format__',\n",
       " '__ge__',\n",
       " '__getattribute__',\n",
       " '__gt__',\n",
       " '__hash__',\n",
       " '__init__',\n",
       " '__init_subclass__',\n",
       " '__le__',\n",
       " '__lt__',\n",
       " '__module__',\n",
       " '__ne__',\n",
       " '__new__',\n",
       " '__reduce__',\n",
       " '__reduce_ex__',\n",
       " '__repr__',\n",
       " '__setattr__',\n",
       " '__sizeof__',\n",
       " '__str__',\n",
       " '__subclasshook__',\n",
       " '__weakref__',\n",
       " 'x']"
      ]
     },
     "execution_count": 82,
     "metadata": {},
     "output_type": "execute_result"
    }
   ],
   "source": [
    "dir(B) #A를 상속받아 class attribute x 있음"
   ]
  },
  {
   "cell_type": "markdown",
   "metadata": {},
   "source": [
    "### 3.4 is\n",
    "- 메모리 번지까지 동일한지 확인하는 연산자\n",
    " \n",
    " 상속시 B없으면 A로 찾음 \n",
    " \n",
    "B.x가 있는지 확인 하고 없으면 부모객체 A 에서 찾음\n",
    " (`vars` instance attribute에서 class attribute으로 찾아가는것과 비슷)\n",
    " \n",
    " is 결과가 true 일때\n",
    " 상속 시 실제 값이 복사되어 들어오는 것이 아닌 B.x하면 먼저 B에 x 존재 확인 후 없으면 A로\n",
    " => 내가 재정의 하지 않으면 부모 객체에서 가져온다. 정의하면 내꺼부터\n",
    " "
   ]
  },
  {
   "cell_type": "code",
   "execution_count": 83,
   "metadata": {},
   "outputs": [
    {
     "data": {
      "text/plain": [
       "True"
      ]
     },
     "execution_count": 83,
     "metadata": {},
     "output_type": "execute_result"
    }
   ],
   "source": [
    "class A:\n",
    "    x=1\n",
    "    \n",
    "class B(A):\n",
    "    pass\n",
    "\n",
    "B.x is A.x #"
   ]
  },
  {
   "cell_type": "code",
   "execution_count": 97,
   "metadata": {},
   "outputs": [
    {
     "data": {
      "text/plain": [
       "True"
      ]
     },
     "execution_count": 97,
     "metadata": {},
     "output_type": "execute_result"
    }
   ],
   "source": [
    "A.x is B.x #"
   ]
  },
  {
   "cell_type": "code",
   "execution_count": 11,
   "metadata": {},
   "outputs": [],
   "source": [
    "class A:\n",
    "    x=1\n",
    "    xx=1\n",
    "class B(A):\n",
    "    x=2  # 오버라이딩(재정의)"
   ]
  },
  {
   "cell_type": "code",
   "execution_count": 12,
   "metadata": {},
   "outputs": [
    {
     "data": {
      "text/plain": [
       "False"
      ]
     },
     "execution_count": 12,
     "metadata": {},
     "output_type": "execute_result"
    }
   ],
   "source": [
    "A.x is B.x #오버라이딩으로 달라짐"
   ]
  },
  {
   "cell_type": "code",
   "execution_count": 219,
   "metadata": {},
   "outputs": [
    {
     "data": {
      "text/plain": [
       "1"
      ]
     },
     "execution_count": 219,
     "metadata": {},
     "output_type": "execute_result"
    }
   ],
   "source": [
    "A.x"
   ]
  },
  {
   "cell_type": "code",
   "execution_count": 103,
   "metadata": {},
   "outputs": [
    {
     "data": {
      "text/plain": [
       "2"
      ]
     },
     "execution_count": 103,
     "metadata": {},
     "output_type": "execute_result"
    }
   ],
   "source": [
    "B.x  # class B에 있음"
   ]
  },
  {
   "cell_type": "code",
   "execution_count": 216,
   "metadata": {},
   "outputs": [
    {
     "data": {
      "text/plain": [
       "True"
      ]
     },
     "execution_count": 216,
     "metadata": {},
     "output_type": "execute_result"
    }
   ],
   "source": [
    "A.xx is B.xx"
   ]
  },
  {
   "cell_type": "code",
   "execution_count": 104,
   "metadata": {},
   "outputs": [
    {
     "data": {
      "text/plain": [
       "1"
      ]
     },
     "execution_count": 104,
     "metadata": {},
     "output_type": "execute_result"
    }
   ],
   "source": [
    "B.xx  #classB없으면 상속받은 부모class확인  "
   ]
  },
  {
   "cell_type": "markdown",
   "metadata": {},
   "source": [
    "is와 == 는 다름       \n",
    "is : memory 번지까지 같은지 검사           \n",
    "== : 값이 같은지 검사하는 건가봐"
   ]
  },
  {
   "cell_type": "code",
   "execution_count": 13,
   "metadata": {},
   "outputs": [],
   "source": [
    "a = 1000\n",
    "b = 1000"
   ]
  },
  {
   "cell_type": "code",
   "execution_count": 14,
   "metadata": {},
   "outputs": [
    {
     "data": {
      "text/plain": [
       "True"
      ]
     },
     "execution_count": 14,
     "metadata": {},
     "output_type": "execute_result"
    }
   ],
   "source": [
    "a == b #값 비교"
   ]
  },
  {
   "cell_type": "code",
   "execution_count": 16,
   "metadata": {},
   "outputs": [
    {
     "data": {
      "text/plain": [
       "False"
      ]
     },
     "execution_count": 16,
     "metadata": {},
     "output_type": "execute_result"
    }
   ],
   "source": [
    "a is b"
   ]
  },
  {
   "cell_type": "code",
   "execution_count": 15,
   "metadata": {},
   "outputs": [
    {
     "name": "stdout",
     "output_type": "stream",
     "text": [
      "2743882849552\n",
      "2743882850160\n"
     ]
    }
   ],
   "source": [
    "print( id(a) )\n",
    "print( id(b) )\n",
    "#메모리 번지가 다름"
   ]
  },
  {
   "cell_type": "markdown",
   "metadata": {},
   "source": [
    "### interning\n",
    "- 5~256사이의 값은 메모리에서 cache 되어 동일한 메모리 공간을 갖음"
   ]
  },
  {
   "cell_type": "code",
   "execution_count": 206,
   "metadata": {},
   "outputs": [
    {
     "data": {
      "text/plain": [
       "True"
      ]
     },
     "execution_count": 206,
     "metadata": {},
     "output_type": "execute_result"
    }
   ],
   "source": [
    "a=257\n",
    "b=257  #256보다 크면 cache 되지 않아 다른 메모리 공간 \n",
    "a==b"
   ]
  },
  {
   "cell_type": "code",
   "execution_count": 207,
   "metadata": {},
   "outputs": [
    {
     "data": {
      "text/plain": [
       "False"
      ]
     },
     "execution_count": 207,
     "metadata": {},
     "output_type": "execute_result"
    }
   ],
   "source": [
    "a is b"
   ]
  },
  {
   "cell_type": "code",
   "execution_count": 205,
   "metadata": {},
   "outputs": [
    {
     "data": {
      "text/plain": [
       "(140549308499024, 140549308501808)"
      ]
     },
     "execution_count": 205,
     "metadata": {},
     "output_type": "execute_result"
    }
   ],
   "source": [
    "id(a),id(b)  #주소가 다름"
   ]
  },
  {
   "cell_type": "code",
   "execution_count": 201,
   "metadata": {},
   "outputs": [
    {
     "data": {
      "text/plain": [
       "True"
      ]
     },
     "execution_count": 201,
     "metadata": {},
     "output_type": "execute_result"
    }
   ],
   "source": [
    "c=245\n",
    "d=245\n",
    "c==d"
   ]
  },
  {
   "cell_type": "code",
   "execution_count": 202,
   "metadata": {},
   "outputs": [
    {
     "data": {
      "text/plain": [
       "True"
      ]
     },
     "execution_count": 202,
     "metadata": {},
     "output_type": "execute_result"
    }
   ],
   "source": [
    "c is d"
   ]
  },
  {
   "cell_type": "markdown",
   "metadata": {},
   "source": [
    "##### tf  Constant vs Variable 차이\n",
    "\n",
    "constant(상수)\n",
    "메모리속의 내부값 바꿀수 있는지 여부"
   ]
  },
  {
   "cell_type": "code",
   "execution_count": 209,
   "metadata": {},
   "outputs": [],
   "source": [
    "import tensorflow as tf"
   ]
  },
  {
   "cell_type": "code",
   "execution_count": 212,
   "metadata": {},
   "outputs": [
    {
     "ename": "AttributeError",
     "evalue": "'tensorflow.python.framework.ops.EagerTensor' object has no attribute 'assign'",
     "output_type": "error",
     "traceback": [
      "\u001b[0;31m---------------------------------------------------------------------------\u001b[0m",
      "\u001b[0;31mAttributeError\u001b[0m                            Traceback (most recent call last)",
      "\u001b[0;32m<ipython-input-212-d372c107cb35>\u001b[0m in \u001b[0;36m<module>\u001b[0;34m\u001b[0m\n\u001b[0;32m----> 1\u001b[0;31m \u001b[0ma\u001b[0m\u001b[0;34m.\u001b[0m\u001b[0massign\u001b[0m\u001b[0;34m(\u001b[0m\u001b[0;34m[\u001b[0m\u001b[0;36m3\u001b[0m\u001b[0;34m,\u001b[0m\u001b[0;36m4\u001b[0m\u001b[0;34m,\u001b[0m\u001b[0;36m5\u001b[0m\u001b[0;34m]\u001b[0m\u001b[0;34m)\u001b[0m\u001b[0;34m\u001b[0m\u001b[0;34m\u001b[0m\u001b[0m\n\u001b[0m\u001b[1;32m      2\u001b[0m \u001b[0ma\u001b[0m\u001b[0;34m\u001b[0m\u001b[0;34m\u001b[0m\u001b[0m\n",
      "\u001b[0;31mAttributeError\u001b[0m: 'tensorflow.python.framework.ops.EagerTensor' object has no attribute 'assign'"
     ]
    }
   ],
   "source": [
    "a=tf.constant([1,2,3])  #메모리 속에 박아두어있음\n",
    "a.assign([3,4,5])\n",
    "a"
   ]
  },
  {
   "cell_type": "code",
   "execution_count": 211,
   "metadata": {},
   "outputs": [
    {
     "data": {
      "text/plain": [
       "<tf.Variable 'Variable:0' shape=(3,) dtype=int32, numpy=array([3, 4, 5], dtype=int32)>"
      ]
     },
     "execution_count": 211,
     "metadata": {},
     "output_type": "execute_result"
    }
   ],
   "source": [
    "b=tf.Variable([1,2,3])\n",
    "b.assign([3,4,5])\n",
    "b"
   ]
  },
  {
   "cell_type": "markdown",
   "metadata": {},
   "source": [
    "### super 사전 내용\n",
    "\n",
    "파이썬에서는 함수 오버로딩 지원하지 않아 이름만 보기 때문에 형태 상관없이 오버라이딩 됨"
   ]
  },
  {
   "cell_type": "code",
   "execution_count": 105,
   "metadata": {},
   "outputs": [],
   "source": [
    "class A:\n",
    "    x=1\n",
    "    def y(self):\n",
    "        print('y')\n",
    "class B(A):\n",
    "    x=2            #오버라이딩\n",
    "    def y(self,a): #오버라이딩 \n",
    "        print(a)"
   ]
  },
  {
   "cell_type": "code",
   "execution_count": 106,
   "metadata": {},
   "outputs": [],
   "source": [
    "b=B()"
   ]
  },
  {
   "cell_type": "code",
   "execution_count": 107,
   "metadata": {},
   "outputs": [
    {
     "name": "stdout",
     "output_type": "stream",
     "text": [
      "3\n"
     ]
    }
   ],
   "source": [
    "b.y(3)   #형태는 다르지만 오버라이딩 됨"
   ]
  },
  {
   "cell_type": "code",
   "execution_count": 108,
   "metadata": {},
   "outputs": [
    {
     "ename": "TypeError",
     "evalue": "y() missing 1 required positional argument: 'a'",
     "output_type": "error",
     "traceback": [
      "\u001b[0;31m---------------------------------------------------------------------------\u001b[0m",
      "\u001b[0;31mTypeError\u001b[0m                                 Traceback (most recent call last)",
      "\u001b[0;32m<ipython-input-108-21ad1399a35e>\u001b[0m in \u001b[0;36m<module>\u001b[0;34m\u001b[0m\n\u001b[0;32m----> 1\u001b[0;31m \u001b[0mb\u001b[0m\u001b[0;34m.\u001b[0m\u001b[0my\u001b[0m\u001b[0;34m(\u001b[0m\u001b[0;34m)\u001b[0m\u001b[0;34m\u001b[0m\u001b[0;34m\u001b[0m\u001b[0m\n\u001b[0m",
      "\u001b[0;31mTypeError\u001b[0m: y() missing 1 required positional argument: 'a'"
     ]
    }
   ],
   "source": [
    "b.y()  # 오버라이딩 되어 Error발생"
   ]
  },
  {
   "cell_type": "markdown",
   "metadata": {},
   "source": [
    "부모의 기능 일부 사용하면서 내 기능 추가시키고 싶을때 2가지 방법\n",
    "(내 class에서 재정의할 특정 메소드의 경우인가봐)\n",
    "- 함수 방식\n",
    "- 메소드 방식\n",
    "\n",
    "\n",
    "1. 함수방식\n"
   ]
  },
  {
   "cell_type": "code",
   "execution_count": 109,
   "metadata": {},
   "outputs": [],
   "source": [
    "class A:\n",
    "    x=1\n",
    "    def y(self):\n",
    "        print('y')  \n",
    "class B(A):        # A 상속\n",
    "    x=2            #오버라이딩(재정의)\n",
    "    def y(self,a): #오버라이딩 \n",
    "        A.y(self)  #함수방식으로 기능 추가\n",
    "        #function 방식이라 self 꼭 써야함.\n",
    "        print(a)"
   ]
  },
  {
   "cell_type": "code",
   "execution_count": 110,
   "metadata": {},
   "outputs": [],
   "source": [
    "b=B()"
   ]
  },
  {
   "cell_type": "code",
   "execution_count": 111,
   "metadata": {},
   "outputs": [
    {
     "name": "stdout",
     "output_type": "stream",
     "text": [
      "y\n",
      "3\n"
     ]
    }
   ],
   "source": [
    "b.y(3) #부모기능 +내 기능 추가됨"
   ]
  },
  {
   "cell_type": "markdown",
   "metadata": {},
   "source": [
    "###### 2.메소드 방식\n",
    "    - 명확성 vs 간결성 문제\n",
    "        - 명확성 super(B,self).y()\n",
    "        - 간결성 super().y()"
   ]
  },
  {
   "cell_type": "markdown",
   "metadata": {},
   "source": [
    "python2,3 가능 "
   ]
  },
  {
   "cell_type": "code",
   "execution_count": 114,
   "metadata": {},
   "outputs": [],
   "source": [
    "class A:\n",
    "    x=1\n",
    "    def y(self):\n",
    "        print('y')\n",
    "class B(A):\n",
    "    x=2            \n",
    "    def y(self,a):\n",
    "        super(B,self).y()  #명확\n",
    "        print(a)"
   ]
  },
  {
   "cell_type": "markdown",
   "metadata": {},
   "source": [
    "python 3 가능"
   ]
  },
  {
   "cell_type": "code",
   "execution_count": 115,
   "metadata": {},
   "outputs": [],
   "source": [
    "class A:\n",
    "    x=1\n",
    "    def y(self):\n",
    "        print('y')\n",
    "class B(A):\n",
    "    x=2            \n",
    "    def y(self,a): \n",
    "        super().y()     #간결 (첫번째 인자 생략 가능)\n",
    "        print(a)"
   ]
  },
  {
   "cell_type": "code",
   "execution_count": 116,
   "metadata": {},
   "outputs": [
    {
     "name": "stdout",
     "output_type": "stream",
     "text": [
      "y\n",
      "3\n"
     ]
    }
   ],
   "source": [
    "b=B()\n",
    "b.y(3) "
   ]
  },
  {
   "cell_type": "markdown",
   "metadata": {},
   "source": [
    "- 부모의 [특정 기능]을 상속 시켜주고 싶은 경우 `부모 클래스.__init__(self)`\n",
    "- 중복되어 있음\n",
    "        <- |A|B|A|C|D| <- LIFO(Last in First out)\n",
    "          "
   ]
  },
  {
   "cell_type": "markdown",
   "metadata": {},
   "source": [
    "super 사용한 경우 , 직접 쓴 경우 차이점 확인해보기"
   ]
  },
  {
   "cell_type": "code",
   "execution_count": 17,
   "metadata": {},
   "outputs": [],
   "source": [
    "#super 사용하지 않고 직접 쓴 경우 차이점 확인해보기\n",
    "class A:\n",
    "    def __init__(self):\n",
    "        print('A')\n",
    "class B(A):\n",
    "    def __init__(self):\n",
    "        A.__init__(self)\n",
    "        print('B')\n",
    "class C(A):\n",
    "    def __init__(self):\n",
    "        A.__init__(self)\n",
    "        print('C')\n",
    "class D(B,C):\n",
    "    def __init__(self):\n",
    "        B.__init__(self)\n",
    "        C.__init__(self)\n",
    "        print('D')"
   ]
  },
  {
   "cell_type": "code",
   "execution_count": 127,
   "metadata": {},
   "outputs": [
    {
     "name": "stdout",
     "output_type": "stream",
     "text": [
      "A\n",
      "B\n",
      "A\n",
      "C\n",
      "D\n"
     ]
    }
   ],
   "source": [
    "d=D()  # A가 여러번 중복됨 -> super로 해결"
   ]
  },
  {
   "cell_type": "code",
   "execution_count": 129,
   "metadata": {},
   "outputs": [
    {
     "data": {
      "text/plain": [
       "(__main__.D, __main__.B, __main__.C, __main__.A, object)"
      ]
     },
     "execution_count": 129,
     "metadata": {},
     "output_type": "execute_result"
    }
   ],
   "source": [
    "D.__mro__"
   ]
  },
  {
   "cell_type": "markdown",
   "metadata": {},
   "source": [
    "### 3.5 super\n",
    "- 내부적으로 상속 체계를 mro 기반으로 파악해서 중복 되지 않도록 막아줌 \n",
    "- 상속체계는 stacking : 아래 D() 결과에서 C가 B보다 먼저 출력되는 이유\n",
    "            <- |A|C|B|D| <- (LIFO, Last in First out)"
   ]
  },
  {
   "cell_type": "code",
   "execution_count": 130,
   "metadata": {},
   "outputs": [],
   "source": [
    "#super 사용\n",
    "class A:\n",
    "    def __init__(self):\n",
    "        print('A')\n",
    "class B(A):\n",
    "    def __init__(self):\n",
    "        super().__init__()  #super로 교체\n",
    "        print('B')\n",
    "class C(A):\n",
    "    def __init__(self):\n",
    "        super().__init__()  #super로 교체\n",
    "        print('C')\n",
    "class D(B,C):\n",
    "    def __init__(self):\n",
    "        super().__init__()\n",
    "        print('D')"
   ]
  },
  {
   "cell_type": "code",
   "execution_count": 132,
   "metadata": {
    "scrolled": true
   },
   "outputs": [
    {
     "data": {
      "text/plain": [
       "(__main__.D, __main__.B, __main__.C, __main__.A, object)"
      ]
     },
     "execution_count": 132,
     "metadata": {},
     "output_type": "execute_result"
    }
   ],
   "source": [
    "D.__mro__"
   ]
  },
  {
   "cell_type": "code",
   "execution_count": 131,
   "metadata": {},
   "outputs": [
    {
     "name": "stdout",
     "output_type": "stream",
     "text": [
      "A\n",
      "C\n",
      "B\n",
      "D\n"
     ]
    }
   ],
   "source": [
    "d=D()"
   ]
  },
  {
   "cell_type": "markdown",
   "metadata": {},
   "source": [
    "### 다중상속\n",
    "- scikitlearn은 다중 방속 방지용으로 `...Mixin` 사용 \n",
    "\n",
    "### Mixin\n",
    "- 이름을 다 다르게하여 충돌을 방지하게 되므로 충돌없이 기능을 여러개 만들어 놓고 특정 기능을 물려받을 수있음\n",
    "- Ruby에서 차용 \n",
    "- 다중상속으로 기능 확장 "
   ]
  },
  {
   "cell_type": "code",
   "execution_count": 4,
   "metadata": {},
   "outputs": [],
   "source": [
    "from sklearn.base import BaseEstimator,ClassifierMixin\n",
    "from sklearn.neighbors import KNeighborsClassifier\n",
    "import inspect"
   ]
  },
  {
   "cell_type": "markdown",
   "metadata": {},
   "source": [
    "다중상속 되어 있음 \n",
    "- `class KNeighborsClassifier(NeighborsBase, KNeighborsMixin, SupervisedIntegerMixin,ClassifierMixin)`"
   ]
  },
  {
   "cell_type": "code",
   "execution_count": 3,
   "metadata": {},
   "outputs": [
    {
     "name": "stdout",
     "output_type": "stream",
     "text": [
      "class KNeighborsClassifier(NeighborsBase, KNeighborsMixin,\n",
      "                           SupervisedIntegerMixin, ClassifierMixin):\n",
      "    \"\"\"Classifier implementing the k-nearest neighbors vote.\n",
      "\n",
      "    Read more in the :ref:`User Guide <classification>`.\n",
      "\n",
      "    Parameters\n",
      "    ----------\n",
      "    n_neighbors : int, optional (default = 5)\n",
      "        Number of neighbors to use by default for :meth:`kneighbors` queries.\n",
      "\n",
      "    weights : str or callable, optional (default = 'uniform')\n",
      "        weight function used in prediction.  Possible values:\n",
      "\n",
      "        - 'uniform' : uniform weights.  All points in each neighborhood\n",
      "          are weighted equally.\n",
      "        - 'distance' : weight points by the inverse of their distance.\n",
      "          in this case, closer neighbors of a query point will have a\n",
      "          greater influence than neighbors which are further away.\n",
      "        - [callable] : a user-defined function which accepts an\n",
      "          array of distances, and returns an array of the same shape\n",
      "          containing the weights.\n",
      "\n",
      "    algorithm : {'auto', 'ball_tree', 'kd_tree', 'brute'}, optional\n",
      "        Algorithm used to compute the nearest neighbors:\n",
      "\n",
      "        - 'ball_tree' will use :class:`BallTree`\n",
      "        - 'kd_tree' will use :class:`KDTree`\n",
      "        - 'brute' will use a brute-force search.\n",
      "        - 'auto' will attempt to decide the most appropriate algorithm\n",
      "          based on the values passed to :meth:`fit` method.\n",
      "\n",
      "        Note: fitting on sparse input will override the setting of\n",
      "        this parameter, using brute force.\n",
      "\n",
      "    leaf_size : int, optional (default = 30)\n",
      "        Leaf size passed to BallTree or KDTree.  This can affect the\n",
      "        speed of the construction and query, as well as the memory\n",
      "        required to store the tree.  The optimal value depends on the\n",
      "        nature of the problem.\n",
      "\n",
      "    p : integer, optional (default = 2)\n",
      "        Power parameter for the Minkowski metric. When p = 1, this is\n",
      "        equivalent to using manhattan_distance (l1), and euclidean_distance\n",
      "        (l2) for p = 2. For arbitrary p, minkowski_distance (l_p) is used.\n",
      "\n",
      "    metric : string or callable, default 'minkowski'\n",
      "        the distance metric to use for the tree.  The default metric is\n",
      "        minkowski, and with p=2 is equivalent to the standard Euclidean\n",
      "        metric. See the documentation of the DistanceMetric class for a\n",
      "        list of available metrics.\n",
      "        If metric is \"precomputed\", X is assumed to be a distance matrix and\n",
      "        must be square during fit. X may be a :term:`Glossary <sparse graph>`,\n",
      "        in which case only \"nonzero\" elements may be considered neighbors.\n",
      "\n",
      "    metric_params : dict, optional (default = None)\n",
      "        Additional keyword arguments for the metric function.\n",
      "\n",
      "    n_jobs : int or None, optional (default=None)\n",
      "        The number of parallel jobs to run for neighbors search.\n",
      "        ``None`` means 1 unless in a :obj:`joblib.parallel_backend` context.\n",
      "        ``-1`` means using all processors. See :term:`Glossary <n_jobs>`\n",
      "        for more details.\n",
      "        Doesn't affect :meth:`fit` method.\n",
      "\n",
      "    Attributes\n",
      "    ----------\n",
      "    classes_ : array of shape (n_classes,)\n",
      "        Class labels known to the classifier\n",
      "\n",
      "    effective_metric_ : string or callble\n",
      "        The distance metric used. It will be same as the `metric` parameter\n",
      "        or a synonym of it, e.g. 'euclidean' if the `metric` parameter set to\n",
      "        'minkowski' and `p` parameter set to 2.\n",
      "\n",
      "    effective_metric_params_ : dict\n",
      "        Additional keyword arguments for the metric function. For most metrics\n",
      "        will be same with `metric_params` parameter, but may also contain the\n",
      "        `p` parameter value if the `effective_metric_` attribute is set to\n",
      "        'minkowski'.\n",
      "\n",
      "    outputs_2d_ : bool\n",
      "        False when `y`'s shape is (n_samples, ) or (n_samples, 1) during fit\n",
      "        otherwise True.\n",
      "\n",
      "    Examples\n",
      "    --------\n",
      "    >>> X = [[0], [1], [2], [3]]\n",
      "    >>> y = [0, 0, 1, 1]\n",
      "    >>> from sklearn.neighbors import KNeighborsClassifier\n",
      "    >>> neigh = KNeighborsClassifier(n_neighbors=3)\n",
      "    >>> neigh.fit(X, y)\n",
      "    KNeighborsClassifier(...)\n",
      "    >>> print(neigh.predict([[1.1]]))\n",
      "    [0]\n",
      "    >>> print(neigh.predict_proba([[0.9]]))\n",
      "    [[0.66666667 0.33333333]]\n",
      "\n",
      "    See also\n",
      "    --------\n",
      "    RadiusNeighborsClassifier\n",
      "    KNeighborsRegressor\n",
      "    RadiusNeighborsRegressor\n",
      "    NearestNeighbors\n",
      "\n",
      "    Notes\n",
      "    -----\n",
      "    See :ref:`Nearest Neighbors <neighbors>` in the online documentation\n",
      "    for a discussion of the choice of ``algorithm`` and ``leaf_size``.\n",
      "\n",
      "    .. warning::\n",
      "\n",
      "       Regarding the Nearest Neighbors algorithms, if it is found that two\n",
      "       neighbors, neighbor `k+1` and `k`, have identical distances\n",
      "       but different labels, the results will depend on the ordering of the\n",
      "       training data.\n",
      "\n",
      "    https://en.wikipedia.org/wiki/K-nearest_neighbor_algorithm\n",
      "    \"\"\"\n",
      "\n",
      "    def __init__(self, n_neighbors=5,\n",
      "                 weights='uniform', algorithm='auto', leaf_size=30,\n",
      "                 p=2, metric='minkowski', metric_params=None, n_jobs=None,\n",
      "                 **kwargs):\n",
      "        super().__init__(\n",
      "            n_neighbors=n_neighbors,\n",
      "            algorithm=algorithm,\n",
      "            leaf_size=leaf_size, metric=metric, p=p,\n",
      "            metric_params=metric_params,\n",
      "            n_jobs=n_jobs, **kwargs)\n",
      "        self.weights = _check_weights(weights)\n",
      "\n",
      "    def predict(self, X):\n",
      "        \"\"\"Predict the class labels for the provided data.\n",
      "\n",
      "        Parameters\n",
      "        ----------\n",
      "        X : array-like, shape (n_queries, n_features), \\\n",
      "                or (n_queries, n_indexed) if metric == 'precomputed'\n",
      "            Test samples.\n",
      "\n",
      "        Returns\n",
      "        -------\n",
      "        y : array of shape [n_queries] or [n_queries, n_outputs]\n",
      "            Class labels for each data sample.\n",
      "        \"\"\"\n",
      "        X = check_array(X, accept_sparse='csr')\n",
      "\n",
      "        neigh_dist, neigh_ind = self.kneighbors(X)\n",
      "        classes_ = self.classes_\n",
      "        _y = self._y\n",
      "        if not self.outputs_2d_:\n",
      "            _y = self._y.reshape((-1, 1))\n",
      "            classes_ = [self.classes_]\n",
      "\n",
      "        n_outputs = len(classes_)\n",
      "        n_queries = _num_samples(X)\n",
      "        weights = _get_weights(neigh_dist, self.weights)\n",
      "\n",
      "        y_pred = np.empty((n_queries, n_outputs), dtype=classes_[0].dtype)\n",
      "        for k, classes_k in enumerate(classes_):\n",
      "            if weights is None:\n",
      "                mode, _ = stats.mode(_y[neigh_ind, k], axis=1)\n",
      "            else:\n",
      "                mode, _ = weighted_mode(_y[neigh_ind, k], weights, axis=1)\n",
      "\n",
      "            mode = np.asarray(mode.ravel(), dtype=np.intp)\n",
      "            y_pred[:, k] = classes_k.take(mode)\n",
      "\n",
      "        if not self.outputs_2d_:\n",
      "            y_pred = y_pred.ravel()\n",
      "\n",
      "        return y_pred\n",
      "\n",
      "    def predict_proba(self, X):\n",
      "        \"\"\"Return probability estimates for the test data X.\n",
      "\n",
      "        Parameters\n",
      "        ----------\n",
      "        X : array-like, shape (n_queries, n_features), \\\n",
      "                or (n_queries, n_indexed) if metric == 'precomputed'\n",
      "            Test samples.\n",
      "\n",
      "        Returns\n",
      "        -------\n",
      "        p : array of shape = [n_queries, n_classes], or a list of n_outputs\n",
      "            of such arrays if n_outputs > 1.\n",
      "            The class probabilities of the input samples. Classes are ordered\n",
      "            by lexicographic order.\n",
      "        \"\"\"\n",
      "        X = check_array(X, accept_sparse='csr')\n",
      "\n",
      "        neigh_dist, neigh_ind = self.kneighbors(X)\n",
      "\n",
      "        classes_ = self.classes_\n",
      "        _y = self._y\n",
      "        if not self.outputs_2d_:\n",
      "            _y = self._y.reshape((-1, 1))\n",
      "            classes_ = [self.classes_]\n",
      "\n",
      "        n_queries = _num_samples(X)\n",
      "\n",
      "        weights = _get_weights(neigh_dist, self.weights)\n",
      "        if weights is None:\n",
      "            weights = np.ones_like(neigh_ind)\n",
      "\n",
      "        all_rows = np.arange(X.shape[0])\n",
      "        probabilities = []\n",
      "        for k, classes_k in enumerate(classes_):\n",
      "            pred_labels = _y[:, k][neigh_ind]\n",
      "            proba_k = np.zeros((n_queries, classes_k.size))\n",
      "\n",
      "            # a simple ':' index doesn't work right\n",
      "            for i, idx in enumerate(pred_labels.T):  # loop is O(n_neighbors)\n",
      "                proba_k[all_rows, idx] += weights[:, i]\n",
      "\n",
      "            # normalize 'votes' into real [0,1] probabilities\n",
      "            normalizer = proba_k.sum(axis=1)[:, np.newaxis]\n",
      "            normalizer[normalizer == 0.0] = 1.0\n",
      "            proba_k /= normalizer\n",
      "\n",
      "            probabilities.append(proba_k)\n",
      "\n",
      "        if not self.outputs_2d_:\n",
      "            probabilities = probabilities[0]\n",
      "\n",
      "        return probabilities\n",
      "\n"
     ]
    }
   ],
   "source": [
    "print(inspect.getsource(KNeighborsClassifier)) #다중상속"
   ]
  },
  {
   "cell_type": "code",
   "execution_count": 5,
   "metadata": {},
   "outputs": [
    {
     "name": "stdout",
     "output_type": "stream",
     "text": [
      "class ClassifierMixin:\n",
      "    \"\"\"Mixin class for all classifiers in scikit-learn.\"\"\"\n",
      "\n",
      "    _estimator_type = \"classifier\"\n",
      "\n",
      "    def score(self, X, y, sample_weight=None):\n",
      "        \"\"\"\n",
      "        Return the mean accuracy on the given test data and labels.\n",
      "\n",
      "        In multi-label classification, this is the subset accuracy\n",
      "        which is a harsh metric since you require for each sample that\n",
      "        each label set be correctly predicted.\n",
      "\n",
      "        Parameters\n",
      "        ----------\n",
      "        X : array-like of shape (n_samples, n_features)\n",
      "            Test samples.\n",
      "\n",
      "        y : array-like of shape (n_samples,) or (n_samples, n_outputs)\n",
      "            True labels for X.\n",
      "\n",
      "        sample_weight : array-like of shape (n_samples,), default=None\n",
      "            Sample weights.\n",
      "\n",
      "        Returns\n",
      "        -------\n",
      "        score : float\n",
      "            Mean accuracy of self.predict(X) wrt. y.\n",
      "        \"\"\"\n",
      "        from .metrics import accuracy_score\n",
      "        return accuracy_score(y, self.predict(X), sample_weight=sample_weight)\n",
      "\n"
     ]
    }
   ],
   "source": [
    "print(inspect.getsource(ClassifierMixin)) #내부에서 사용"
   ]
  },
  {
   "cell_type": "markdown",
   "metadata": {},
   "source": [
    "상속은 실수 하기 좋고 유지 보수 어려움\n",
    "\n",
    "\n",
    "### 4. composition\n",
    "- 다중상속을 대체용,상속 자체를 composition 하면 피함\n",
    "- 내 클래스 안에서 상속할 class를 instance로 가져 다중 상속 막고 , 내 안에서 관리 가능\n",
    "- 유지 보수 편하고 남의 기능 가져다 쓸 수 있음\n",
    "- 조건문 넣어 상속 기능 사용 여부 유연하게 결정 가능\n",
    "\n",
    "\n",
    "composition 사용 이유\n",
    "- 다중 상속 안하려고(tensorflow에선 다중 상속 안좋아함)\n",
    "- 다중 상속의 대용품, 상속 자체를 compostion 쓰면 피할 수 있음\n",
    "- c++에도 composition 있음"
   ]
  },
  {
   "cell_type": "markdown",
   "metadata": {},
   "source": [
    "1.상속하고 만드는 법              \n",
    "2.상속 안하고 만드는 법               \n",
    "3.composition 방식                 \n",
    "순으로 비교할 예정 \n",
    "\n",
    "Door 기본 기능에 lock기능을 만드는 SecurityDoor추가 예시"
   ]
  },
  {
   "cell_type": "code",
   "execution_count": 18,
   "metadata": {},
   "outputs": [],
   "source": [
    "#기본 기능\n",
    "class Door:\n",
    "    def __init__(self,number,status):\n",
    "        self.number = number\n",
    "        self.status = status\n",
    "    def open(self):\n",
    "        self.status = 'open'\n",
    "    def close(self):\n",
    "        self.status = 'close'"
   ]
  },
  {
   "cell_type": "code",
   "execution_count": 19,
   "metadata": {},
   "outputs": [],
   "source": [
    "d = Door(1,open)"
   ]
  },
  {
   "cell_type": "code",
   "execution_count": 20,
   "metadata": {},
   "outputs": [
    {
     "data": {
      "text/plain": [
       "<bound method Door.open of <__main__.Door object at 0x0000027EDC27DFC8>>"
      ]
     },
     "execution_count": 20,
     "metadata": {},
     "output_type": "execute_result"
    }
   ],
   "source": [
    "d.open"
   ]
  },
  {
   "cell_type": "markdown",
   "metadata": {},
   "source": [
    "Door에 lock기능을 만드는 SecurityDoor추가\n",
    "1. 상속 하고 만드는 법"
   ]
  },
  {
   "cell_type": "code",
   "execution_count": 141,
   "metadata": {},
   "outputs": [],
   "source": [
    "class SecurityDoor(Door):\n",
    "    locked=True\n",
    "    def open(self):\n",
    "        if not self.locked:\n",
    "            self.status='open'"
   ]
  },
  {
   "cell_type": "markdown",
   "metadata": {},
   "source": [
    "[위와 동일 - 배웠던거 활용해서 사용하기위해 하단과 같이 작성](#2.메소드-방식)    \n",
    "메소드 방식     \n",
    "부모의 메소드의 기능 사용하며 내가 재정의한 메소드도 함께 사용 가능 "
   ]
  },
  {
   "cell_type": "code",
   "execution_count": 23,
   "metadata": {},
   "outputs": [],
   "source": [
    "class SecurityDoor(Door):\n",
    "    locked=True\n",
    "    def open(self):\n",
    "        if self.locked: \n",
    "            return       # 잠겨있으면 안 열려고 return\n",
    "        super().open()"
   ]
  },
  {
   "cell_type": "markdown",
   "metadata": {},
   "source": [
    "2. 상속을 안하고 만드는 법\n",
    "    - 상속을 안하니 코드가 길어짐"
   ]
  },
  {
   "cell_type": "code",
   "execution_count": 142,
   "metadata": {},
   "outputs": [],
   "source": [
    "class SecurityDoor:\n",
    "    locked=True     #class attribute \n",
    "    def __init__(self,number,status):\n",
    "        self.number=number\n",
    "        self.status=status\n",
    "       # self.locked=True  # instance attr 없어서 class attr 찾음\n",
    "    def open(self):\n",
    "        if  self.locked: \n",
    "            return \n",
    "        self.status='open'\n",
    "    def close(self):\n",
    "        self.status='close'"
   ]
  },
  {
   "cell_type": "markdown",
   "metadata": {},
   "source": [
    "3. composition 방식\n",
    "    - 클래스안에 상솔할 클래스를 composition으로 갖음(상속할 class를 instance로 가진다.)\n",
    "    - 상속받을 기능에 객체를 인스턴스 시킴\n",
    "    - __init__에 상속 받을 클래스를 인스턴스하여 내부로 가져와서 내부에서 처리\n",
    "    - 모델과 관련되 레이어를 하나처럼 관리 \n",
    "    - call 연동시켜서 상속과 유지 보수 기능을 함께 관리\n",
    "    - function 안은 내부에 조건을 줄 수 있어서 상황에 맞추어 상속기능을 유연하게 사용\n",
    "    - 다른 클래스 접근 가능\n",
    "\n",
    "상속 받을 기능에 해당 객체 인스턴스받음\n",
    "상속할 클래스로  합성\n",
    "\n",
    "open 을 새로 정의하지 않고 내 안에 문을 open/close"
   ]
  },
  {
   "cell_type": "code",
   "execution_count": 143,
   "metadata": {},
   "outputs": [],
   "source": [
    "class SecurityDoor:\n",
    "    locked=True\n",
    "    def __init__(self,number,status):\n",
    "        self.door=Door(number,status)\n",
    "    def open(self):\n",
    "        if self.locked:\n",
    "            return\n",
    "        self.door.open()\n",
    "    \n",
    "    def close(self):\n",
    "        self.door.close()"
   ]
  },
  {
   "cell_type": "markdown",
   "metadata": {},
   "source": [
    "다중상속 대체함을 이해를 위한 예시\n",
    "\n",
    "\n",
    "### 4.2 \\_\\_getattr__\n",
    "- attribute error 나올때 실행되어 attribute 없으면 클래스 반환"
   ]
  },
  {
   "cell_type": "code",
   "execution_count": 16,
   "metadata": {},
   "outputs": [],
   "source": [
    "class A:\n",
    "    x=3\n",
    "    def __getattr__(self,attr):\n",
    "        #attribute error가 나올때 실행되게 하는 것\n",
    "        print('B')      "
   ]
  },
  {
   "cell_type": "code",
   "execution_count": 17,
   "metadata": {},
   "outputs": [],
   "source": [
    "a=A()"
   ]
  },
  {
   "cell_type": "code",
   "execution_count": 18,
   "metadata": {},
   "outputs": [
    {
     "name": "stdout",
     "output_type": "stream",
     "text": [
      "B\n"
     ]
    }
   ],
   "source": [
    "a.y #없는 attribute =>  attribute error 나와서 클래스를 반환함\n",
    "#A에 __getattr__없다면 attribute error가 났겠지만"
   ]
  },
  {
   "cell_type": "code",
   "execution_count": 150,
   "metadata": {
    "scrolled": false
   },
   "outputs": [
    {
     "data": {
      "text/plain": [
       "3"
      ]
     },
     "execution_count": 150,
     "metadata": {},
     "output_type": "execute_result"
    }
   ],
   "source": [
    "a.x"
   ]
  },
  {
   "cell_type": "code",
   "execution_count": null,
   "metadata": {},
   "outputs": [],
   "source": [
    "class Door:\n",
    "    def __init__(self,number,status):\n",
    "        self.number=number\n",
    "        self.status=status\n",
    "    def open(self):\n",
    "        self.status='open' #오버라이딩 할 것 임\n",
    "        \n",
    "    def close(self):\n",
    "        self.status='close'#오버라이딩 안할 것 임\n",
    "        print('close')\n",
    "    def close1(self):\n",
    "        self.status='close'\n",
    "        print('close1')\n",
    "    def close2(self):\n",
    "        self.status='close'\n",
    "        print('close2')"
   ]
  },
  {
   "cell_type": "markdown",
   "metadata": {},
   "source": [
    "SecurityDoor에서 open 오버라이딩, close ~close2 오버라이딩 안 함"
   ]
  },
  {
   "cell_type": "code",
   "execution_count": 161,
   "metadata": {},
   "outputs": [],
   "source": [
    "#close ~close 2 하단에 정의 안 한 상태\n",
    "class SecurityDoor:\n",
    "    locked=True \n",
    "    def __init__(self,number,status):\n",
    "        self.door=Door(number,status)\n",
    "    def open(self):\n",
    "        if self.locked:\n",
    "            return\n",
    "        self.door.open()\n",
    "    def __getattr__(self,attr):  #추가\n",
    "        return getattr(self.door,attr) \n",
    "        #attribute erro나면 door의 attr를 실행해라"
   ]
  },
  {
   "cell_type": "code",
   "execution_count": 162,
   "metadata": {},
   "outputs": [
    {
     "name": "stdout",
     "output_type": "stream",
     "text": [
      "close1\n"
     ]
    }
   ],
   "source": [
    "xx=SecurityDoor(1,'open')\n",
    "xx.close1() #__getattr__ 실행 되어 self.door.close1() 실행"
   ]
  },
  {
   "cell_type": "code",
   "execution_count": 163,
   "metadata": {},
   "outputs": [
    {
     "name": "stdout",
     "output_type": "stream",
     "text": [
      "close2\n"
     ]
    }
   ],
   "source": [
    "xx.close2()  #__getattr__ 실행 되어 self.door.close2() 실행"
   ]
  },
  {
   "cell_type": "markdown",
   "metadata": {},
   "source": [
    "오버라이딩 할거 필요 없으면 더 편하게 기본적인 상속\n",
    "- 오버라이딩만 추가하면 됨\n",
    "- 상속하지 않아도 상속처럼 사용 가능 "
   ]
  },
  {
   "cell_type": "code",
   "execution_count": null,
   "metadata": {},
   "outputs": [],
   "source": [
    "#컴포지션과 __getattr__ 사용한 경우\n",
    "#오버라이딩 할것이 없다면 그냥 이걸로 끝나는거야\n",
    "#오버라이딩 할게 있다면 그냥 추가만하고\n",
    "class CompositionDoor:\n",
    "    def __init__(self,number,status):\n",
    "        self.door=Door(number,status)\n",
    "    def __getattr__(self,attr):\n",
    "        return getattr(self.door,attr)         "
   ]
  },
  {
   "cell_type": "markdown",
   "metadata": {},
   "source": [
    "Conv2D 클래스(camel 방식) 를 인스턴스해서 집어 넣음\n",
    "- 다중상속 막고 내부에서 전체 관리를 할 수 있어 유지보수가 편함\n",
    "- 상속한것처럼 기능을 가져다 쓸 수 있음\n",
    "- design pattern의 한가지 방법\n",
    "\n",
    "tf 전문가를 위한 빠른 시작 참고 : https://www.tensorflow.org/tutorials/quickstart/advanced?hl=ko"
   ]
  },
  {
   "cell_type": "code",
   "execution_count": null,
   "metadata": {},
   "outputs": [],
   "source": [
    "class MyModel(Model):\n",
    "  def __init__(self):\n",
    "    super(MyModel, self).__init__()  #super().__init__() 과 동일\n",
    "    # composition - 다중상속 대체\n",
    "    self.conv1 = Conv2D(32, 3, activation='relu')\n",
    "    self.flatten = Flatten()\n",
    "    self.d1 = Dense(128, activation='relu')\n",
    "    self.d2 = Dense(10, activation='softmax')\n",
    "\n",
    "  def call(self, x):\n",
    "    x = self.conv1(x)\n",
    "    x = self.flatten(x)\n",
    "    x = self.d1(x)\n",
    "    return self.d2(x)\n",
    "\n",
    "model = MyModel()"
   ]
  },
  {
   "cell_type": "markdown",
   "metadata": {},
   "source": [
    "---\n",
    "\n",
    "### 5. 다형성\n",
    "- 객체지향의 polymorphism\n",
    "- 동일한 함수인데 다르게 행동함\n",
    "    - 메소드 명을 동일하게 해서 같은 모양의 코드가 다른 동작을 하도록 함"
   ]
  },
  {
   "cell_type": "code",
   "execution_count": 117,
   "metadata": {},
   "outputs": [],
   "source": [
    "import seaborn as sns\n",
    "iris=sns.load_dataset('iris')"
   ]
  },
  {
   "cell_type": "markdown",
   "metadata": {},
   "source": [
    "type을 사용했는데 결과는 바뀜"
   ]
  },
  {
   "cell_type": "code",
   "execution_count": 118,
   "metadata": {},
   "outputs": [
    {
     "data": {
      "text/plain": [
       "pandas.core.frame.DataFrame"
      ]
     },
     "execution_count": 118,
     "metadata": {},
     "output_type": "execute_result"
    }
   ],
   "source": [
    "type(iris)         #DataFrame"
   ]
  },
  {
   "cell_type": "code",
   "execution_count": 119,
   "metadata": {},
   "outputs": [
    {
     "data": {
      "text/plain": [
       "pandas.core.series.Series"
      ]
     },
     "execution_count": 119,
     "metadata": {},
     "output_type": "execute_result"
    }
   ],
   "source": [
    "type(iris.species) #Serie"
   ]
  },
  {
   "cell_type": "markdown",
   "metadata": {},
   "source": [
    "describe을 사용했는데 결과는 바뀜"
   ]
  },
  {
   "cell_type": "code",
   "execution_count": 120,
   "metadata": {},
   "outputs": [
    {
     "data": {
      "text/html": [
       "<div>\n",
       "<style scoped>\n",
       "    .dataframe tbody tr th:only-of-type {\n",
       "        vertical-align: middle;\n",
       "    }\n",
       "\n",
       "    .dataframe tbody tr th {\n",
       "        vertical-align: top;\n",
       "    }\n",
       "\n",
       "    .dataframe thead th {\n",
       "        text-align: right;\n",
       "    }\n",
       "</style>\n",
       "<table border=\"1\" class=\"dataframe\">\n",
       "  <thead>\n",
       "    <tr style=\"text-align: right;\">\n",
       "      <th></th>\n",
       "      <th>sepal_length</th>\n",
       "      <th>sepal_width</th>\n",
       "      <th>petal_length</th>\n",
       "      <th>petal_width</th>\n",
       "    </tr>\n",
       "  </thead>\n",
       "  <tbody>\n",
       "    <tr>\n",
       "      <th>count</th>\n",
       "      <td>150.000000</td>\n",
       "      <td>150.000000</td>\n",
       "      <td>150.000000</td>\n",
       "      <td>150.000000</td>\n",
       "    </tr>\n",
       "    <tr>\n",
       "      <th>mean</th>\n",
       "      <td>5.843333</td>\n",
       "      <td>3.057333</td>\n",
       "      <td>3.758000</td>\n",
       "      <td>1.199333</td>\n",
       "    </tr>\n",
       "    <tr>\n",
       "      <th>std</th>\n",
       "      <td>0.828066</td>\n",
       "      <td>0.435866</td>\n",
       "      <td>1.765298</td>\n",
       "      <td>0.762238</td>\n",
       "    </tr>\n",
       "    <tr>\n",
       "      <th>min</th>\n",
       "      <td>4.300000</td>\n",
       "      <td>2.000000</td>\n",
       "      <td>1.000000</td>\n",
       "      <td>0.100000</td>\n",
       "    </tr>\n",
       "    <tr>\n",
       "      <th>25%</th>\n",
       "      <td>5.100000</td>\n",
       "      <td>2.800000</td>\n",
       "      <td>1.600000</td>\n",
       "      <td>0.300000</td>\n",
       "    </tr>\n",
       "    <tr>\n",
       "      <th>50%</th>\n",
       "      <td>5.800000</td>\n",
       "      <td>3.000000</td>\n",
       "      <td>4.350000</td>\n",
       "      <td>1.300000</td>\n",
       "    </tr>\n",
       "    <tr>\n",
       "      <th>75%</th>\n",
       "      <td>6.400000</td>\n",
       "      <td>3.300000</td>\n",
       "      <td>5.100000</td>\n",
       "      <td>1.800000</td>\n",
       "    </tr>\n",
       "    <tr>\n",
       "      <th>max</th>\n",
       "      <td>7.900000</td>\n",
       "      <td>4.400000</td>\n",
       "      <td>6.900000</td>\n",
       "      <td>2.500000</td>\n",
       "    </tr>\n",
       "  </tbody>\n",
       "</table>\n",
       "</div>"
      ],
      "text/plain": [
       "       sepal_length  sepal_width  petal_length  petal_width\n",
       "count    150.000000   150.000000    150.000000   150.000000\n",
       "mean       5.843333     3.057333      3.758000     1.199333\n",
       "std        0.828066     0.435866      1.765298     0.762238\n",
       "min        4.300000     2.000000      1.000000     0.100000\n",
       "25%        5.100000     2.800000      1.600000     0.300000\n",
       "50%        5.800000     3.000000      4.350000     1.300000\n",
       "75%        6.400000     3.300000      5.100000     1.800000\n",
       "max        7.900000     4.400000      6.900000     2.500000"
      ]
     },
     "execution_count": 120,
     "metadata": {},
     "output_type": "execute_result"
    }
   ],
   "source": [
    "iris.describe()"
   ]
  },
  {
   "cell_type": "code",
   "execution_count": 121,
   "metadata": {},
   "outputs": [
    {
     "data": {
      "text/plain": [
       "count        150\n",
       "unique         3\n",
       "top       setosa\n",
       "freq          50\n",
       "Name: species, dtype: object"
      ]
     },
     "execution_count": 121,
     "metadata": {},
     "output_type": "execute_result"
    }
   ],
   "source": [
    "iris.species.describe()"
   ]
  }
 ],
 "metadata": {
  "kernelspec": {
   "display_name": "Python 3",
   "language": "python",
   "name": "python3"
  },
  "language_info": {
   "codemirror_mode": {
    "name": "ipython",
    "version": 3
   },
   "file_extension": ".py",
   "mimetype": "text/x-python",
   "name": "python",
   "nbconvert_exporter": "python",
   "pygments_lexer": "ipython3",
   "version": "3.7.7"
  }
 },
 "nbformat": 4,
 "nbformat_minor": 4
}
